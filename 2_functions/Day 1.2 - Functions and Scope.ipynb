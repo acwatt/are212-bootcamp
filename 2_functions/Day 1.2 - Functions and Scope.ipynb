{
 "cells": [
  {
   "cell_type": "markdown",
   "id": "8ee1e5a5",
   "metadata": {},
   "source": [
    "## Part 1: Defining and using functions"
   ]
  },
  {
   "cell_type": "code",
   "execution_count": null,
   "id": "bd1279bf",
   "metadata": {},
   "outputs": [],
   "source": []
  },
  {
   "cell_type": "markdown",
   "id": "3f4c7d8b",
   "metadata": {},
   "source": [
    "## Part 2: Lambda functions (anonymous functions)"
   ]
  },
  {
   "cell_type": "code",
   "execution_count": null,
   "id": "6b027a38",
   "metadata": {},
   "outputs": [],
   "source": []
  },
  {
   "cell_type": "markdown",
   "id": "4e51a436",
   "metadata": {},
   "source": [
    "## Part 3: Function inception (functions in functions)"
   ]
  },
  {
   "cell_type": "code",
   "execution_count": null,
   "id": "14caa426",
   "metadata": {},
   "outputs": [],
   "source": []
  },
  {
   "cell_type": "code",
   "execution_count": null,
   "id": "92b70447",
   "metadata": {},
   "outputs": [],
   "source": []
  },
  {
   "cell_type": "code",
   "execution_count": null,
   "id": "2d94d837",
   "metadata": {},
   "outputs": [],
   "source": []
  },
  {
   "cell_type": "code",
   "execution_count": null,
   "id": "8e9da390",
   "metadata": {},
   "outputs": [],
   "source": [
    "# put function and variable call here that violate scope as a segue to scope"
   ]
  },
  {
   "cell_type": "markdown",
   "id": "043377cd",
   "metadata": {},
   "source": [
    "## Part 4: Scope and Namespace\n",
    "In python, variables can only be accessed by their name when you are \"at\" the appropriate location to call them. Think of using / calling variables like yelling their name and hoping they respond. If we created a variable outside, then it can essentially trae\n",
    "\n",
    "Consider the below diagram. Here's what variables live where:\n",
    "- **Built-in**: variables that exist when we first start python. Special constants like True, False, and None are built-in. `print()` is a built in function, which is why you can immediately call it.\n",
    "- **Global**: variables, functions, and classes that we define in the main body of our code. All the string- and number-type variables from notebook 1.1, as well as the functions above, are in the global scope.\n",
    "- **Enclosing**: This is only applies for functions inside of other functions (we'll do this next)\n",
    "- **Local**: variables defined in functions and classes. `y` and `i` defined in the last loop above are both defined in the local scope.\n",
    "\n",
    "\n",
    "In the diagram, we can only access variables that are in a lower / wider scope. So while we're in a `for` loop, we can access the variables defined inside that `for` loop (in the local scope) and variables defined in wider scopes. But outside that `for` loop, we are now in global scope and cannot access variables in a more narrow scope like those defined in the `for` loop."
   ]
  },
  {
   "cell_type": "markdown",
   "id": "0b259399",
   "metadata": {},
   "source": [
    "![Scope diagram](https://res.cloudinary.com/dyd911kmh/image/upload/f_auto,q_auto:best/v1588956604/Scope_fbrzcw.png)"
   ]
  },
  {
   "cell_type": "markdown",
   "id": "1a196853",
   "metadata": {},
   "source": [
    "This is also called \"namespace\":<br>\n",
    "![namespace](https://media.geeksforgeeks.org/wp-content/uploads/types_namespace-1.png)"
   ]
  },
  {
   "cell_type": "markdown",
   "id": "db029bde",
   "metadata": {},
   "source": [
    "It's very important to understand; here's more tutorials: [RealPython](https://realpython.com/python-scope-legb-rule/), [GeeksForGeeks](https://www.geeksforgeeks.org/python-scope-of-variables/), and [W3 Schools](https://www.w3schools.com/python/python_scope.asp) tutorials on scope.\n",
    "\n",
    "<br><br>\n",
    "Here's another example to clarify:"
   ]
  },
  {
   "cell_type": "code",
   "execution_count": 2,
   "id": "e4c7c9ed",
   "metadata": {},
   "outputs": [
    {
     "ename": "SyntaxError",
     "evalue": "invalid syntax (1621262573.py, line 3)",
     "output_type": "error",
     "traceback": [
      "\u001b[0;36m  File \u001b[0;32m\"/tmp/ipykernel_225903/1621262573.py\"\u001b[0;36m, line \u001b[0;32m3\u001b[0m\n\u001b[0;31m    >>> def square(base):\u001b[0m\n\u001b[0m     ^\u001b[0m\n\u001b[0;31mSyntaxError\u001b[0m\u001b[0;31m:\u001b[0m invalid syntax\n"
     ]
    }
   ],
   "source": [
    "# put function example here, from https://realpython.com/python-scope-legb-rule/#using-the-legb-rule-for-python-scope\n",
    "\n",
    ">>> def square(base):\n",
    "...     result = base ** 2\n",
    "...     print(f'The square of {base} is: {result}')\n",
    "...\n",
    ">>> square(10)\n",
    "The square of 10 is: 100\n",
    ">>> result  # Isn't accessible from outside square()\n",
    "\n",
    ">>> base  # Isn't accessible from outside square()\n",
    "\n",
    ">>> square(20)\n",
    "The square of 20 is: 400"
   ]
  },
  {
   "cell_type": "code",
   "execution_count": null,
   "id": "2b765305",
   "metadata": {},
   "outputs": [],
   "source": []
  },
  {
   "cell_type": "code",
   "execution_count": null,
   "id": "13ff722b",
   "metadata": {},
   "outputs": [],
   "source": []
  }
 ],
 "metadata": {
  "kernelspec": {
   "display_name": "Python 3 (ipykernel)",
   "language": "python",
   "name": "python3"
  },
  "language_info": {
   "codemirror_mode": {
    "name": "ipython",
    "version": 3
   },
   "file_extension": ".py",
   "mimetype": "text/x-python",
   "name": "python",
   "nbconvert_exporter": "python",
   "pygments_lexer": "ipython3",
   "version": "3.7.12"
  }
 },
 "nbformat": 4,
 "nbformat_minor": 5
}
