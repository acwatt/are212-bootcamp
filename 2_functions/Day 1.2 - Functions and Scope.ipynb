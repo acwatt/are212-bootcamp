{
 "cells": [
  {
   "cell_type": "markdown",
   "id": "ec051177",
   "metadata": {},
   "source": [
    "<a id='top'></a>\n",
    "# Day 1.2: Functions and Scope\n",
    "Date: 03/15/2022\n",
    "Author: Aaron Watt\n",
    "\n",
    "Goal: Show how python functions work and how python deals with naming conflicts. We will\n",
    "- [Part 1](#define_functions): Defining, calling, passing functions\n",
    "- [Part 2](#scope): Scope -- where does python look for object names?\n",
    "- [Part 3](#lambda): Lambda functions (anonymous functions)\n",
    "- [Part 4](#inner_functions): Defining functions inside of other functions\n",
    "- [Part 5](#function_example): A more complex function example\n",
    "\n",
    "[Appendix](#memory): removing objects from memory\n",
    "\n",
    "<br><br><br><br><br>"
   ]
  },
  {
   "cell_type": "markdown",
   "id": "8ee1e5a5",
   "metadata": {},
   "source": [
    "<a id='define_functions'></a>\n",
    "# Part 1: Defining and using functions\n",
    "\n",
    "Functions allow us to reuse code with different inputs. The syntax is very close to the syntax of a mathematical function with arguments (called `args`):\n",
    "\n",
    "```python\n",
    "def function_name(args):\n",
    "    \"\"\"docstring: a description of what the function does\"\"\"\n",
    "    \n",
    "    write code here\n",
    "    \n",
    "    return values here  # this would be the output of the function\n",
    "```\n",
    "\n",
    "\n",
    "\n",
    "\n",
    "\n",
    "\n",
    "\n",
    "\n",
    "\n",
    "\n",
    "Here's an example:"
   ]
  },
  {
   "cell_type": "code",
   "execution_count": null,
   "id": "bd1279bf",
   "metadata": {},
   "outputs": [],
   "source": [
    "# Define function\n",
    "def subtract_function(x, y):\n",
    "    \"\"\"Return the difference between x and y.\"\"\"\n",
    "    z = x - y\n",
    "    return z"
   ]
  },
  {
   "cell_type": "markdown",
   "id": "92e5bd9c",
   "metadata": {},
   "source": [
    "<br><br><br><br><br><br><br>\n",
    "With this function, we can do this same subtract operation for many different values:"
   ]
  },
  {
   "cell_type": "code",
   "execution_count": null,
   "id": "5fa7520e",
   "metadata": {},
   "outputs": [],
   "source": [
    "# Call the function using the order of arguments\n",
    "x1 = 5\n",
    "for y1 in range(5):\n",
    "    z1 = subtract_function(x1, y1)  # order matters\n",
    "    print(z1)"
   ]
  },
  {
   "cell_type": "markdown",
   "id": "35e47dec",
   "metadata": {},
   "source": [
    "\n",
    "<br><br>\n",
    "\n",
    "We can also use the names of the inputs so we don't get the order confused:"
   ]
  },
  {
   "cell_type": "code",
   "execution_count": null,
   "id": "c83b22b3",
   "metadata": {},
   "outputs": [],
   "source": [
    "# Call the function using the names of the arguments\n",
    "x1 = 5\n",
    "for y1 in range(5):\n",
    "    z1 = subtract_function(y=y1, x=x1)  # use names defined in function\n",
    "    print(z1)"
   ]
  },
  {
   "cell_type": "markdown",
   "id": "9694c437",
   "metadata": {},
   "source": [
    "<br><br><br><br><br><br>\n",
    "## Assigning default values\n",
    "\n",
    "We may want our function to take default values. We can do that with this syntax:\n",
    "```python\n",
    "def function_name(arg, keyword_arg = 10):\n",
    "    \n",
    "    do codey things here\n",
    "    \n",
    "    return values here  # this would be the output of the function\n",
    "```\n",
    "<br>\n",
    "These keyword arguments have the following rules and behavior:\n",
    "\n",
    "- They are optional. You can call the function with or without them.\n",
    "- If the function is called without them, they will use the default value (10 in the above example).\n",
    "- When defining the function, they need to be defined after the regular `args`.\n",
    "\n",
    "\n",
    "<br><br>\n",
    "Here's an example:"
   ]
  },
  {
   "cell_type": "code",
   "execution_count": null,
   "id": "d81ff17b",
   "metadata": {},
   "outputs": [],
   "source": [
    "def subtract_function2(x=10, y=5):\n",
    "    z = x - y\n",
    "    return z"
   ]
  },
  {
   "cell_type": "markdown",
   "id": "3b7cfb0f",
   "metadata": {},
   "source": [
    "<br><br><br><br>\n",
    "We can all this function with both keyword arguments:"
   ]
  },
  {
   "cell_type": "code",
   "execution_count": null,
   "id": "2903a0c1",
   "metadata": {},
   "outputs": [],
   "source": [
    "subtract_function2(x=2, y=1)"
   ]
  },
  {
   "cell_type": "markdown",
   "id": "0fdb771a",
   "metadata": {},
   "source": [
    "<br><br>\n",
    "We can call it without any of the arguments:"
   ]
  },
  {
   "cell_type": "code",
   "execution_count": null,
   "id": "fffe6d13",
   "metadata": {},
   "outputs": [],
   "source": [
    "subtract_function2()"
   ]
  },
  {
   "cell_type": "markdown",
   "id": "17db7e14",
   "metadata": {},
   "source": [
    "<br><br><br><br><br><br>\n",
    "## Passing around functions as objects\n",
    "\n",
    "\n",
    "\n",
    "Defining a function is similar to creating other objects / variables. You can think of it like:\n",
    "\n",
    "\n",
    "<span style=\"color:red\"><TT>x = 2  </TT></span>   means \"assign `2` to object named `x`\"\n",
    "\n",
    "<br>\n",
    "\n",
    "<span style=\"color:red\"><TT>def func(args): code  </TT></span> means \"assign `code` to object named `func`\"\n",
    "\n",
    "\n",
    "\n",
    "<br>\n",
    "\n",
    "In python, everything is an object (variable) that is stored in memory. And you can access these objects with their name. Take a look at our first function without the parentheses:"
   ]
  },
  {
   "cell_type": "code",
   "execution_count": null,
   "id": "19808830",
   "metadata": {},
   "outputs": [],
   "source": [
    "subtract_function"
   ]
  },
  {
   "cell_type": "markdown",
   "id": "ff7c8d05",
   "metadata": {},
   "source": [
    "<br><br><br><br><br><br>\n",
    "This means we can pass around these objects just like other variables we store. We can even pass functions into other functions as arguments. For example:"
   ]
  },
  {
   "cell_type": "code",
   "execution_count": null,
   "id": "cbdb49f4",
   "metadata": {},
   "outputs": [],
   "source": [
    "# Define function\n",
    "def new_function(x, y, func):\n",
    "    print(f\"x = {x}, y = {y}, func = {func}  \\n\")\n",
    "    \n",
    "    print(func(x, y))\n",
    "\n",
    "    "
   ]
  },
  {
   "cell_type": "code",
   "execution_count": null,
   "id": "822450b0",
   "metadata": {
    "scrolled": false
   },
   "outputs": [],
   "source": [
    "# call function with arguments\n",
    "new_function(5, 4, subtract_function)"
   ]
  },
  {
   "cell_type": "markdown",
   "id": "fe7a4e30",
   "metadata": {},
   "source": [
    "<br><br><br><br><br><br><br><br><br><br><br><br><br><br><br>[top of page](#top)"
   ]
  },
  {
   "cell_type": "markdown",
   "id": "d01169d0",
   "metadata": {},
   "source": [
    "<a id='scope'></a>\n",
    "## Part 2: Scope and Namespace\n",
    "In python, variables can only be accessed by their name when you are \"at\" the appropriate location to call them. Think of using / calling variables like yelling their name and hoping they respond. If we created a variable outside, then it can essentially trae\n",
    "\n",
    "Consider the below diagram. Here's what variables live where:\n",
    "- **Built-in**: variables that exist when we first start python. Special constants like True, False, and None are built-in. `print()` is a built in function, which is why you can immediately call it.\n",
    "- **Global**: variables, functions, and classes that we define in the main body of our code. All the string- and number-type variables from notebook 1.1, as well as the functions above, are in the global scope.\n",
    "- **Local**: variables defined in functions and classes. `y` and `i` defined in the last loop above are both defined in the local scope.\n",
    "\n",
    "\n",
    "In the diagram, we can only access variables that are in a lower / wider scope. So while we're in a `for` loop, we can access the variables defined inside that `for` loop (in the local scope) and variables defined in wider scopes. But outside that `for` loop, we are now in global scope and cannot access variables in a more narrow scope like those defined in the `for` loop."
   ]
  },
  {
   "cell_type": "markdown",
   "id": "c8c47358",
   "metadata": {},
   "source": [
    "This is also called \"namespace\":<br>\n",
    "![namespace](https://media.geeksforgeeks.org/wp-content/uploads/types_namespace-1.png)"
   ]
  },
  {
   "cell_type": "markdown",
   "id": "bb72148e",
   "metadata": {},
   "source": [
    "It's very important to understand; here's more tutorials: [RealPython](https://realpython.com/python-scope-legb-rule/), [GeeksForGeeks](https://www.geeksforgeeks.org/python-scope-of-variables/), and [W3 Schools](https://www.w3schools.com/python/python_scope.asp) tutorials on scope.\n",
    "\n",
    "<br><br>\n",
    "Here's an [example](https://realpython.com/python-scope-legb-rule/#using-the-legb-rule-for-python-scope) to clarify:"
   ]
  },
  {
   "cell_type": "code",
   "execution_count": null,
   "id": "a17f6e41",
   "metadata": {},
   "outputs": [],
   "source": [
    "# Square is in the outer (global) scope\n",
    "def square(base):                                 # base is in the local scope\n",
    "    result = base ** 2                            # result is in the local scope\n",
    "    print(f'The square of {base} is: {result}')"
   ]
  },
  {
   "cell_type": "code",
   "execution_count": null,
   "id": "632bc4db",
   "metadata": {},
   "outputs": [],
   "source": [
    "square"
   ]
  },
  {
   "cell_type": "code",
   "execution_count": null,
   "id": "a2679076",
   "metadata": {},
   "outputs": [],
   "source": [
    "square(10)"
   ]
  },
  {
   "cell_type": "code",
   "execution_count": null,
   "id": "68af4d47",
   "metadata": {},
   "outputs": [],
   "source": [
    "result  # Isn't accessible from outside square()"
   ]
  },
  {
   "cell_type": "code",
   "execution_count": null,
   "id": "94a7af1a",
   "metadata": {},
   "outputs": [],
   "source": [
    "base  # Isn't accessible from outside square()"
   ]
  },
  {
   "cell_type": "code",
   "execution_count": null,
   "id": "ded87258",
   "metadata": {},
   "outputs": [],
   "source": [
    "square(20)"
   ]
  },
  {
   "cell_type": "markdown",
   "id": "a8c5070f",
   "metadata": {},
   "source": [
    "<br><br><br><br><br><br><br><br>\n",
    "Another example if needed:"
   ]
  },
  {
   "cell_type": "code",
   "execution_count": null,
   "id": "aa2423de",
   "metadata": {},
   "outputs": [],
   "source": [
    "z = 100\n",
    "x = 999\n",
    "\n",
    "def my_func(x, y):\n",
    "    z = x + y\n",
    "    return z\n",
    "\n",
    "new_z = my_func(1, 2)\n",
    "\n",
    "# What is the value of z?\n",
    "# What is the value of x?\n",
    "# What is the value of y?"
   ]
  },
  {
   "cell_type": "code",
   "execution_count": null,
   "id": "0ff7f5fe",
   "metadata": {},
   "outputs": [],
   "source": [
    "z"
   ]
  },
  {
   "cell_type": "code",
   "execution_count": null,
   "id": "23330dfa",
   "metadata": {
    "scrolled": true
   },
   "outputs": [],
   "source": [
    "x"
   ]
  },
  {
   "cell_type": "code",
   "execution_count": null,
   "id": "c25dab59",
   "metadata": {},
   "outputs": [],
   "source": [
    "y"
   ]
  },
  {
   "cell_type": "code",
   "execution_count": null,
   "id": "42cc32a0",
   "metadata": {},
   "outputs": [],
   "source": [
    "new_z"
   ]
  },
  {
   "cell_type": "markdown",
   "id": "85c48227",
   "metadata": {},
   "source": [
    "<br><br><br><br><br><br><br><br><br><br><br><br><br><br><br>[top of page](#top)"
   ]
  },
  {
   "cell_type": "markdown",
   "id": "3f4c7d8b",
   "metadata": {},
   "source": [
    "<a id='lambda'></a>\n",
    "# Part 3: Lambda functions (anonymous functions)\n",
    "\n",
    "Note that the above subtraction example is very simple. In fact, we could just immediately return the difference between x and y without defining z by doing this:\n",
    "\n",
    "```python\n",
    "def subtract_function2(x=10, y=5):\n",
    "    return x - y\n",
    "```\n",
    "\n",
    "<br>\n",
    "\n",
    "We can also do this in one line using python `lambda` functions. Here's the syntax:\n",
    "\n",
    "```python\n",
    "function_name = lambda args: [return something here]\n",
    "```\n",
    "<br>\n",
    "Here's an example:"
   ]
  },
  {
   "cell_type": "code",
   "execution_count": null,
   "id": "6b027a38",
   "metadata": {},
   "outputs": [],
   "source": [
    "subtract_function3 = lambda x,y: x - y\n",
    "\n",
    "x = 5\n",
    "for y in range(5):\n",
    "    print(subtract_function3(x, y))"
   ]
  },
  {
   "cell_type": "markdown",
   "id": "722ccede",
   "metadata": {},
   "source": [
    "<br><br><br>\n",
    "\n",
    "The reason these are call \"anonymous\" functions is that lambda functions allow us to pass functions without explicitly naming them (saving them to an object with a name). \n",
    "\n",
    "For example:\n"
   ]
  },
  {
   "cell_type": "code",
   "execution_count": null,
   "id": "dbb93dac",
   "metadata": {},
   "outputs": [],
   "source": [
    "def new_function(arg1, arg2, func):\n",
    "    print(f\"arg1 = {arg1}, arg2 = {arg2}, func = {func}  \\n\")\n",
    "    \n",
    "    print(func(arg1, arg2))\n",
    "\n",
    "\n",
    "\n",
    "\n",
    "new_function(5, 4, lambda x,y: x - y)"
   ]
  },
  {
   "cell_type": "markdown",
   "id": "c21bb784",
   "metadata": {},
   "source": [
    "<br><br><br><br><br><br><br><br><br><br><br><br><br><br><br>[top of page](#top)"
   ]
  },
  {
   "cell_type": "markdown",
   "id": "4e51a436",
   "metadata": {},
   "source": [
    "<a id='inner_functions'></a>\n",
    "## Part 4: Function inception (functions in functions)\n",
    "\n",
    "We can also define functions inside of other functions and return them. This is sometimes called a <span style=\"color:red\">function generator</span>.\n",
    "\n",
    "```python\n",
    "def outer_function(n):\n",
    "    \"\"\"Function description\"\"\"\n",
    "    \n",
    "    outer code here\n",
    "    \n",
    "    def inner_function(x):\n",
    "        new (possibly modified) inner code here\n",
    "    \n",
    "    return inner_function\n",
    "```\n",
    "\n",
    "<br><br><br>\n",
    "An example:"
   ]
  },
  {
   "cell_type": "code",
   "execution_count": null,
   "id": "14caa426",
   "metadata": {},
   "outputs": [],
   "source": [
    "def generate_new_function(n):\n",
    "    \"\"\"Return function that adds and input argument with n (defined above as input to this function)\"\"\"\n",
    "    print(f\"Defining new function that uses n={n}\")\n",
    "    \n",
    "    def adder(x):\n",
    "        return n + x\n",
    "    \n",
    "    return adder"
   ]
  },
  {
   "cell_type": "markdown",
   "id": "bc483020",
   "metadata": {},
   "source": [
    "<br><br><br>"
   ]
  },
  {
   "cell_type": "code",
   "execution_count": null,
   "id": "b169a2d4",
   "metadata": {},
   "outputs": [],
   "source": [
    "# What is the outer function returning?\n",
    "generate_new_function(2)"
   ]
  },
  {
   "cell_type": "markdown",
   "id": "d91b5a04",
   "metadata": {},
   "source": [
    "<br><br><br><br>"
   ]
  },
  {
   "cell_type": "code",
   "execution_count": null,
   "id": "a9cb51fb",
   "metadata": {},
   "outputs": [],
   "source": [
    "# Let's use the new function that is returned\n",
    "new_func = generate_new_function(2)\n",
    "\n",
    "# What should the output be?\n",
    "print(new_func(4))\n",
    "print(new_func(6))"
   ]
  },
  {
   "cell_type": "markdown",
   "id": "59e76e0f",
   "metadata": {},
   "source": [
    "<br><br><br><br>"
   ]
  },
  {
   "cell_type": "code",
   "execution_count": null,
   "id": "418a38ce",
   "metadata": {},
   "outputs": [],
   "source": [
    "# Let's generate lots of new functions\n",
    "for n in [0, 1, 2, 3]:\n",
    "    new_adder = generate_new_function(n)\n",
    "    \n",
    "    print(new_adder(4))"
   ]
  },
  {
   "cell_type": "markdown",
   "id": "ad02b55a",
   "metadata": {},
   "source": [
    "<br><br><br><br><br><br><br><br><br><br><br><br><br><br><br>[top of page](#top)"
   ]
  },
  {
   "cell_type": "markdown",
   "id": "2786abc3",
   "metadata": {},
   "source": [
    "<a id='function_example'></a>\n",
    "## Part 5: More realistic function example\n",
    "\n",
    "These have all been pretty basic functions. Let's take a look at a more complex function:\n",
    "\n",
    "**Create random variables X and Y, get `n` realizations of X and Y, then plot them**"
   ]
  },
  {
   "cell_type": "code",
   "execution_count": null,
   "id": "0b21bf14",
   "metadata": {},
   "outputs": [],
   "source": [
    "# import some python packages -- borrow pre-written code\n",
    "import numpy as np\n",
    "from scipy.stats import distributions as iid\n",
    "from scipy.stats import rv_continuous\n",
    "import matplotlib.pyplot as plt\n",
    "\n",
    "def plot_n_randoms(n):\n",
    "    # Define X & Y as normal random variables\n",
    "    X = iid.norm()\n",
    "    Y = iid.norm()\n",
    "\n",
    "    # Get n realizations of each\n",
    "    x_list = X.rvs(n)\n",
    "    y_list = Y.rvs(n)\n",
    "    \n",
    "    # Plot them\n",
    "    fig, ax = plt.subplots()\n",
    "    ax.scatter(x_list, y_list)\n",
    "\n",
    "    ax.set_xlabel(\"X\")\n",
    "    ax.set_ylabel(\"Y\")\n",
    "    ax.set_title(f\"Plot {n} realizations of X, Y Normal RVs\")"
   ]
  },
  {
   "cell_type": "markdown",
   "id": "efac2a58",
   "metadata": {},
   "source": [
    "<br><br><br><br>"
   ]
  },
  {
   "cell_type": "code",
   "execution_count": null,
   "id": "2d94d837",
   "metadata": {},
   "outputs": [],
   "source": [
    "plot_n_randoms(50)"
   ]
  },
  {
   "cell_type": "code",
   "execution_count": null,
   "id": "8e9da390",
   "metadata": {},
   "outputs": [],
   "source": []
  },
  {
   "cell_type": "code",
   "execution_count": null,
   "id": "2b765305",
   "metadata": {},
   "outputs": [],
   "source": []
  },
  {
   "cell_type": "markdown",
   "id": "ca41ce5d",
   "metadata": {},
   "source": [
    "### Errors we've seen so far\n",
    "- `KeyError`: dictionaries, removing an element from a set doesn't exist\n",
    "- `TypeError`: tuple reassignment, non-integer input to range()\n",
    "- `NameError`: package not yet imported, object not defined in that level of scope (or at all)\n",
    "- `IndentationError`: improper indentation in code blocks\n",
    "- `ValueError`: matrix dimensions not conforming\n",
    "\n",
    "### Sites we've used\n",
    "- [GeeksForGeeks](https://www.geeksforgeeks.org/python-programming-language/?ref=shm)\n",
    "- [RealPython](https://realpython.com/)\n",
    "- [W3 Schools](https://www.w3schools.com/python/)\n",
    "\n",
    "### Other super useful sites when googling\n",
    "- Stack Exchange\n",
    "- Stack Overflow"
   ]
  },
  {
   "cell_type": "markdown",
   "id": "cd12fa5e",
   "metadata": {},
   "source": [
    "<br><br><br><br><br><br><br><br><br><br><br><br><br><br><br>[top of page](#top)"
   ]
  },
  {
   "cell_type": "markdown",
   "id": "6a362fe4",
   "metadata": {},
   "source": [
    "<a id='memory'></a>\n",
    "## Appendix: Clearing Memory\n",
    "\n",
    "If you have defined something (like `x = 5`) but do not want that object in memory anymore, there are at least two ways to remove the object from memory.\n",
    "\n",
    "### 1. Restart the kernel\n",
    "The most obvious way to remove everything from memory and start fresh is to restart the python kernel. In a jupyter notebook, you can:\n",
    "\n",
    "1. Click the **Kernel** menu at the top\n",
    "2. Click **Restart & Clear Output**\n",
    "\n",
    "This will stop python from running on your computer, then restart it, clearing all objects you have defined and packages you have imported. You will need to re-import any packages you are using and re-define any functions.\n",
    "\n",
    "\n",
    "In a terminal, you would normally type `exit()` and it would close the python interpreter. Then you need to restart python. In \n",
    "\n",
    "<br><br>\n",
    "\n",
    "### 2. Delete a specific object from memory\n",
    "\n",
    "You can also delete one object at a time using the `del()` function. For example, if you have an object named `x`, you can call `del(x)` to remove it from memory. \n",
    "\n",
    "An example:"
   ]
  },
  {
   "cell_type": "code",
   "execution_count": null,
   "id": "b335be51",
   "metadata": {},
   "outputs": [],
   "source": [
    "# Integer object I define\n",
    "var = 3"
   ]
  },
  {
   "cell_type": "code",
   "execution_count": null,
   "id": "b3d862de",
   "metadata": {},
   "outputs": [],
   "source": [
    "print(var)"
   ]
  },
  {
   "cell_type": "code",
   "execution_count": null,
   "id": "5f75bf3a",
   "metadata": {},
   "outputs": [],
   "source": [
    "del(var)"
   ]
  },
  {
   "cell_type": "code",
   "execution_count": null,
   "id": "7f389779",
   "metadata": {},
   "outputs": [],
   "source": [
    "print(var)"
   ]
  },
  {
   "cell_type": "markdown",
   "id": "9fbf5463",
   "metadata": {},
   "source": [
    "<br><br><br><br><br><br>\n",
    "We can do this with any object, even functions:"
   ]
  },
  {
   "cell_type": "code",
   "execution_count": null,
   "id": "bdba2a38",
   "metadata": {},
   "outputs": [],
   "source": [
    "def new_func():\n",
    "    print(\"hello world!\")"
   ]
  },
  {
   "cell_type": "code",
   "execution_count": null,
   "id": "c3274a31",
   "metadata": {},
   "outputs": [],
   "source": [
    "new_func()"
   ]
  },
  {
   "cell_type": "code",
   "execution_count": null,
   "id": "799c44f2",
   "metadata": {},
   "outputs": [],
   "source": [
    "del(new_func)"
   ]
  },
  {
   "cell_type": "code",
   "execution_count": null,
   "id": "aa435c4a",
   "metadata": {},
   "outputs": [],
   "source": [
    "new_func()"
   ]
  }
 ],
 "metadata": {
  "kernelspec": {
   "display_name": "Python 3 (ipykernel)",
   "language": "python",
   "name": "python3"
  },
  "language_info": {
   "codemirror_mode": {
    "name": "ipython",
    "version": 3
   },
   "file_extension": ".py",
   "mimetype": "text/x-python",
   "name": "python",
   "nbconvert_exporter": "python",
   "pygments_lexer": "ipython3",
   "version": "3.7.12"
  }
 },
 "nbformat": 4,
 "nbformat_minor": 5
}
