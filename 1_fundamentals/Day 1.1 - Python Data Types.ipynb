{
 "cells": [
  {
   "cell_type": "markdown",
   "id": "ed999f16",
   "metadata": {},
   "source": [
    "<a id='top'></a>\n",
    "# Day 1.1: Python Data Types\n",
    "Date: 03/10/2022\n",
    "Author: Aaron Watt\n",
    "\n",
    "Goal: Discuss different types of data structures in Python and explore their (sometimes strange) behavior. We will\n",
    "- [Part 1](#basic_types): List out many python data types, and quickly examine a few\n",
    "- [Part 2](#loops): Compare two values, if-else statements, loops, and \"scope\"\n",
    "- [Part 3](#iterable_types): Examine iterable data types\n",
    "- [Part 4](#numpy): Discuss NumPy datatypes in more detail\n",
    "- [Part 5](#matrix): Use NumPy matrices for matrix algebra"
   ]
  },
  {
   "cell_type": "markdown",
   "id": "11c8c071",
   "metadata": {},
   "source": [
    "<a id='basic_types'></a>\n",
    "## Part 1: Basic python data types\n",
    "Every language has slightly different ways of storing information/data (data types). Each language also has it's own rules that go along with those data types. Let's start with the most common data types for python:\n",
    "\n",
    "- Text Type: `str`\n",
    "- Numeric Types: `int`, `float`, `complex`\n",
    "- Sequence Types: `list`, `tuple`, `range`\n",
    "- Set Types: `set`, `frozenset`\n",
    "- Mapping Type: `dict`\n",
    "- Boolean Type: `bool` (true or false)\n",
    "- Binary Types: `bytes`, `bytearray`, `memoryview` (1 or 0)\n",
    "\n",
    "\n",
    "The most common ones you'll probably use during ARE 212 are:\n",
    "- `str`\n",
    "- `bool`\n",
    "- `bytes`\n",
    "- `int`, `float`\n",
    "- LOOP BREAK\n",
    "- `list`, `tuple`, `range`\n",
    "- `set`\n",
    "- `dict`\n",
    "\n",
    "Let's go through them real quick!\n",
    "\n",
    "\n",
    "[More on python data types](https://www.w3schools.com/python/python_datatypes.asp)"
   ]
  },
  {
   "cell_type": "markdown",
   "id": "37ff1dcb",
   "metadata": {},
   "source": [
    "<br><br><br><br><br><br><br><br><br><br><br><br><br><br><br>"
   ]
  },
  {
   "cell_type": "markdown",
   "id": "6ca2d306",
   "metadata": {},
   "source": [
    "<div class=\"alert alert-block alert-info\">\n",
    "<b>Aside on python object names:</b><br>\n",
    "<ul>\n",
    "  <li>Everything in python is an object and names in python point to these objects in memory.</li>\n",
    "  <li>If you name two different objects with the same name, the second time you name it will override the first.</li>\n",
    "  <li>There are exceptions for ^same names^, but we'll be talking about that later (scope).</li>\n",
    "  <li>You cannot name something starting with numbers, but you can put number elsewhere in the name.</li>\n",
    "  <li>Dots (.) have special use in python and cannot be used in names. They will be used at the end of names to do special things.</li>\n",
    "</ul>\n",
    " \n",
    "</div>"
   ]
  },
  {
   "cell_type": "markdown",
   "id": "1b1e50b2",
   "metadata": {},
   "source": [
    "<br><br><br><br><br><br><br><br><br><br><br><br><br><br><br>"
   ]
  },
  {
   "cell_type": "markdown",
   "id": "5fcd9370",
   "metadata": {},
   "source": [
    "### Examples of Data Types\n",
    "\n",
    "#### Strings\n",
    "A `str` is a list of characters."
   ]
  },
  {
   "cell_type": "code",
   "execution_count": null,
   "id": "a1058018",
   "metadata": {},
   "outputs": [],
   "source": [
    "str1 = \"h\"\n",
    "str1 = 'h'  # you can use either single '' or double quotes \"\"\n",
    "str2 = \"3\"\n",
    "str3 = \"\"   # empty string!\n",
    "str4 = \"ARE 212 Rocks!\""
   ]
  },
  {
   "cell_type": "markdown",
   "id": "6fd3a234",
   "metadata": {},
   "source": [
    "We can combine strings in a few ways"
   ]
  },
  {
   "cell_type": "code",
   "execution_count": null,
   "id": "13be4947",
   "metadata": {},
   "outputs": [],
   "source": [
    "str5 = str1 + str2\n",
    "print(str5)\n",
    "\n",
    "str6 = ', '.join([str1, str2])\n",
    "print(str6)"
   ]
  },
  {
   "cell_type": "markdown",
   "id": "7007f571",
   "metadata": {},
   "source": [
    "<br><br>"
   ]
  },
  {
   "cell_type": "markdown",
   "id": "11589e5d",
   "metadata": {},
   "source": [
    "<div class=\"alert alert-block alert-info\">\n",
    "<b>Assignment:</b> Notice that we're using = to assign values to names.\n",
    "</div>\n",
    "\n",
    "<br>\n",
    "\n",
    "<div class=\"alert alert-block alert-info\">\n",
    "<b>Types, Classes, Methods, and Functions:</b> We'll get into these definitions later. But for now, note the following: all objects have \"types\" (string, integer, float, ...), and objects are created by \"classes\". When we create a string object, there is a class in the background that is smooshing all the characters together into one object. Object classes also have \"methods\" associated with them. These are functions that are run on the object to return a result. Below, I give some examples of string methods that return useful information about the string. We'll come back to the idea of functions, classes, and methods in the future.\n",
    "</div>\n",
    "\n",
    "method syntax: `object.method()`"
   ]
  },
  {
   "cell_type": "markdown",
   "id": "c2787c73",
   "metadata": {},
   "source": [
    "Some important string methods. [More in this W3 Schools list](https://www.w3schools.com/python/python_ref_string.asp)"
   ]
  },
  {
   "cell_type": "code",
   "execution_count": null,
   "id": "3f09a229",
   "metadata": {},
   "outputs": [],
   "source": [
    "s = \"testCaptializing is fun\"\n",
    "\n",
    "# Capitalization\n",
    "print(\"\\n\\n\",s)\n",
    "print(\".upper() returns this:\", s.upper())\n",
    "print(\"\\n.lower() returns this:\", s.lower())\n",
    "print(\"\\n.title() returns this:\", s.title())"
   ]
  },
  {
   "cell_type": "markdown",
   "id": "745c2cf0",
   "metadata": {},
   "source": [
    "<br><br>"
   ]
  },
  {
   "cell_type": "code",
   "execution_count": null,
   "id": "27dc8e06",
   "metadata": {},
   "outputs": [],
   "source": [
    "# Splitting\n",
    "s = \"Let's Split some strings!\"\n",
    "print(\"\\n\\n\",s)\n",
    "print(\".split() returns this:\", s.split())\n",
    "print(\"\\n.split(' ') returns this:\", s.split(' '))\n",
    "print(\"\\n.split(',') returns this:\", s.split(','))"
   ]
  },
  {
   "cell_type": "markdown",
   "id": "d3b5fb6f",
   "metadata": {},
   "source": [
    "<br><br>"
   ]
  },
  {
   "cell_type": "code",
   "execution_count": null,
   "id": "5fdcefd1",
   "metadata": {},
   "outputs": [],
   "source": [
    "# Stripping whitespace and other characters\n",
    "s = \"Kesha is fun\"\n",
    "print(\"\\n\\n\",s)\n",
    "print(\".strip() returns this:\", s.strip())\n",
    "print(\"\\n.strip(' fun') returns this:\", s.strip(' fun'))\n",
    "print(\"\\n.replace(' ', '') returns this:\", s.replace(' ', ''))\n",
    "print(\"\\n.replace('s', '$') returns this:\", s.replace('s', '$'))"
   ]
  },
  {
   "cell_type": "markdown",
   "id": "21613cf2",
   "metadata": {},
   "source": [
    "<br><br>"
   ]
  },
  {
   "cell_type": "code",
   "execution_count": null,
   "id": "98d311de",
   "metadata": {},
   "outputs": [],
   "source": [
    "# String information\n",
    "s = \"get me some info\"\n",
    "print(\"\\n\\n\",s)\n",
    "print(\".find('m') returns this:\", s.find('m'))\n",
    "print(\"\\n.rfind('m') returns this:\", s.rfind('m'))\n",
    "print(\"\\n.count('m') returns this:\", s.count('m'))\n",
    "print(\"\\n.isalpha() returns this:\", s.isalpha())\n",
    "print(\"\\n.isalpha() returns this:\", s.replace(' ', '').isalpha())"
   ]
  },
  {
   "cell_type": "markdown",
   "id": "2e51db6f",
   "metadata": {},
   "source": [
    "<br><br><br><br><br><br><br><br><br><br><br><br><br><br><br>"
   ]
  },
  {
   "cell_type": "markdown",
   "id": "33374ec6",
   "metadata": {},
   "source": [
    "___\n",
    "#### Integers\n",
    "An `int` is an integer (can be zero or negative)"
   ]
  },
  {
   "cell_type": "code",
   "execution_count": null,
   "id": "06ff801f",
   "metadata": {},
   "outputs": [],
   "source": [
    "int1 = 0\n",
    "int2 = -500\n",
    "int3 = 10**10  # 10^10"
   ]
  },
  {
   "cell_type": "markdown",
   "id": "312fb996",
   "metadata": {},
   "source": [
    "<br><br><br><br><br><br><br><br><br><br><br><br><br><br><br>"
   ]
  },
  {
   "cell_type": "markdown",
   "id": "ac17d025",
   "metadata": {},
   "source": [
    "___\n",
    "#### Floats\n",
    "A `float` is a real number (with decimal points). Beware of rounding errors."
   ]
  },
  {
   "cell_type": "code",
   "execution_count": null,
   "id": "2c62dd78",
   "metadata": {},
   "outputs": [],
   "source": [
    "float1 = 1.1\n",
    "float2 = 1e3  # 1*10^3"
   ]
  },
  {
   "cell_type": "markdown",
   "id": "29a3b6b2",
   "metadata": {},
   "source": [
    "Python automatically converts integers to floats if we do math with the integers that should return a float:"
   ]
  },
  {
   "cell_type": "code",
   "execution_count": null,
   "id": "ef8c95b7",
   "metadata": {},
   "outputs": [],
   "source": [
    "float3 = 1 / 2\n",
    "print(float3)"
   ]
  },
  {
   "cell_type": "markdown",
   "id": "4880fb2a",
   "metadata": {},
   "source": [
    "We can also round floats to some amount of precision"
   ]
  },
  {
   "cell_type": "code",
   "execution_count": 86,
   "id": "1aa8dff3",
   "metadata": {},
   "outputs": [
    {
     "name": "stdout",
     "output_type": "stream",
     "text": [
      "2\n",
      "2.123\n"
     ]
    }
   ],
   "source": [
    "print(round(2.123456))\n",
    "print(round(2.123456, 3))"
   ]
  },
  {
   "cell_type": "markdown",
   "id": "1f288c49",
   "metadata": {},
   "source": [
    "<br><br><br><br><br><br><br><br><br><br><br><br><br><br><br>"
   ]
  },
  {
   "cell_type": "markdown",
   "id": "604d6c4d",
   "metadata": {},
   "source": [
    "___\n",
    "#### None type\n",
    "`None` is a special python type. It is just a placeholder for \"nothing\". Along with empty strings (`\"\"`), `None` is often used as a placeholder for default values that then get replaced."
   ]
  },
  {
   "cell_type": "code",
   "execution_count": 73,
   "id": "8e1a90b9",
   "metadata": {},
   "outputs": [
    {
     "name": "stdout",
     "output_type": "stream",
     "text": [
      "None\n"
     ]
    }
   ],
   "source": [
    "print(None)"
   ]
  },
  {
   "cell_type": "markdown",
   "id": "e48b2751",
   "metadata": {},
   "source": [
    "<br><br><br><br><br><br><br><br><br><br><br><br><br><br><br>"
   ]
  },
  {
   "cell_type": "markdown",
   "id": "76efe572",
   "metadata": {},
   "source": [
    "___\n",
    "#### Boolean Values\n",
    "Boolean Values are `True`/`False` values. These are used often with `if` statements. These will be useful in `for` loops that we get into later."
   ]
  },
  {
   "cell_type": "code",
   "execution_count": null,
   "id": "80fa98b5",
   "metadata": {},
   "outputs": [],
   "source": [
    "is_aaron_silly = True\n",
    "if is_aaron_silly:\n",
    "    print('I KNEW IT... aaron is silly')"
   ]
  },
  {
   "cell_type": "markdown",
   "id": "e290cc12",
   "metadata": {},
   "source": [
    "<br>"
   ]
  },
  {
   "cell_type": "code",
   "execution_count": 85,
   "id": "f89e0d0e",
   "metadata": {},
   "outputs": [
    {
     "name": "stdout",
     "output_type": "stream",
     "text": [
      "False\n",
      "that's ... uhhh.. true?\n"
     ]
    }
   ],
   "source": [
    "# We can negate boolean values with `not` and `not()`\n",
    "print(not(True))\n",
    "\n",
    "if False is not True:\n",
    "    print(\"that's ... uhhh.. true?\")"
   ]
  },
  {
   "cell_type": "markdown",
   "id": "5eae4f3f",
   "metadata": {},
   "source": [
    "<br><br>\n",
    "What's the difference between `is` and `==`?"
   ]
  },
  {
   "cell_type": "markdown",
   "id": "3b4944d7",
   "metadata": {},
   "source": [
    "<br><br><br><br><br><br><br><br><br><br><br><br><br><br><br>"
   ]
  },
  {
   "cell_type": "markdown",
   "id": "33a29813",
   "metadata": {},
   "source": [
    "___\n",
    "#### Bytes\n",
    "Bytes ... know that they exist as a special way to encode information. You mostly need to know what they are in case an error occurs that tells you something about\n",
    "<span style=\"color:red\">encoding</span> or <span style=\"color:red\">Bytes-like objects</span>."
   ]
  },
  {
   "cell_type": "code",
   "execution_count": null,
   "id": "a7b9f58f",
   "metadata": {},
   "outputs": [],
   "source": [
    "print(bytes(2))\n",
    "print(bytes('a', 'utf-8'))\n",
    "print(bytes([1,2,3]))"
   ]
  },
  {
   "cell_type": "markdown",
   "id": "60565908",
   "metadata": {},
   "source": [
    "<br><br><br><br><br><br><br><br><br><br><br><br><br><br><br>[top of page](#top)"
   ]
  },
  {
   "cell_type": "markdown",
   "id": "fb2de5b7",
   "metadata": {},
   "source": [
    "<a id='loops'></a>\n",
    "## Part 2: Comparisons, Conditionals, Loops, and Scope in python\n",
    "\n",
    "We often combine loops and conditionals to exit loops when certain criteria are met. One example we'll use next section: we write code to minimize an objective function. Sometimes the problem is complicated and we need to search for a minimizing value. We iterate using loops to get smaller and smaller values, but we need conditionals to know when to exit the loop when we've gotten sufficiently minimized. Lets look at some examples.\n",
    "\n"
   ]
  },
  {
   "cell_type": "markdown",
   "id": "4aea1098",
   "metadata": {},
   "source": [
    "### Python comparison operators\n",
    "[Comparison operators tutorial](https://www.tutorialspoint.com/python/comparison_operators_example.htm)\n",
    "\n",
    "We need to know how to compare values in python. Comparison operators compare two or more objects and returns a boolean value (`True/False`). Here's the basics:"
   ]
  },
  {
   "cell_type": "code",
   "execution_count": 70,
   "id": "8d007e67",
   "metadata": {},
   "outputs": [
    {
     "name": "stdout",
     "output_type": "stream",
     "text": [
      "False\n",
      "True\n"
     ]
    }
   ],
   "source": [
    "# Is equal to?\n",
    "print(1 == 2)\n",
    "print('a' == 'a')"
   ]
  },
  {
   "cell_type": "code",
   "execution_count": 71,
   "id": "feaf3986",
   "metadata": {},
   "outputs": [
    {
     "name": "stdout",
     "output_type": "stream",
     "text": [
      "True\n"
     ]
    }
   ],
   "source": [
    "# Not equal to?\n",
    "print('a' != 'b')"
   ]
  },
  {
   "cell_type": "code",
   "execution_count": 87,
   "id": "dc152ea0",
   "metadata": {
    "scrolled": true
   },
   "outputs": [
    {
     "name": "stdout",
     "output_type": "stream",
     "text": [
      "True\n",
      "True\n",
      "True\n",
      "False\n"
     ]
    }
   ],
   "source": [
    "# Less than, greater than, etc.\n",
    "print(1 < 2)\n",
    "print(1 <= 2)\n",
    "print(2 <= 2)\n",
    "print(2 > 2)"
   ]
  },
  {
   "cell_type": "markdown",
   "id": "abbe712a",
   "metadata": {},
   "source": [
    "<br><br>"
   ]
  },
  {
   "cell_type": "markdown",
   "id": "3e3bc4f7",
   "metadata": {},
   "source": [
    "### Conditionals\n",
    "Conditional statements: `if-else` statements are critical in many situations to help us choose different actions when the inputs have changed.\n",
    "\n",
    "We'll be quick here. They do what you think, but here's a few examples so you can see the syntax. If you want more examples, see the \n",
    "[RealPython conditionals tutorial](https://realpython.com/python-conditional-statements/).\n",
    "\n",
    "\n"
   ]
  },
  {
   "cell_type": "markdown",
   "id": "1d8d3e74",
   "metadata": {},
   "source": [
    "**Syntax**\n",
    "```python\n",
    "# Python basic if statement\n",
    "if <expr>:\n",
    "    <statement>\n",
    "\n",
    "    \n",
    "    \n",
    "# if with an else clause\n",
    "if <expr>:\n",
    "    <statement(s)>\n",
    "else:\n",
    "    <statement(s)>\n",
    "\n",
    "    \n",
    "    \n",
    "# if with a elif and else clause\n",
    "# all these are mutually exclusive expressions, checking from top to bottom\n",
    "if <expr>:\n",
    "    <statement(s)>\n",
    "elif <expr>:\n",
    "    <statement(s)>\n",
    "elif <expr>:\n",
    "    <statement(s)>\n",
    "    ...\n",
    "else:\n",
    "    <statement(s)>\n",
    "```"
   ]
  },
  {
   "cell_type": "markdown",
   "id": "04d2572f",
   "metadata": {},
   "source": [
    "<br><br>\n",
    "\n",
    "**Examples**"
   ]
  },
  {
   "cell_type": "code",
   "execution_count": null,
   "id": "832c0c73",
   "metadata": {},
   "outputs": [],
   "source": [
    "# Use an if statement by itself\n",
    "s = \"abigail\"\n",
    "if s == \"Abigail\":\n",
    "    print(\"This is Abigail\")"
   ]
  },
  {
   "cell_type": "markdown",
   "id": "3f00614e",
   "metadata": {},
   "source": [
    "<br><br>"
   ]
  },
  {
   "cell_type": "code",
   "execution_count": null,
   "id": "ebfed18f",
   "metadata": {},
   "outputs": [],
   "source": [
    "# Use if, then else to catch everything else\n",
    "s = \"abigail\"\n",
    "if s == \"Abigail\":\n",
    "    print(\"This is Abigail\")\n",
    "else:\n",
    "    print(\"Imposter! Close but not Abigail!\")"
   ]
  },
  {
   "cell_type": "markdown",
   "id": "1c442479",
   "metadata": {},
   "source": [
    "<br><br>"
   ]
  },
  {
   "cell_type": "code",
   "execution_count": null,
   "id": "9fd23a8f",
   "metadata": {},
   "outputs": [],
   "source": [
    "# Multiple cases\n",
    "s = \"abigail\"\n",
    "if s == \"Abigail\":\n",
    "    print(\"This is Abigail\")\n",
    "elif s.lower() == \"Abigail\".lower():\n",
    "    print(\"This is technically Abigail, but watch your capitalization\")\n",
    "else:\n",
    "    print(\"Imposter! Close but not Abigail!\")"
   ]
  },
  {
   "cell_type": "markdown",
   "id": "7d32a367",
   "metadata": {},
   "source": [
    "<br><br>"
   ]
  },
  {
   "cell_type": "code",
   "execution_count": null,
   "id": "4baf117c",
   "metadata": {},
   "outputs": [],
   "source": [
    "x = 9\n",
    "if x < 5:\n",
    "    print('x < 5')\n",
    "elif x == 5:\n",
    "    print('x = 5')\n",
    "elif x < 7:\n",
    "    print('5 < x < 6')\n",
    "else:\n",
    "    print('x >= 7')"
   ]
  },
  {
   "cell_type": "markdown",
   "id": "d7389d34",
   "metadata": {},
   "source": [
    "<br><br>\n",
    "This might seem cumbersome for piecewise functionality. Sometimes we can improve on this by using dictionaries to solve a problem where we have many specific cases and need to find an answer for just one. We'll talk about dictionaries below. In python 3.10, we can actually use \"pattern matching\" to break out these cases. See this [this StackOverflow post](https://stackoverflow.com/a/11479840) for an explanation."
   ]
  },
  {
   "cell_type": "markdown",
   "id": "80cec16a",
   "metadata": {},
   "source": [
    "<br><br><br><br><br><br>"
   ]
  },
  {
   "cell_type": "markdown",
   "id": "d6861c14",
   "metadata": {},
   "source": [
    "### What if two values are close but not exactly the same?\n",
    "The python `math` package can help! It returns `True` if two values are close."
   ]
  },
  {
   "cell_type": "code",
   "execution_count": null,
   "id": "188625f2",
   "metadata": {},
   "outputs": [],
   "source": [
    "import math\n",
    "x = 1.0000001\n",
    "if math.isclose(1, x):\n",
    "    print(\"Basically the same\")\n",
    "else:\n",
    "    print(\"NOPE: Different enough ¯\\_(ツ)_/¯\")"
   ]
  },
  {
   "cell_type": "markdown",
   "id": "f70983dc",
   "metadata": {},
   "source": [
    "<br><br>\n",
    "But how close is close? The default \"relative difference\" is 1e-09. This can be changed by setting the `rel_tol` value."
   ]
  },
  {
   "cell_type": "code",
   "execution_count": null,
   "id": "f8be7453",
   "metadata": {},
   "outputs": [],
   "source": [
    "print(math.isclose(1, 1.0000001, rel_tol=0.001))\n",
    "print(math.isclose(1, 1.0000001, rel_tol=1e-10))"
   ]
  },
  {
   "cell_type": "markdown",
   "id": "463ea452",
   "metadata": {},
   "source": [
    "<br><br><br>\n",
    "<div class=\"alert alert-block alert-warning\">\n",
    "<b>Aside on whitespace indentation in Python:</b> Note that all the if-else statements above are indented. Python is a <b>whitespace-sensitive language</b> and MUST be properly indented to execute. Run the below code chunk to see what happens when you have improper indentation.\n",
    "</div>\n",
    "\n",
    "[See this nice StackOverflow answer about whitespace in python.](https://stackoverflow.com/a/13884583)"
   ]
  },
  {
   "cell_type": "code",
   "execution_count": null,
   "id": "b85b76c0",
   "metadata": {},
   "outputs": [],
   "source": [
    "if True is True:\n",
    "    print('this is true')    # indented 4 spaces\n",
    "      print('this is true')  # indented 6 spaces"
   ]
  },
  {
   "cell_type": "markdown",
   "id": "686f36b6",
   "metadata": {},
   "source": [
    "<br><br><br><br><br>"
   ]
  },
  {
   "cell_type": "markdown",
   "id": "b4749bea",
   "metadata": {},
   "source": [
    "### While Loops\n",
    "\n",
    "[GeeksForGeeks loops tutorial](https://www.geeksforgeeks.org/loops-in-python/)\n",
    "\n",
    "While loops look similar to conditional if statements. They keep running what is in the loop until the exit criteria is met. The syntax looks like:\n",
    "<br>\n",
    "```python\n",
    "while [exit criteria here]:\n",
    "    [do something in loop here]\n",
    "\n",
    "print(\"this prints after the loop exits\")\n",
    "```\n",
    "\n",
    "The exit criteria must return a boolean value (true/false) and needs to be something that the loop changes. If the loop does not change the value of the exit criteria, the loop will continue forever."
   ]
  },
  {
   "cell_type": "code",
   "execution_count": null,
   "id": "1f382ce1",
   "metadata": {},
   "outputs": [],
   "source": [
    "from time import sleep  # this is not necessary, just helpful for the tutorial\n",
    "while True:\n",
    "    print(\"this is true.\")\n",
    "    sleep(1)  # pause for 1 second"
   ]
  },
  {
   "cell_type": "code",
   "execution_count": null,
   "id": "44f0f010",
   "metadata": {},
   "outputs": [],
   "source": [
    "x = 9\n",
    "\n",
    "while x > 0:\n",
    "    print(x)\n",
    "    x = x - 1\n",
    "    sleep(0.5)\n",
    "\n",
    "print(\"Finished\")"
   ]
  },
  {
   "cell_type": "markdown",
   "id": "1202e0ff",
   "metadata": {},
   "source": [
    "<br><br>"
   ]
  },
  {
   "cell_type": "markdown",
   "id": "7c328b38",
   "metadata": {},
   "source": [
    "### For Loops\n",
    "For loops iterate over things that have multople elements (iterable objects). We'll talk about these more next, but consider a list of items called `list1` that we want to print all the values for. The basic syntax would look like this:\n",
    "```python\n",
    "list1 = [some list of items]\n",
    "\n",
    "for myitem in list1:\n",
    "    [do something in loop with myitem]\n",
    "\n",
    "```\n",
    "\n",
    "The beginning of the for loops says \"`for i in list1`. The `for` and `in` are required. The first time the loop runs, the object `myitem` is created and is equal to the first element in the list `list1`. Then, for each time the loop repeats, it overwrites `myitem` with the next value in `list1`. This does not do anything to `list1`, it is just reading the values.\n",
    "<br>\n",
    "<br>\n",
    "Some examples:"
   ]
  },
  {
   "cell_type": "code",
   "execution_count": 94,
   "id": "f49b15cb",
   "metadata": {},
   "outputs": [
    {
     "name": "stdout",
     "output_type": "stream",
     "text": [
      "1\n",
      "2\n",
      "3\n",
      "4\n"
     ]
    }
   ],
   "source": [
    "list1 = [1, 2, 3, 4]\n",
    "\n",
    "for item in list1:\n",
    "    print(item)"
   ]
  },
  {
   "cell_type": "markdown",
   "id": "6d3366fa",
   "metadata": {},
   "source": [
    "<br>"
   ]
  },
  {
   "cell_type": "code",
   "execution_count": 67,
   "id": "82d2de7d",
   "metadata": {},
   "outputs": [
    {
     "name": "stdout",
     "output_type": "stream",
     "text": [
      "1 1\n",
      "2 4\n",
      "3 9\n",
      "4 16\n"
     ]
    }
   ],
   "source": [
    "# we can use any non-existing name for the inner variable\n",
    "for i in list1:\n",
    "    j = i**2\n",
    "    print(i,j)"
   ]
  },
  {
   "cell_type": "markdown",
   "id": "9c11edc1",
   "metadata": {},
   "source": [
    "<br>"
   ]
  },
  {
   "cell_type": "code",
   "execution_count": 89,
   "id": "91504987",
   "metadata": {},
   "outputs": [
    {
     "name": "stdout",
     "output_type": "stream",
     "text": [
      "1\n",
      "3\n",
      "4\n"
     ]
    }
   ],
   "source": [
    "# what if we want to skip a loop?\n",
    "for i in [1, 2, 3, 4]:\n",
    "    if i == 2:\n",
    "        continue  # this skips the rest of the code inside the loop\n",
    "    print(i)\n"
   ]
  },
  {
   "cell_type": "markdown",
   "id": "c782a7dc",
   "metadata": {},
   "source": [
    "<br>"
   ]
  },
  {
   "cell_type": "code",
   "execution_count": 90,
   "id": "9bc7a35d",
   "metadata": {},
   "outputs": [
    {
     "name": "stdout",
     "output_type": "stream",
     "text": [
      "1\n"
     ]
    }
   ],
   "source": [
    "# what if we want to leave a loop early?\n",
    "for i in [1, 2, 3, 4]:\n",
    "    if i == 2:\n",
    "        break  # this exits the existing loop\n",
    "    print(i)"
   ]
  },
  {
   "cell_type": "markdown",
   "id": "9e09cb44",
   "metadata": {},
   "source": [
    "<br>"
   ]
  },
  {
   "cell_type": "code",
   "execution_count": 95,
   "id": "c3f4cf2e",
   "metadata": {},
   "outputs": [
    {
     "name": "stdout",
     "output_type": "stream",
     "text": [
      "1 a\n",
      "1 b\n",
      "1 c\n",
      "2 a\n",
      "2 b\n",
      "2 c\n",
      "3 a\n",
      "3 b\n",
      "3 c\n",
      "4 a\n",
      "4 b\n",
      "4 c\n"
     ]
    }
   ],
   "source": [
    "# Multi-dimensional looping (loops in loops -- LOOPCEPTION!)\n",
    "for i in [1, 2, 3, 4]:\n",
    "    for j in ['a', 'b', 'c']:\n",
    "        print(i, j)"
   ]
  },
  {
   "cell_type": "markdown",
   "id": "3529d1fe",
   "metadata": {},
   "source": [
    "<br>"
   ]
  },
  {
   "cell_type": "code",
   "execution_count": 90,
   "id": "2f1b61b3",
   "metadata": {},
   "outputs": [
    {
     "name": "stdout",
     "output_type": "stream",
     "text": [
      "1\n"
     ]
    }
   ],
   "source": [
    "# what if we want to leave a loop early?\n",
    "for i in [1, 2, 3, 4]:\n",
    "    if i == 2:\n",
    "        break  # this exits the existing loop\n",
    "    print(i)"
   ]
  },
  {
   "cell_type": "markdown",
   "id": "1a65947c",
   "metadata": {},
   "source": [
    "<br>"
   ]
  },
  {
   "cell_type": "code",
   "execution_count": 96,
   "id": "b58ee5e2",
   "metadata": {},
   "outputs": [
    {
     "name": "stdout",
     "output_type": "stream",
     "text": [
      "1 a\n",
      "2 a\n",
      "3 a\n",
      "4 a\n"
     ]
    }
   ],
   "source": [
    "# What if we leave a loop that's inside another loop?\n",
    "for i in [1, 2, 3, 4]:\n",
    "    for j in ['a', 'b', 'c']:\n",
    "        if j == 'b':\n",
    "            break  # this exits the inside loop\n",
    "        print(i, j)"
   ]
  },
  {
   "cell_type": "markdown",
   "id": "9ac35bdc",
   "metadata": {},
   "source": [
    "<br><br><br>\n",
    "<div class=\"alert alert-block alert-info\">\n",
    "<b>Shouldn't I just use a while loop if I want to break?</b> The examples above are meant to be simple for exposition. In reality, there are many cases when we have a complex for loop, and we realize that we need to break out of it if we match some complicated condition or get an error. A while loop works great for simple situations, but often conditionals inside the for loop are the most straightforward way to write the code.\n",
    "</div>"
   ]
  },
  {
   "cell_type": "markdown",
   "id": "6615ef8e",
   "metadata": {},
   "source": [
    "<br>"
   ]
  },
  {
   "cell_type": "markdown",
   "id": "10392519",
   "metadata": {},
   "source": [
    "<br><br><br><br><br><br><br><br>"
   ]
  },
  {
   "cell_type": "markdown",
   "id": "e427a0e4",
   "metadata": {},
   "source": []
  },
  {
   "cell_type": "markdown",
   "id": "b3e8839c",
   "metadata": {},
   "source": []
  },
  {
   "cell_type": "markdown",
   "id": "65241e06",
   "metadata": {},
   "source": []
  },
  {
   "cell_type": "code",
   "execution_count": 114,
   "id": "bd222d58",
   "metadata": {
    "scrolled": true
   },
   "outputs": [
    {
     "name": "stdout",
     "output_type": "stream",
     "text": [
      "x1: a\n",
      "i: 1\n",
      "j: there\n",
      "x1: a\n",
      "i: 2\n",
      "j: there\n",
      "x1: a\n",
      "i: 3\n",
      "j: there\n",
      "x1: a\n",
      "i: 4\n",
      "j: there\n",
      "there\n",
      "4\n",
      "8\n"
     ]
    }
   ],
   "source": []
  },
  {
   "cell_type": "code",
   "execution_count": null,
   "id": "22aed282",
   "metadata": {},
   "outputs": [],
   "source": []
  },
  {
   "cell_type": "code",
   "execution_count": null,
   "id": "d1a0fcd4",
   "metadata": {},
   "outputs": [],
   "source": []
  },
  {
   "cell_type": "markdown",
   "id": "d600e32c",
   "metadata": {},
   "source": [
    "<br><br><br><br><br><br><br><br><br><br><br><br><br><br><br>[top of page](#top)"
   ]
  },
  {
   "cell_type": "markdown",
   "id": "073e5b3e",
   "metadata": {},
   "source": [
    "<a id='iterable_types'></a>\n",
    "## Part 3: Iterable Objects (lists, tuples, ranges, sets, dictionaries)\n",
    "Iterable objects are object that can be iterated over. These types allows us to build up to matrix algebra in the next section.\n",
    "\n",
    "#### Lists\n",
    "A `list` is an ordered bag of python objects. You can imagine putting a bunch of integers, floats, or strings into a list:"
   ]
  },
  {
   "cell_type": "code",
   "execution_count": null,
   "id": "f3afca55",
   "metadata": {},
   "outputs": [],
   "source": [
    "list1 = [1, 2, 3]\n",
    "list2 = [\"a\", \"b\", \"twenty three\"]"
   ]
  },
  {
   "cell_type": "markdown",
   "id": "0d31ab01",
   "metadata": {},
   "source": [
    "You can also imagine putting a mix of items into a list (integer, string, float):"
   ]
  },
  {
   "cell_type": "code",
   "execution_count": null,
   "id": "75b0dba6",
   "metadata": {},
   "outputs": [],
   "source": [
    "list3 = [1, \"b\", 1.1]"
   ]
  },
  {
   "cell_type": "markdown",
   "id": "c3be00a6",
   "metadata": {},
   "source": [
    "You can even put lists inside other lists (lists of lists or multidimensional lists):"
   ]
  },
  {
   "cell_type": "code",
   "execution_count": null,
   "id": "1de8429e",
   "metadata": {},
   "outputs": [],
   "source": [
    "list4 = [[1, 2], [\"a\", \"b\"]]"
   ]
  },
  {
   "cell_type": "markdown",
   "id": "ce7e9b81",
   "metadata": {},
   "source": [
    "<br><br>\n",
    "**Accessing elements of a list:**\n",
    "Each element in a list has an index (it's place in the list). The first item in a list has index 0. Use square brackets `[]` and the element's index to access an element:\n",
    "<br>\n",
    "`list3[0]`\n",
    "\n",
    "You can also subset a list by using the range of indicies, in the syntax:\n",
    "<br>\n",
    "`list3[staring_index : ending_index + 1]`\n",
    "\n",
    "For the second index (the end of the range you are selecting), you must use the index of the *next* item following what you would like to select. Consider the following example:"
   ]
  },
  {
   "cell_type": "code",
   "execution_count": null,
   "id": "2ee145b4",
   "metadata": {},
   "outputs": [],
   "source": [
    "list5 = [0, 1, 2, 3, 4]\n",
    "print(\"1st element of list5:\", list5[0])\n",
    "print(\"1st and 2nd elements of list5:\", list5[0:2])\n",
    "print(\"2nd through 4th elements of list5:\", list5[1:4])"
   ]
  },
  {
   "cell_type": "markdown",
   "id": "fc7e6238",
   "metadata": {},
   "source": [
    "<div class=\"alert alert-block alert-info\">\n",
    "This +1 end index selection seems annoying at first. But realize that when you want to select the first `n` objects in a list, you can say:\n",
    "<br>\n",
    "<TT>list5[0:n]</TT>\n",
    "</div>"
   ]
  },
  {
   "cell_type": "markdown",
   "id": "9253878f",
   "metadata": {},
   "source": [
    "<br><br>\n",
    "**Reassigning elements of a list**:\n",
    "we can change the elements of a list (thus, lists are called **\"mutable\"**, synonym for \"mutatable\"). Remember that indexing starts at 0 in python."
   ]
  },
  {
   "cell_type": "code",
   "execution_count": null,
   "id": "22dd68cd",
   "metadata": {},
   "outputs": [],
   "source": [
    "print(\"Before we make changes:\", list1)\n",
    "list1[0] = 999\n",
    "\n",
    "print(\"After we make changes: \", list1)"
   ]
  },
  {
   "cell_type": "markdown",
   "id": "6b045bc9",
   "metadata": {},
   "source": [
    "<br>\n",
    "<div class=\"alert alert-block alert-warning\">\n",
    "<b>Aside about running chunks in jupyter notebooks:</b> What happens if we run just the chunk above again?\n",
    "</div>"
   ]
  },
  {
   "cell_type": "markdown",
   "id": "a2f253d6",
   "metadata": {},
   "source": [
    "<br><br>"
   ]
  },
  {
   "cell_type": "markdown",
   "id": "8d53a48c",
   "metadata": {},
   "source": [
    "Note: Strings are basical lists of strings we can subset them"
   ]
  },
  {
   "cell_type": "code",
   "execution_count": null,
   "id": "c7ad734c",
   "metadata": {},
   "outputs": [],
   "source": [
    "s = \"abcdefg\"\n",
    "print('s[1] =', s[1])\n",
    "print('s[1] =', s[1:3])\n",
    "print('s[1] =', s[1:6])"
   ]
  },
  {
   "cell_type": "markdown",
   "id": "19e3d61b",
   "metadata": {},
   "source": [
    "<br><br><br><br><br><br><br><br><br><br><br><br><br><br><br>"
   ]
  },
  {
   "cell_type": "markdown",
   "id": "b7d1a4c8",
   "metadata": {},
   "source": [
    "___\n",
    "#### Tuples\n",
    "A `tuple` is basically an **immutable list**. The elements can be any python object but you cannot reassign new objects to an existing tuple."
   ]
  },
  {
   "cell_type": "code",
   "execution_count": null,
   "id": "078f4067",
   "metadata": {},
   "outputs": [],
   "source": [
    "# Immutable iterable objects\n",
    "tuple1 = (1, 2, 3)\n",
    "tuple2 = 1, 2, 3\n",
    "tuple3 = (\"a\", 23, [1, 2, 3])"
   ]
  },
  {
   "cell_type": "markdown",
   "id": "e7fde6d0",
   "metadata": {},
   "source": [
    "Tuples are **\"immutable\"** so the elements of a tuple cannot be changed after creation. Lists are **\"mutable\"**, so their elements can be changed. Trying to change a tuple element results in an error:"
   ]
  },
  {
   "cell_type": "code",
   "execution_count": null,
   "id": "9ebe662f",
   "metadata": {},
   "outputs": [],
   "source": [
    "tuple1[0] = 999"
   ]
  },
  {
   "cell_type": "markdown",
   "id": "e2c5dab4",
   "metadata": {},
   "source": [
    "<br><br>\n",
    "However, you can reassign the name of a tuple to be a new tuple object"
   ]
  },
  {
   "cell_type": "code",
   "execution_count": null,
   "id": "443deb0d",
   "metadata": {},
   "outputs": [],
   "source": [
    "# Create new tuple and reassign name tuple1 to it\n",
    "tuple1 = (999, 2, 3)\n",
    "# or\n",
    "tuple1 = (999, tuple1[1], tuple1[2])"
   ]
  },
  {
   "cell_type": "markdown",
   "id": "43eedca6",
   "metadata": {},
   "source": [
    "<br><br>\n",
    "\n",
    "**Asside on python assignment (assigning values to an object):** python reads what's on the right side of an = sign before what is on the left. So you can reference \"old\" objects on the right while creating \"new\" objects. We can do this even if the new object is renaming the old object like above. This can be very confusing or very useful behavior."
   ]
  },
  {
   "cell_type": "markdown",
   "id": "641d5f32",
   "metadata": {},
   "source": [
    "<br><br><br><br><br><br><br><br><br><br><br><br><br><br><br>"
   ]
  },
  {
   "cell_type": "markdown",
   "id": "8ded8a36",
   "metadata": {},
   "source": [
    "___\n",
    "#### Ranges\n",
    "A `range` is a kind of `generator` -- it creates elements one by one, as we ask for them. Used in a `for` loop, the generator will spit out the next element each time we iterate through the for loop. "
   ]
  },
  {
   "cell_type": "code",
   "execution_count": null,
   "id": "884bfee9",
   "metadata": {},
   "outputs": [],
   "source": [
    "range1 = range(5)   # kind of \"list\" of integers\n",
    "\n",
    "print(range1)  # not very helpful at first"
   ]
  },
  {
   "cell_type": "markdown",
   "id": "759a3cb4",
   "metadata": {},
   "source": [
    "<br><br><br>\n",
    "\n",
    "<div class=\"alert alert-block alert-info\">\n",
    "<b>For Loop Aside:</b> We'll be learning more about for loops in the next section. For now, just note that for loops allow us to run an operation for each element in an **iterable object**.\n",
    "</div>\n"
   ]
  },
  {
   "cell_type": "code",
   "execution_count": null,
   "id": "546aea22",
   "metadata": {},
   "outputs": [],
   "source": [
    "for i in range1:\n",
    "    print(i)"
   ]
  },
  {
   "cell_type": "markdown",
   "id": "2b739954",
   "metadata": {},
   "source": [
    "<br><br>\n",
    "Note that `range` starts with the number 0 and ends **before 5**, not on 5. This results in a list of integers that still has 5 elements, but now with numbers that match python indexing. We can also make ranges that start in other places and count by numbers other than 1."
   ]
  },
  {
   "cell_type": "code",
   "execution_count": null,
   "id": "64397a61",
   "metadata": {},
   "outputs": [],
   "source": [
    "\n",
    "range2 = range(10)\n",
    "range3 = range(5, 10)     # start other than 0\n",
    "range4 = range(2, 10, 2)  # skip by 2\n",
    "\n",
    "for i in range4: print(i)"
   ]
  },
  {
   "cell_type": "markdown",
   "id": "c381438b",
   "metadata": {},
   "source": [
    "Ranges only take integers, not floats."
   ]
  },
  {
   "cell_type": "code",
   "execution_count": null,
   "id": "9fddaf8c",
   "metadata": {},
   "outputs": [],
   "source": [
    "range5 = range(2, 10.5)  # skip by 0.5"
   ]
  },
  {
   "cell_type": "markdown",
   "id": "9d673994",
   "metadata": {},
   "source": [
    "<br><br>\n",
    "We cannot change any of the elements of a `range`, we can only request / view them. So a `range` is also **immutable**. It is a type of **immutable iterable object**.\n",
    "<br><br>"
   ]
  },
  {
   "cell_type": "markdown",
   "id": "29c0e5cf",
   "metadata": {},
   "source": [
    "<br><br><br><br><br><br><br><br><br><br><br><br><br><br><br>"
   ]
  },
  {
   "cell_type": "markdown",
   "id": "f02c256e",
   "metadata": {},
   "source": [
    "___\n",
    "#### Sets\n",
    "Just like mathematical sets, sets cannot have repeated items. Can be useful for finding unique values of a list. We can use the `set()` function or just curly brackets `{}` to make a set."
   ]
  },
  {
   "cell_type": "code",
   "execution_count": null,
   "id": "61342faf",
   "metadata": {},
   "outputs": [],
   "source": [
    "set1 = set([1,2,3])  # input to set() should be a list\n",
    "print(set1)\n",
    "\n",
    "set2 = {1,1,1,2,3}   # returns only unique values\n",
    "print(set2)"
   ]
  },
  {
   "cell_type": "markdown",
   "id": "74be8621",
   "metadata": {},
   "source": [
    "<br><br>\n",
    "All items / elements of a set must be immutable. You cannot add a list to a set. However, sets themselves are mutable objects and you can add or remove items from them. [More on adding and removing from sets](https://www.programiz.com/python-programming/set#:~:text=A%20set%20is%20an%20unordered,or%20remove%20items%20from%20it.)"
   ]
  },
  {
   "cell_type": "code",
   "execution_count": null,
   "id": "5a5a9925",
   "metadata": {},
   "outputs": [],
   "source": [
    "set2 = {1,1,1,2,3}\n",
    "print(\"Starting set:\", set2)\n",
    "\n",
    "set2.add(4)  # Add one element\n",
    "print(\"       Add 4:\", set2)\n",
    "\n",
    "set2.update([5,6])  # Add multiple elements using a list\n",
    "print(\" Adding 5, 6:\", set2)\n",
    "\n",
    "set2.discard(6)  # discard an element\n",
    "print(\"Discarding 6:\", set2)\n",
    "\n",
    "set2.discard(6)  # can still discard an element if it doesn't exist in set\n",
    "print(\"Discarding 6:\", set2)\n",
    "\n",
    "set2.remove(1)  # remove an element\n",
    "print(\"  Removing 1:\", set2)\n",
    "\n",
    "set2.remove(1)  # removing an element that doesn't exist causes an Error\n",
    "print(\"  Removing 1:\", set2)\n",
    "\n"
   ]
  },
  {
   "cell_type": "markdown",
   "id": "d7b6a47a",
   "metadata": {},
   "source": [
    "<br><br><br><br><br><br><br><br><br><br><br><br><br><br><br>"
   ]
  },
  {
   "cell_type": "markdown",
   "id": "d2b94155",
   "metadata": {},
   "source": [
    "___\n",
    "#### Dictionaries\n",
    "Like a `set`, a `dict` also uses curly brackets, but uses `key:value` pairs. The key is on the left, and the value is on the right. This creates a type of unordered list where you can use a short key to acess something much larger or that might be changing. Just like looking up a the definition of a word in a physical dictionary."
   ]
  },
  {
   "cell_type": "code",
   "execution_count": null,
   "id": "205fafa4",
   "metadata": {},
   "outputs": [],
   "source": [
    "dict1 = {\"key1\": \"this is my a value1\", \n",
    "         'key2': 25, \n",
    "         3: 75, \n",
    "         4: [1,2,3]}\n",
    "\n",
    "print(\"The keys in the dictionary are:\", dict1.keys())\n",
    "print(\"\\n\")\n",
    "\n",
    "print('dict1[\"key1\"] =', dict1[\"key1\"])\n",
    "print('dict1[3] =', dict1[3])"
   ]
  },
  {
   "cell_type": "markdown",
   "id": "08042b14",
   "metadata": {},
   "source": [
    "<br>Dictionaries are mutable, so we can change thier contents:"
   ]
  },
  {
   "cell_type": "code",
   "execution_count": null,
   "id": "7fdcc705",
   "metadata": {},
   "outputs": [],
   "source": [
    "print('dict1[4] =', dict1[4])  # print before\n",
    "\n",
    "dict1[4] = [5, 4, 3]           # change\n",
    "print('dict1[4] =', dict1[4])  # print after"
   ]
  },
  {
   "cell_type": "markdown",
   "id": "f7794268",
   "metadata": {},
   "source": [
    "<br>\n",
    "<div class=\"alert alert-block alert-danger\">\n",
    "What if I call a key that doesn't exist?\n",
    "</div>"
   ]
  },
  {
   "cell_type": "code",
   "execution_count": null,
   "id": "0521b1ef",
   "metadata": {},
   "outputs": [],
   "source": [
    "print(dict1[5])  # print a value for a key that does not yet exist"
   ]
  },
  {
   "cell_type": "markdown",
   "id": "0148c604",
   "metadata": {},
   "source": [
    "<br>\n",
    "<div class=\"alert alert-block alert-success\">\n",
    "But I *CAN* create a new key:value pair that doesn't exist:\n",
    "</div>"
   ]
  },
  {
   "cell_type": "code",
   "execution_count": null,
   "id": "286cba5a",
   "metadata": {},
   "outputs": [],
   "source": [
    "dict1[5] = 25                  # Create new key:pair in dictionary\n",
    "print('dict1[5] =', dict1[5])  # print it"
   ]
  },
  {
   "cell_type": "markdown",
   "id": "de5db87d",
   "metadata": {},
   "source": [
    "<br><br><br><br><br><br><br><br><br><br><br><br><br><br><br>"
   ]
  },
  {
   "cell_type": "markdown",
   "id": "3de3e8e2",
   "metadata": {},
   "source": [
    "___\n",
    "\n",
    "### Getting an object's type\n",
    "Everything in python is an \"object.\" In python, all objects have metadata that describe what they are. For example, every object has a type like the types we described above. We can get this metadata by printing it out with the right syntax. Here, we can use the `type()` function to get the type of an object, then `print()` to print it out."
   ]
  },
  {
   "cell_type": "code",
   "execution_count": null,
   "id": "ea4bb431",
   "metadata": {},
   "outputs": [],
   "source": [
    "print(type(int3))\n",
    "\n",
    "print(type(float2))"
   ]
  },
  {
   "cell_type": "markdown",
   "id": "1388ed7e",
   "metadata": {},
   "source": [
    "<div class=\"alert alert-block alert-info\">\n",
    "<b>Printing an object's type can be super helpful when trying to debug <span style=\"color:red\">errors</span>.</b>\n",
    "</div>"
   ]
  },
  {
   "cell_type": "markdown",
   "id": "fa564eca",
   "metadata": {},
   "source": [
    "<br><br><br><br><br><br><br><br><br><br><br><br><br><br><br>[top of page](#top)"
   ]
  },
  {
   "cell_type": "markdown",
   "id": "5a8e2e42",
   "metadata": {},
   "source": [
    "<a id='numpy'></a>\n",
    "## Part 4: Numpy Data Types\n",
    "NumPy gives us the power to do faster and more mathematical operations in python:\n",
    "\n",
    ">\"NumPy is the fundamental package for scientific computing in Python. It is a Python library that provides a multidimensional array object, various derived objects (such as masked arrays and matrices), and an assortment of routines for fast operations on arrays, including mathematical, logical, shape manipulation, sorting, selecting, I/O, discrete Fourier transforms, basic linear algebra, basic statistical operations, random simulation and much more.\" [numpy.org](https://numpy.org/doc/stable/)\n",
    "\n",
    "\n",
    "Let's take a quick look through...\n"
   ]
  },
  {
   "cell_type": "markdown",
   "id": "573c3818",
   "metadata": {},
   "source": [
    "### Basic Numpy Types\n",
    "<table class=\"table\">\n",
    "<colgroup>\n",
    "<col style=\"width: 33%\">\n",
    "<col style=\"width: 33%\">\n",
    "<col style=\"width: 33%\">\n",
    "</colgroup>\n",
    "<thead>\n",
    "<tr class=\"row-odd\"><th class=\"head\"><p>Numpy type</p></th>\n",
    "<th class=\"head\"><p>C type</p></th>\n",
    "<th class=\"head\"><p>Description</p></th>\n",
    "</tr>\n",
    "</thead>\n",
    "<tbody>\n",
    "<tr class=\"row-even\"><td><p><a class=\"reference internal\" href=\"../reference/arrays.scalars.html#numpy.bool_\" title=\"numpy.bool_\"><code class=\"xref py py-obj docutils literal notranslate\"><span class=\"pre\">numpy.bool_</span></code></a></p></td>\n",
    "<td><p><code class=\"docutils literal notranslate\"><span class=\"pre\">bool</span></code></p></td>\n",
    "<td><p>Boolean (True or False) stored as a byte</p></td>\n",
    "</tr>\n",
    "<tr class=\"row-odd\"><td><p><a class=\"reference internal\" href=\"../reference/arrays.scalars.html#numpy.byte\" title=\"numpy.byte\"><code class=\"xref py py-obj docutils literal notranslate\"><span class=\"pre\">numpy.byte</span></code></a></p></td>\n",
    "<td><p><code class=\"docutils literal notranslate\"><span class=\"pre\">signed</span> <span class=\"pre\">char</span></code></p></td>\n",
    "<td><p>Platform-defined</p></td>\n",
    "</tr>\n",
    "<tr class=\"row-even\"><td><p><a class=\"reference internal\" href=\"../reference/arrays.scalars.html#numpy.ubyte\" title=\"numpy.ubyte\"><code class=\"xref py py-obj docutils literal notranslate\"><span class=\"pre\">numpy.ubyte</span></code></a></p></td>\n",
    "<td><p><code class=\"docutils literal notranslate\"><span class=\"pre\">unsigned</span> <span class=\"pre\">char</span></code></p></td>\n",
    "<td><p>Platform-defined</p></td>\n",
    "</tr>\n",
    "<tr class=\"row-odd\"><td><p><a class=\"reference internal\" href=\"../reference/arrays.scalars.html#numpy.short\" title=\"numpy.short\"><code class=\"xref py py-obj docutils literal notranslate\"><span class=\"pre\">numpy.short</span></code></a></p></td>\n",
    "<td><p><code class=\"docutils literal notranslate\"><span class=\"pre\">short</span></code></p></td>\n",
    "<td><p>Platform-defined</p></td>\n",
    "</tr>\n",
    "<tr class=\"row-even\"><td><p><a class=\"reference internal\" href=\"../reference/arrays.scalars.html#numpy.ushort\" title=\"numpy.ushort\"><code class=\"xref py py-obj docutils literal notranslate\"><span class=\"pre\">numpy.ushort</span></code></a></p></td>\n",
    "<td><p><code class=\"docutils literal notranslate\"><span class=\"pre\">unsigned</span> <span class=\"pre\">short</span></code></p></td>\n",
    "<td><p>Platform-defined</p></td>\n",
    "</tr>\n",
    "<tr class=\"row-odd\"><td><p><a class=\"reference internal\" href=\"../reference/arrays.scalars.html#numpy.intc\" title=\"numpy.intc\"><code class=\"xref py py-obj docutils literal notranslate\"><span class=\"pre\">numpy.intc</span></code></a></p></td>\n",
    "<td><p><code class=\"docutils literal notranslate\"><span class=\"pre\">int</span></code></p></td>\n",
    "<td><p>Platform-defined</p></td>\n",
    "</tr>\n",
    "<tr class=\"row-even\"><td><p><a class=\"reference internal\" href=\"../reference/arrays.scalars.html#numpy.uintc\" title=\"numpy.uintc\"><code class=\"xref py py-obj docutils literal notranslate\"><span class=\"pre\">numpy.uintc</span></code></a></p></td>\n",
    "<td><p><code class=\"docutils literal notranslate\"><span class=\"pre\">unsigned</span> <span class=\"pre\">int</span></code></p></td>\n",
    "<td><p>Platform-defined</p></td>\n",
    "</tr>\n",
    "<tr class=\"row-odd\"><td><p><a class=\"reference internal\" href=\"../reference/arrays.scalars.html#numpy.int_\" title=\"numpy.int_\"><code class=\"xref py py-obj docutils literal notranslate\"><span class=\"pre\">numpy.int_</span></code></a></p></td>\n",
    "<td><p><code class=\"docutils literal notranslate\"><span class=\"pre\">long</span></code></p></td>\n",
    "<td><p>Platform-defined</p></td>\n",
    "</tr>\n",
    "<tr class=\"row-even\"><td><p><a class=\"reference internal\" href=\"../reference/arrays.scalars.html#numpy.uint\" title=\"numpy.uint\"><code class=\"xref py py-obj docutils literal notranslate\"><span class=\"pre\">numpy.uint</span></code></a></p></td>\n",
    "<td><p><code class=\"docutils literal notranslate\"><span class=\"pre\">unsigned</span> <span class=\"pre\">long</span></code></p></td>\n",
    "<td><p>Platform-defined</p></td>\n",
    "</tr>\n",
    "<tr class=\"row-odd\"><td><p><a class=\"reference internal\" href=\"../reference/arrays.scalars.html#numpy.longlong\" title=\"numpy.longlong\"><code class=\"xref py py-obj docutils literal notranslate\"><span class=\"pre\">numpy.longlong</span></code></a></p></td>\n",
    "<td><p><code class=\"docutils literal notranslate\"><span class=\"pre\">long</span> <span class=\"pre\">long</span></code></p></td>\n",
    "<td><p>Platform-defined</p></td>\n",
    "</tr>\n",
    "<tr class=\"row-even\"><td><p><a class=\"reference internal\" href=\"../reference/arrays.scalars.html#numpy.ulonglong\" title=\"numpy.ulonglong\"><code class=\"xref py py-obj docutils literal notranslate\"><span class=\"pre\">numpy.ulonglong</span></code></a></p></td>\n",
    "<td><p><code class=\"docutils literal notranslate\"><span class=\"pre\">unsigned</span> <span class=\"pre\">long</span> <span class=\"pre\">long</span></code></p></td>\n",
    "<td><p>Platform-defined</p></td>\n",
    "</tr>\n",
    "<tr class=\"row-odd\"><td><p><a class=\"reference internal\" href=\"../reference/arrays.scalars.html#numpy.half\" title=\"numpy.half\"><code class=\"xref py py-obj docutils literal notranslate\"><span class=\"pre\">numpy.half</span></code></a> / <a class=\"reference internal\" href=\"../reference/arrays.scalars.html#numpy.float16\" title=\"numpy.float16\"><code class=\"xref py py-obj docutils literal notranslate\"><span class=\"pre\">numpy.float16</span></code></a></p></td>\n",
    "<td></td>\n",
    "<td><p>Half precision float:\n",
    "sign bit, 5 bits exponent, 10 bits mantissa</p></td>\n",
    "</tr>\n",
    "<tr class=\"row-even\"><td><p><a class=\"reference internal\" href=\"../reference/arrays.scalars.html#numpy.single\" title=\"numpy.single\"><code class=\"xref py py-obj docutils literal notranslate\"><span class=\"pre\">numpy.single</span></code></a></p></td>\n",
    "<td><p><code class=\"docutils literal notranslate\"><span class=\"pre\">float</span></code></p></td>\n",
    "<td><p>Platform-defined single precision float:\n",
    "typically sign bit, 8 bits exponent, 23 bits mantissa</p></td>\n",
    "</tr>\n",
    "<tr class=\"row-odd\"><td><p><a class=\"reference internal\" href=\"../reference/arrays.scalars.html#numpy.double\" title=\"numpy.double\"><code class=\"xref py py-obj docutils literal notranslate\"><span class=\"pre\">numpy.double</span></code></a></p></td>\n",
    "<td><p><code class=\"docutils literal notranslate\"><span class=\"pre\">double</span></code></p></td>\n",
    "<td><p>Platform-defined double precision float:\n",
    "typically sign bit, 11 bits exponent, 52 bits mantissa.</p></td>\n",
    "</tr>\n",
    "<tr class=\"row-even\"><td><p><a class=\"reference internal\" href=\"../reference/arrays.scalars.html#numpy.longdouble\" title=\"numpy.longdouble\"><code class=\"xref py py-obj docutils literal notranslate\"><span class=\"pre\">numpy.longdouble</span></code></a></p></td>\n",
    "<td><p><code class=\"docutils literal notranslate\"><span class=\"pre\">long</span> <span class=\"pre\">double</span></code></p></td>\n",
    "<td><p>Platform-defined extended-precision float</p></td>\n",
    "</tr>\n",
    "<tr class=\"row-odd\"><td><p><a class=\"reference internal\" href=\"../reference/arrays.scalars.html#numpy.csingle\" title=\"numpy.csingle\"><code class=\"xref py py-obj docutils literal notranslate\"><span class=\"pre\">numpy.csingle</span></code></a></p></td>\n",
    "<td><p><code class=\"docutils literal notranslate\"><span class=\"pre\">float</span> <span class=\"pre\">complex</span></code></p></td>\n",
    "<td><p>Complex number, represented by two single-precision floats (real and imaginary components)</p></td>\n",
    "</tr>\n",
    "<tr class=\"row-even\"><td><p><a class=\"reference internal\" href=\"../reference/arrays.scalars.html#numpy.cdouble\" title=\"numpy.cdouble\"><code class=\"xref py py-obj docutils literal notranslate\"><span class=\"pre\">numpy.cdouble</span></code></a></p></td>\n",
    "<td><p><code class=\"docutils literal notranslate\"><span class=\"pre\">double</span> <span class=\"pre\">complex</span></code></p></td>\n",
    "<td><p>Complex number, represented by two double-precision floats (real and imaginary components).</p></td>\n",
    "</tr>\n",
    "<tr class=\"row-odd\"><td><p><a class=\"reference internal\" href=\"../reference/arrays.scalars.html#numpy.clongdouble\" title=\"numpy.clongdouble\"><code class=\"xref py py-obj docutils literal notranslate\"><span class=\"pre\">numpy.clongdouble</span></code></a></p></td>\n",
    "<td><p><code class=\"docutils literal notranslate\"><span class=\"pre\">long</span> <span class=\"pre\">double</span> <span class=\"pre\">complex</span></code></p></td>\n",
    "<td><p>Complex number, represented by two extended-precision floats (real and imaginary components).</p></td>\n",
    "</tr>\n",
    "</tbody>\n",
    "</table>\n",
    "\n",
    "From [numpy.org](https://numpy.org/doc/stable/user/basics.types.html)\n",
    "\n",
    "\n",
    "<br><br>\n",
    "\n",
    "\n",
    "<div class=\"alert alert-block alert-info\">\n",
    "These look familiar, but note that numpy.half / numpy.float16, numpy.single, numpy.double, and numpy.longdouble offer more and more decimals of precision.\n",
    "</div>"
   ]
  },
  {
   "cell_type": "markdown",
   "id": "ba4c43e2",
   "metadata": {},
   "source": [
    "<br><br><br><br><br><br><br><br><br><br><br><br><br><br><br>"
   ]
  },
  {
   "cell_type": "markdown",
   "id": "5544ea06",
   "metadata": {},
   "source": [
    "### Numpy Arrays\n",
    "Arrays allow us to do vector operations in python. This will be covered in the next section. Let's take a quick look at how to construct numpy arrays."
   ]
  },
  {
   "cell_type": "markdown",
   "id": "fdb30326",
   "metadata": {},
   "source": [
    "#### Importing the NumPy Package\n",
    "We're going to import the NumPy package, then rename it as `np` to make it shorter and easier to use."
   ]
  },
  {
   "cell_type": "code",
   "execution_count": 2,
   "id": "1a7186ce",
   "metadata": {},
   "outputs": [],
   "source": [
    "import numpy as np"
   ]
  },
  {
   "cell_type": "markdown",
   "id": "01fb1289",
   "metadata": {},
   "source": [
    "#### Using numpy\n",
    "To use objects inside the numpy library, we use dot (.) notation. For example, to create a numpy array (like a mathematical vector), we will use `np.array()`. We'll get into more about python packages next section."
   ]
  },
  {
   "cell_type": "markdown",
   "id": "3191c525",
   "metadata": {},
   "source": [
    "#### Creating Arrays from Lists"
   ]
  },
  {
   "cell_type": "code",
   "execution_count": null,
   "id": "073b8237",
   "metadata": {},
   "outputs": [],
   "source": [
    "# del(np)\n",
    "import numpy as np\n",
    "\n",
    "list1 = [1, 2, 3]\n",
    "print('list1 =', list1)\n",
    "\n",
    "array1 = np.array(list1)\n",
    "print('array1 =', array1)\n"
   ]
  },
  {
   "cell_type": "markdown",
   "id": "b140c57f",
   "metadata": {},
   "source": [
    "<br><br><br><br><br><br><br><br><br><br><br><br><br><br><br>"
   ]
  },
  {
   "cell_type": "markdown",
   "id": "dbc260bd",
   "metadata": {},
   "source": [
    "#### Mutli-demensional Arrays\n",
    "We can create mutli-demensional arrays using a list of lists:"
   ]
  },
  {
   "cell_type": "code",
   "execution_count": null,
   "id": "be77d2b2",
   "metadata": {},
   "outputs": [],
   "source": [
    "list2 = [list1, list1, list1]\n",
    "print('list2 =', list2)\n",
    "\n",
    "array2 = np.array(list2)\n",
    "print('array2 =\\n', array2)"
   ]
  },
  {
   "cell_type": "markdown",
   "id": "3f00c908",
   "metadata": {},
   "source": [
    "<br><br><br><br><br><br><br><br><br><br><br><br><br><br><br>"
   ]
  },
  {
   "cell_type": "markdown",
   "id": "e60e7fab",
   "metadata": {},
   "source": [
    "#### Adding to (appending) Arrays\n",
    "We can add to arrays using the `np.append()` function."
   ]
  },
  {
   "cell_type": "code",
   "execution_count": null,
   "id": "72a02b56",
   "metadata": {},
   "outputs": [],
   "source": [
    "array3 = np.array([1])\n",
    "print('array3 =', array3)\n",
    "\n",
    "array3 = np.append(array3, 25)\n",
    "print('array3 =', array3)"
   ]
  },
  {
   "cell_type": "markdown",
   "id": "6844a329",
   "metadata": {},
   "source": [
    "<br><br><br><br><br><br><br><br><br><br><br><br><br><br><br>"
   ]
  },
  {
   "cell_type": "markdown",
   "id": "641996b1",
   "metadata": {},
   "source": [
    "\n",
    "#### Building Arrays\n",
    "We can also build arrays inside for loops."
   ]
  },
  {
   "cell_type": "code",
   "execution_count": 3,
   "id": "2904339a",
   "metadata": {},
   "outputs": [
    {
     "name": "stdout",
     "output_type": "stream",
     "text": [
      "array4 = [0. 1. 2. 3. 4. 5. 6. 7. 8. 9.]\n"
     ]
    }
   ],
   "source": [
    "array4 = np.array([])\n",
    "\n",
    "for i in range(10):\n",
    "    array4 = np.append(array4, i)\n",
    "\n",
    "print('array4 =', array4)"
   ]
  },
  {
   "cell_type": "markdown",
   "id": "120cb92a",
   "metadata": {},
   "source": [
    "Note that numpy arrays create numpy floats by default even if the inputs are integers. There are ways to specify integers if you need an array of integers instead."
   ]
  },
  {
   "cell_type": "markdown",
   "id": "fa1d1166",
   "metadata": {},
   "source": [
    "<br><br><br><br><br><br><br><br><br><br>[top of page](#top)"
   ]
  },
  {
   "cell_type": "markdown",
   "id": "a977bd87",
   "metadata": {},
   "source": [
    "<a id='matrix'></a>\n",
    "## Part 5: Matrix Algebra in Python\n",
    "\n",
    "Matrix algebra: pretty much every econometric problem has it and matrix algebra is often computationally MUCH faster than using loops (use julia if you can't stand to give up loops). In python, we primarily use NumPy arrays to do matrix multiplication.\n",
    "\n",
    "\n",
    "Here's a good tutorial from Stanford in 2017: [start on page 19](https://web.stanford.edu/class/cs231a/section/section1.pdf) (beware that it uses python 2.7, not 3.8, but I think most still applies or has an easy update if you google it)"
   ]
  },
  {
   "cell_type": "code",
   "execution_count": 30,
   "id": "aadb5541",
   "metadata": {},
   "outputs": [],
   "source": [
    "# Create a matrix M from lists\n",
    "M = np.array([[1, 2],\n",
    "              [4, 5],\n",
    "              [7, 8]])"
   ]
  },
  {
   "cell_type": "code",
   "execution_count": 39,
   "id": "b17b7f49",
   "metadata": {},
   "outputs": [],
   "source": [
    "# Create a vector v\n",
    "v1 = np.array([[1],\n",
    "              [2],\n",
    "              [3]])\n",
    "\n",
    "v2 = np.array([1, 2, 3])\n",
    "\n",
    "# note that we need an extra set of brackets to ma"
   ]
  },
  {
   "cell_type": "markdown",
   "id": "d8281daa",
   "metadata": {},
   "source": [
    "<br><br>"
   ]
  },
  {
   "cell_type": "markdown",
   "id": "2371a0ca",
   "metadata": {},
   "source": [
    "Getting the shape / dimensions of an array (remember it's *rows x columns*)"
   ]
  },
  {
   "cell_type": "code",
   "execution_count": 31,
   "id": "3ae829f6",
   "metadata": {},
   "outputs": [
    {
     "name": "stdout",
     "output_type": "stream",
     "text": [
      "(3, 2)\n"
     ]
    }
   ],
   "source": [
    "print(M.shape)"
   ]
  },
  {
   "cell_type": "code",
   "execution_count": 40,
   "id": "f5c354fa",
   "metadata": {},
   "outputs": [
    {
     "name": "stdout",
     "output_type": "stream",
     "text": [
      "(3, 1)\n",
      "(3,)\n"
     ]
    }
   ],
   "source": [
    "print(v1.shape)\n",
    "print(v2.shape)  # no second dimension -- it's a flat array"
   ]
  },
  {
   "cell_type": "code",
   "execution_count": 41,
   "id": "16647439",
   "metadata": {},
   "outputs": [
    {
     "name": "stdout",
     "output_type": "stream",
     "text": [
      "[[2]\n",
      " [4]\n",
      " [6]]\n",
      "[[3]\n",
      " [6]\n",
      " [9]]\n"
     ]
    }
   ],
   "source": [
    "print(v1 + v1)\n",
    "print(3*v1)"
   ]
  },
  {
   "cell_type": "code",
   "execution_count": 42,
   "id": "4a3c80a2",
   "metadata": {},
   "outputs": [
    {
     "name": "stdout",
     "output_type": "stream",
     "text": [
      "[[1. 0. 0.]\n",
      " [0. 1. 0.]\n",
      " [0. 0. 1.]]\n"
     ]
    }
   ],
   "source": [
    "# 3x3 Identity matrix\n",
    "I = np.eye(3)\n",
    "print(I)"
   ]
  },
  {
   "cell_type": "code",
   "execution_count": 43,
   "id": "f35d1f82",
   "metadata": {},
   "outputs": [
    {
     "data": {
      "text/plain": [
       "array([2])"
      ]
     },
     "execution_count": 43,
     "metadata": {},
     "output_type": "execute_result"
    }
   ],
   "source": [
    "# Vector indexing\n",
    "v1[1]"
   ]
  },
  {
   "cell_type": "code",
   "execution_count": 44,
   "id": "0ceb52b0",
   "metadata": {
    "scrolled": true
   },
   "outputs": [
    {
     "name": "stdout",
     "output_type": "stream",
     "text": [
      "[[1 2]\n",
      " [4 5]\n",
      " [7 8]]\n",
      "[1 2]\n",
      "2\n",
      "[[2]\n",
      " [5]]\n"
     ]
    }
   ],
   "source": [
    "# Matrix indexing\n",
    "print(M)\n",
    "\n",
    "print(M[0])     # first row\n",
    "\n",
    "print(M[0, 1])  # row 0, col 1 element\n",
    "\n",
    "print(M[:2, 1:2])  # rows 0-1, col 1"
   ]
  },
  {
   "cell_type": "code",
   "execution_count": 46,
   "id": "9ba7ec3d",
   "metadata": {},
   "outputs": [
    {
     "name": "stdout",
     "output_type": "stream",
     "text": [
      "[[1 2]\n",
      " [4 5]\n",
      " [7 8]]\n"
     ]
    }
   ],
   "source": [
    "# Let's remember what M, v1, v2 look like\n",
    "print(M)"
   ]
  },
  {
   "cell_type": "code",
   "execution_count": 47,
   "id": "c612033b",
   "metadata": {},
   "outputs": [
    {
     "name": "stdout",
     "output_type": "stream",
     "text": [
      "[[1]\n",
      " [2]\n",
      " [3]]\n"
     ]
    }
   ],
   "source": [
    "print(v1)"
   ]
  },
  {
   "cell_type": "code",
   "execution_count": 48,
   "id": "2dba77ac",
   "metadata": {},
   "outputs": [
    {
     "name": "stdout",
     "output_type": "stream",
     "text": [
      "[1 2 3]\n"
     ]
    }
   ],
   "source": [
    "print(v2)"
   ]
  },
  {
   "cell_type": "code",
   "execution_count": 52,
   "id": "6c15dfdd",
   "metadata": {},
   "outputs": [
    {
     "name": "stdout",
     "output_type": "stream",
     "text": [
      "[1 4 9]\n"
     ]
    }
   ],
   "source": [
    "# let's find v2.transpose * v2 (inner product?)\n",
    "print(v2.T * v2)"
   ]
  },
  {
   "cell_type": "markdown",
   "id": "18a8548d",
   "metadata": {},
   "source": [
    "<div class=\"alert alert-block alert-info\">\n",
    "NumPy implements this as <b>element-wise</b> multiplication\n",
    "</div>\n"
   ]
  },
  {
   "cell_type": "markdown",
   "id": "c4bce257",
   "metadata": {},
   "source": [
    "<br><br>"
   ]
  },
  {
   "cell_type": "code",
   "execution_count": 45,
   "id": "b191e2fa",
   "metadata": {},
   "outputs": [
    {
     "name": "stdout",
     "output_type": "stream",
     "text": [
      "[[1 2]\n",
      " [4 5]\n",
      " [7 8]]\n",
      "[1 2 3]\n"
     ]
    },
    {
     "ename": "ValueError",
     "evalue": "shapes (3,2) and (3,) not aligned: 2 (dim 1) != 3 (dim 0)",
     "output_type": "error",
     "traceback": [
      "\u001b[0;31m---------------------------------------------------------------------------\u001b[0m",
      "\u001b[0;31mValueError\u001b[0m                                Traceback (most recent call last)",
      "\u001b[0;32m/tmp/ipykernel_231871/3079580287.py\u001b[0m in \u001b[0;36m<module>\u001b[0;34m\u001b[0m\n\u001b[1;32m      3\u001b[0m \u001b[0mprint\u001b[0m\u001b[0;34m(\u001b[0m\u001b[0mv2\u001b[0m\u001b[0;34m)\u001b[0m\u001b[0;34m\u001b[0m\u001b[0;34m\u001b[0m\u001b[0m\n\u001b[1;32m      4\u001b[0m \u001b[0;34m\u001b[0m\u001b[0m\n\u001b[0;32m----> 5\u001b[0;31m \u001b[0mprint\u001b[0m\u001b[0;34m(\u001b[0m\u001b[0mM\u001b[0m\u001b[0;34m.\u001b[0m\u001b[0mdot\u001b[0m\u001b[0;34m(\u001b[0m\u001b[0mv2\u001b[0m\u001b[0;34m)\u001b[0m\u001b[0;34m)\u001b[0m\u001b[0;34m\u001b[0m\u001b[0;34m\u001b[0m\u001b[0m\n\u001b[0m",
      "\u001b[0;31mValueError\u001b[0m: shapes (3,2) and (3,) not aligned: 2 (dim 1) != 3 (dim 0)"
     ]
    }
   ],
   "source": [
    "# What's M*v2?\n",
    "print(M)\n",
    "print(v2)\n",
    "\n",
    "print(M.dot(v2))"
   ]
  },
  {
   "cell_type": "markdown",
   "id": "f0fe408c",
   "metadata": {},
   "source": [
    "<br><br>\n",
    "<div class=\"alert alert-block alert-danger\">\n",
    "<b>ValueError:</b> v2 is an array of shape (3,) -- it is a 1-dimensional array (a vector). In NumPy, we need to have \"shape conformable arrays\" to multiply. So we really need a 2-dimensional array (matrix) that only has one column.\n",
    "</div>"
   ]
  },
  {
   "cell_type": "code",
   "execution_count": 59,
   "id": "30fc968a",
   "metadata": {},
   "outputs": [
    {
     "name": "stdout",
     "output_type": "stream",
     "text": [
      "(3, 2)\n",
      "(3, 1)\n"
     ]
    }
   ],
   "source": [
    "# Both M and v1 are matrices, so they can be multiplied properly\n",
    "print(M.shape)\n",
    "print(v1.shape)"
   ]
  },
  {
   "cell_type": "code",
   "execution_count": 58,
   "id": "eb7190ec",
   "metadata": {},
   "outputs": [
    {
     "name": "stdout",
     "output_type": "stream",
     "text": [
      "\n"
     ]
    }
   ],
   "source": [
    "# How do we get them to multiply right?\n",
    "print()"
   ]
  },
  {
   "cell_type": "markdown",
   "id": "037cb553",
   "metadata": {},
   "source": [
    "<br><br><br><br>"
   ]
  },
  {
   "cell_type": "markdown",
   "id": "bde402b7",
   "metadata": {},
   "source": [
    "**Inverses**"
   ]
  },
  {
   "cell_type": "code",
   "execution_count": 66,
   "id": "6308d7a8",
   "metadata": {},
   "outputs": [],
   "source": [
    "M2 = np.array([[3, 0, 2],\n",
    "               [2, 0, -2],\n",
    "               [0, 1, 1]])"
   ]
  },
  {
   "cell_type": "code",
   "execution_count": 67,
   "id": "25a7ff1a",
   "metadata": {},
   "outputs": [
    {
     "name": "stdout",
     "output_type": "stream",
     "text": [
      "[[ 0.2  0.2  0. ]\n",
      " [-0.2  0.3  1. ]\n",
      " [ 0.2 -0.3 -0. ]]\n"
     ]
    }
   ],
   "source": [
    "print(np.linalg.inv(M2))"
   ]
  },
  {
   "cell_type": "markdown",
   "id": "953403e9",
   "metadata": {},
   "source": [
    "**Determinants**"
   ]
  },
  {
   "cell_type": "code",
   "execution_count": 70,
   "id": "e80fedd5",
   "metadata": {},
   "outputs": [
    {
     "name": "stdout",
     "output_type": "stream",
     "text": [
      "10.000000000000002\n"
     ]
    }
   ],
   "source": [
    "print(np.linalg.det(M2))"
   ]
  },
  {
   "cell_type": "markdown",
   "id": "2c6ee19d",
   "metadata": {},
   "source": [
    "<br><br><br><br><br><br><br><br><br><br>"
   ]
  },
  {
   "cell_type": "markdown",
   "id": "57c60a3a",
   "metadata": {},
   "source": [
    "### Errors we've seen so far\n",
    "- `KeyError`: dictionaries, removing an element from a set doesn't exist\n",
    "- `TypeError`: tuple reassignment, non-integer input to range()\n",
    "- `NameError`: package not yet imported\n",
    "- `IndentationError`: improper indentation in code blocks\n",
    "- `ValueError`: matrix dimensions not conforming\n",
    "\n",
    "### Sites we've used\n",
    "- [GeeksForGeeks](https://www.geeksforgeeks.org/python-programming-language/?ref=shm)\n",
    "- [RealPython](https://realpython.com/)\n",
    "- [W3 Schools](https://www.w3schools.com/python/)\n",
    "\n",
    "### Other super useful sites when googling\n",
    "- Stack Exchange\n",
    "- Stack Overflow"
   ]
  },
  {
   "cell_type": "markdown",
   "id": "0abf547a",
   "metadata": {},
   "source": [
    "<br><br><br><br><br><br><br><br><br><br>"
   ]
  },
  {
   "cell_type": "markdown",
   "id": "784883b0",
   "metadata": {},
   "source": [
    "## Looking Ahead\n",
    "- Functions\n",
    "- Python Classes\n",
    "- Ethan's Python Class"
   ]
  },
  {
   "cell_type": "code",
   "execution_count": null,
   "id": "86652eb4",
   "metadata": {},
   "outputs": [],
   "source": []
  }
 ],
 "metadata": {
  "kernelspec": {
   "display_name": "Python 3 (ipykernel)",
   "language": "python",
   "name": "python3"
  },
  "language_info": {
   "codemirror_mode": {
    "name": "ipython",
    "version": 3
   },
   "file_extension": ".py",
   "mimetype": "text/x-python",
   "name": "python",
   "nbconvert_exporter": "python",
   "pygments_lexer": "ipython3",
   "version": "3.7.12"
  }
 },
 "nbformat": 4,
 "nbformat_minor": 5
}
