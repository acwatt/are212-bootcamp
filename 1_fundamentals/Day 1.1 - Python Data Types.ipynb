{
 "cells": [
  {
   "cell_type": "markdown",
   "id": "ed999f16",
   "metadata": {},
   "source": [
    "# Day 1.1: Python Data Types\n",
    "Date: 03/10/2022\n",
    "Author: Aaron Watt\n",
    "\n",
    "Goal: Discuss different types of data structures in Python and explore their (sometimes strange) behavior. We will\n",
    "- List out many python data types, and quickly examine a few\n",
    "- Show some uses of the `print()` function that can be helpful\n",
    "- Discuss NumPy datatypes in more detail"
   ]
  },
  {
   "cell_type": "markdown",
   "id": "11c8c071",
   "metadata": {},
   "source": [
    "## Part 1: Basic python data types\n",
    "Every language has slightly different ways of storing information/data (data types). Each language also has it's own rules that go along with those data types. Let's start with the most common data types for python:\n",
    "\n",
    "- Text Type: `str`\n",
    "- Numeric Types: `int`, `float`, `complex`\n",
    "- Sequence Types: `list`, `tuple`, `range`\n",
    "- Set Types: `set`, `frozenset`\n",
    "- Mapping Type: `dict`\n",
    "- Boolean Type: `bool` (true or false)\n",
    "- Binary Types: `bytes`, `bytearray`, `memoryview` (1 or 0)\n",
    "\n",
    "\n",
    "The most common ones you'll probably use during ARE 212 are:\n",
    "- `str`\n",
    "- `int`, `float`\n",
    "- `list`, `tuple`, `range`\n",
    "- `set`\n",
    "- `dict`\n",
    "- `bool`\n",
    "- `bytes`\n",
    "\n",
    "Let's go through them real quick!\n",
    "\n",
    "\n",
    "[More on python data types](https://www.w3schools.com/python/python_datatypes.asp)"
   ]
  },
  {
   "cell_type": "markdown",
   "id": "5fcd9370",
   "metadata": {},
   "source": [
    "<br><br><br>\n",
    "### Examples of Data Types\n",
    "\n",
    "#### Strings\n",
    "A `str` is a list of characters."
   ]
  },
  {
   "cell_type": "code",
   "execution_count": null,
   "id": "a1058018",
   "metadata": {},
   "outputs": [],
   "source": [
    "str1 = \"h\"\n",
    "str1 = 'h'  # you can use either single '' or double quotes \"\"\n",
    "str2 = \"3\"\n",
    "str3 = \"\"   # empty string!\n",
    "str4 = \"ARE 212 Rocks!\""
   ]
  },
  {
   "cell_type": "markdown",
   "id": "6fd3a234",
   "metadata": {},
   "source": [
    "We can combine strings in a few ways"
   ]
  },
  {
   "cell_type": "code",
   "execution_count": null,
   "id": "13be4947",
   "metadata": {},
   "outputs": [],
   "source": [
    "str5 = str1 + str2\n",
    "print(str5)\n",
    "\n",
    "str6 = ', '.join([str1, str2])\n",
    "print(str6)"
   ]
  },
  {
   "cell_type": "markdown",
   "id": "33374ec6",
   "metadata": {},
   "source": [
    "\n",
    "<br/><br/><br/>\n",
    "#### Integers\n",
    "An `int` is an integer (can be zero or negative)"
   ]
  },
  {
   "cell_type": "code",
   "execution_count": null,
   "id": "06ff801f",
   "metadata": {},
   "outputs": [],
   "source": [
    "int1 = 0\n",
    "int2 = -500\n",
    "int3 = 10**10  # 10^10"
   ]
  },
  {
   "cell_type": "markdown",
   "id": "ac17d025",
   "metadata": {},
   "source": [
    "\n",
    "<br/><br/><br/>\n",
    "#### Floats\n",
    "A `float` is a real number (with decimal points). Beware of rounding errors."
   ]
  },
  {
   "cell_type": "code",
   "execution_count": null,
   "id": "2c62dd78",
   "metadata": {},
   "outputs": [],
   "source": [
    "float1 = 1.1\n",
    "float2 = 1e3  # 1*10^3"
   ]
  },
  {
   "cell_type": "markdown",
   "id": "29a3b6b2",
   "metadata": {},
   "source": [
    "Python automatically converts integers to floats if we do math with the integers that should return a float:"
   ]
  },
  {
   "cell_type": "code",
   "execution_count": null,
   "id": "ef8c95b7",
   "metadata": {},
   "outputs": [],
   "source": [
    "float3 = 1 / 2\n",
    "print(float3)"
   ]
  },
  {
   "cell_type": "markdown",
   "id": "073e5b3e",
   "metadata": {},
   "source": [
    "\n",
    "<br/><br/><br/>\n",
    "\n",
    "### Iterable Objects (lists, tuples, ranges, sets, dictionaries)\n",
    "Iterable objects are object that can be iterated over. These types allows us to build up to matrix algebra in the next section.\n",
    "\n",
    "#### Lists\n",
    "A `list` is an ordered bag of python objects. You can imagine putting a bunch of integers, floats, or strings into a list:"
   ]
  },
  {
   "cell_type": "code",
   "execution_count": null,
   "id": "f3afca55",
   "metadata": {},
   "outputs": [],
   "source": [
    "list1 = [1, 2, 3]\n",
    "list2 = [\"a\", \"b\", \"twenty three\"]"
   ]
  },
  {
   "cell_type": "markdown",
   "id": "857a0f36",
   "metadata": {},
   "source": [
    "You can also imagine putting a mix of items into a list (integer, string, float):"
   ]
  },
  {
   "cell_type": "code",
   "execution_count": null,
   "id": "f7a5e942",
   "metadata": {},
   "outputs": [],
   "source": [
    "list3 = [1, \"b\", 1.1]"
   ]
  },
  {
   "cell_type": "markdown",
   "id": "40504e5f",
   "metadata": {},
   "source": [
    "You can even put lists inside other lists (lists of lists or multidimensional lists):"
   ]
  },
  {
   "cell_type": "code",
   "execution_count": null,
   "id": "6d700e6e",
   "metadata": {},
   "outputs": [],
   "source": [
    "list4 = [[1, 2], [\"a\", \"b\"]]"
   ]
  },
  {
   "cell_type": "markdown",
   "id": "9253878f",
   "metadata": {},
   "source": [
    "<br><br>\n",
    "**Reassigning elements of a list**:\n",
    "we can change the elements of a list (thus, lists are called **\"mutable\"**, synonym for \"mutatable\"). Remember that indexing starts at 0 in python."
   ]
  },
  {
   "cell_type": "code",
   "execution_count": null,
   "id": "22dd68cd",
   "metadata": {},
   "outputs": [],
   "source": [
    "print(\"Before we make changes:\", list1)\n",
    "list1[0] = 999\n",
    "\n",
    "print(\"After we make changes: \", list1)"
   ]
  },
  {
   "cell_type": "markdown",
   "id": "6b045bc9",
   "metadata": {},
   "source": [
    "**Aside about running chunks in jupyter notebooks:** What happens if we run just the chunk above again?"
   ]
  },
  {
   "cell_type": "markdown",
   "id": "b7d1a4c8",
   "metadata": {},
   "source": [
    "<br/><br/><br/>\n",
    "___\n",
    "#### Tuples\n",
    "A `tuple` is basically an **immutable list**. The elements can be any python object but you cannot reassign new objects to an existing tuple."
   ]
  },
  {
   "cell_type": "code",
   "execution_count": null,
   "id": "078f4067",
   "metadata": {},
   "outputs": [],
   "source": [
    "# Immutable iterable objects\n",
    "tuple1 = (1, 2, 3)\n",
    "tuple2 = 1, 2, 3\n",
    "tuple3 = (\"a\", 23, [1, 2, 3])"
   ]
  },
  {
   "cell_type": "markdown",
   "id": "e7fde6d0",
   "metadata": {},
   "source": [
    "Tuples are **\"immutable\"** so the elements of a tuple cannot be changed after creation. Lists are **\"mutable\"**, so their elements can be changed. Trying to change a tuple element results in an error:"
   ]
  },
  {
   "cell_type": "code",
   "execution_count": null,
   "id": "9ebe662f",
   "metadata": {},
   "outputs": [],
   "source": [
    "tuple1[0] = 999"
   ]
  },
  {
   "cell_type": "markdown",
   "id": "e2c5dab4",
   "metadata": {},
   "source": [
    "<br><br>\n",
    "However, you can reassign the name of a tuple to be a new tuple object"
   ]
  },
  {
   "cell_type": "code",
   "execution_count": null,
   "id": "443deb0d",
   "metadata": {},
   "outputs": [],
   "source": [
    "# Create new tuple and reassign name tuple1 to it\n",
    "tuple1 = (999, 2, 3)\n",
    "# or\n",
    "tuple1 = (999, tuple1[1], tuple1[2])"
   ]
  },
  {
   "cell_type": "markdown",
   "id": "6fbf9282",
   "metadata": {},
   "source": [
    "<br><br>\n",
    "\n",
    "**Asside on python assignment:** python reads what's on the right side of an = sign before what is on the left. So you can reference \"old\" objects on the right while creating \"new\" objects. We can do this even if the new object is renaming the old object like above. This can be very confusing or very useful behavior."
   ]
  },
  {
   "cell_type": "markdown",
   "id": "8ded8a36",
   "metadata": {},
   "source": [
    "<br/><br/><br/>\n",
    "___\n",
    "#### Ranges\n",
    "A `range` is a kind of `generator` -- it creates elements one by one, as we ask for them. Used in a `for` loop, the generator will spit out the next element each time we iterate through the for loop. "
   ]
  },
  {
   "cell_type": "code",
   "execution_count": null,
   "id": "884bfee9",
   "metadata": {},
   "outputs": [],
   "source": [
    "range1 = range(5)   # kind of \"list\" of integers\n",
    "\n",
    "print(range1)  # not very helpful at first"
   ]
  },
  {
   "cell_type": "markdown",
   "id": "759a3cb4",
   "metadata": {},
   "source": [
    "<br><br><br>\n",
    "**For Loop Aside**: We'll be learning more about for loops in the next section. For now, just note that for loops allow us to run an operation for each element in an **iterable object**."
   ]
  },
  {
   "cell_type": "code",
   "execution_count": null,
   "id": "546aea22",
   "metadata": {},
   "outputs": [],
   "source": [
    "for i in range1:\n",
    "    print(i)"
   ]
  },
  {
   "cell_type": "markdown",
   "id": "2b739954",
   "metadata": {},
   "source": [
    "<br><br>\n",
    "Note that `range` starts with the number 0 and ends **before 5**, not on 5. This results in a list of integers that still has 5 elements, but now with numbers that match python indexing. We can also make ranges that start in other places and count by numbers other than 1."
   ]
  },
  {
   "cell_type": "code",
   "execution_count": null,
   "id": "64397a61",
   "metadata": {},
   "outputs": [],
   "source": [
    "\n",
    "range2 = range(10)\n",
    "range3 = range(5, 10)     # start other than 0\n",
    "range4 = range(2, 10, 2)  # skip by 2\n",
    "\n",
    "for i in range4: print(i)"
   ]
  },
  {
   "cell_type": "markdown",
   "id": "c381438b",
   "metadata": {},
   "source": [
    "Ranges only take integers, not floats."
   ]
  },
  {
   "cell_type": "code",
   "execution_count": null,
   "id": "9fddaf8c",
   "metadata": {},
   "outputs": [],
   "source": [
    "range5 = range(2, 10.5)  # skip by 0.5"
   ]
  },
  {
   "cell_type": "markdown",
   "id": "9d673994",
   "metadata": {},
   "source": [
    "<br><br>\n",
    "We cannot change any of the elements of a `range`, we can only request / view them. So a `range` is also **immutable**. It is a type of **immutable iterable object**.\n",
    "<br><br>"
   ]
  },
  {
   "cell_type": "markdown",
   "id": "f02c256e",
   "metadata": {},
   "source": [
    "<br><br><br>\n",
    "___\n",
    "#### Sets\n",
    "Just like mathematical sets, sets cannot have repeated items. Can be useful for finding unique values of a list. We can use the `set()` function or just curly brackets `{}` to make a set."
   ]
  },
  {
   "cell_type": "code",
   "execution_count": null,
   "id": "61342faf",
   "metadata": {},
   "outputs": [],
   "source": [
    "set1 = set([1,2,3])  # input to set() should be a list\n",
    "print(set1)\n",
    "\n",
    "set2 = {1,1,1,2,3}   # returns only unique values\n",
    "print(set2)"
   ]
  },
  {
   "cell_type": "markdown",
   "id": "d2b0fbe6",
   "metadata": {},
   "source": [
    "<br><br>\n",
    "All items / elements of a set must be immutable. You cannot add a list to a set. However, sets themselves are mutable objects and you can add or remove items from them. [More on adding and removing from sets](https://www.programiz.com/python-programming/set#:~:text=A%20set%20is%20an%20unordered,or%20remove%20items%20from%20it.)"
   ]
  },
  {
   "cell_type": "code",
   "execution_count": null,
   "id": "7ea89d6b",
   "metadata": {},
   "outputs": [],
   "source": [
    "set2 = {1,1,1,2,3}\n",
    "print(\"Starting set:\", set2)\n",
    "\n",
    "set2.add(4)  # Add one element\n",
    "print(\"       Add 4:\", set2)\n",
    "\n",
    "set2.update([5,6])  # Add multiple elements using a list\n",
    "print(\" Adding 5, 6:\", set2)\n",
    "\n",
    "set2.discard(6)  # discard an element\n",
    "print(\"Discarding 6:\", set2)\n",
    "\n",
    "set2.discard(6)  # can still discard an element if it doesn't exist in set\n",
    "print(\"Discarding 6:\", set2)\n",
    "\n",
    "set2.remove(1)  # remove an element\n",
    "print(\"  Removing 1:\", set2)\n",
    "\n",
    "set2.remove(1)  # removing an element that doesn't exist causes an Error\n",
    "print(\"  Removing 1:\", set2)\n",
    "\n"
   ]
  },
  {
   "cell_type": "markdown",
   "id": "d2b94155",
   "metadata": {},
   "source": [
    "<br><br><br>\n",
    "___\n",
    "#### Dictionaries\n",
    "Like a `set`, a `dict` also uses curly brackets, but uses `key:value` pairs. The key is on the left, and the value is on the right. This creates a type of unordered list where you can use a short key to acess something much larger or that might be changing. Just like looking up a the definition of a word in a physical dictionary."
   ]
  },
  {
   "cell_type": "code",
   "execution_count": null,
   "id": "205fafa4",
   "metadata": {},
   "outputs": [],
   "source": [
    "dict1 = {\"key1\": \"this is my a value1\", \n",
    "         'key2': 25, \n",
    "         3: 75, \n",
    "         4: [1,2,3]}\n",
    "\n",
    "print(\"The keys in the dictionary are:\", dict1.keys())\n",
    "print(\"\\n\")\n",
    "\n",
    "print('dict1[\"key1\"] =', dict1[\"key1\"])\n",
    "print('dict1[3] =', dict1[3])\n"
   ]
  },
  {
   "cell_type": "markdown",
   "id": "08042b14",
   "metadata": {},
   "source": [
    "<br>Dictionaries are mutable, so we can change thier contents:"
   ]
  },
  {
   "cell_type": "code",
   "execution_count": null,
   "id": "7fdcc705",
   "metadata": {},
   "outputs": [],
   "source": [
    "print('dict1[4] =', dict1[4])  # print before\n",
    "\n",
    "dict1[4] = [5, 4, 3]           # change\n",
    "print('dict1[4] =', dict1[4])  # print after"
   ]
  },
  {
   "cell_type": "markdown",
   "id": "f7794268",
   "metadata": {},
   "source": [
    "<br>What if I call a key that doesn't exist?"
   ]
  },
  {
   "cell_type": "code",
   "execution_count": null,
   "id": "0521b1ef",
   "metadata": {},
   "outputs": [],
   "source": [
    "print(dict1[5])  # print a value for a key that does not yet exist"
   ]
  },
  {
   "cell_type": "markdown",
   "id": "0148c604",
   "metadata": {},
   "source": [
    "<br>But I *CAN* create a new key:value pair that doesn't exist:"
   ]
  },
  {
   "cell_type": "code",
   "execution_count": null,
   "id": "286cba5a",
   "metadata": {},
   "outputs": [],
   "source": [
    "dict1[5] = 25                  # Create new key:pair in dictionary\n",
    "print('dict1[5] =', dict1[5])  # print it"
   ]
  },
  {
   "cell_type": "markdown",
   "id": "6e5e3266",
   "metadata": {},
   "source": [
    "<br><br><br>\n",
    "___\n",
    "#### Boolean Values\n",
    "Boolean Values are `True`/`False` values. These are used often with `if` statements. These will be useful in `for` loops that we get into later."
   ]
  },
  {
   "cell_type": "code",
   "execution_count": null,
   "id": "d969f519",
   "metadata": {},
   "outputs": [],
   "source": [
    "is_aaron_silly = True\n",
    "if is_aaron_silly:\n",
    "    print('I KNEW IT... aaron is silly')"
   ]
  },
  {
   "cell_type": "markdown",
   "id": "9c60ee57",
   "metadata": {},
   "source": [
    "<br><br><br>\n",
    "___\n",
    "#### Bytes\n",
    "Bytes ... know that they exist as a special way to encode information. You mostly need to know what they are in case an error occurs that tells you something about\n",
    "<span style=\"color:red\">encoding</span> or <span style=\"color:red\">Bytes-like objects</span>."
   ]
  },
  {
   "cell_type": "code",
   "execution_count": null,
   "id": "f609100b",
   "metadata": {},
   "outputs": [],
   "source": [
    "print(bytes(2))\n",
    "print(bytes('a', 'utf-8'))\n",
    "print(bytes([1,2,3]))"
   ]
  },
  {
   "cell_type": "markdown",
   "id": "3de3e8e2",
   "metadata": {},
   "source": [
    "<br><br><br><br><br>\n",
    "___\n",
    "\n",
    "### Getting an object's type\n",
    "Everything in python is an \"object.\" In python, all objects have metadata that describe what they are. For example, every object has a type like the types we described above. We can get this metadata by printing it out with the right syntax. Here, we can use the `type()` function to get the type of an object, then `print()` to print it out."
   ]
  },
  {
   "cell_type": "code",
   "execution_count": null,
   "id": "ea4bb431",
   "metadata": {},
   "outputs": [],
   "source": [
    "print(type(int3))\n",
    "\n",
    "print(type(float2))"
   ]
  },
  {
   "cell_type": "markdown",
   "id": "1388ed7e",
   "metadata": {},
   "source": [
    "**Printing an object's type can be super helpful when trying to debug errors.**"
   ]
  },
  {
   "cell_type": "markdown",
   "id": "b2c0cbb6",
   "metadata": {},
   "source": [
    "<br><br><br><br><br><br><br><br><br><br>"
   ]
  },
  {
   "cell_type": "markdown",
   "id": "5a8e2e42",
   "metadata": {},
   "source": [
    "## Part 2: Numpy Data Types\n",
    "NumPy gives us the power to do faster and more mathematical operations in python:\n",
    "\n",
    ">\"NumPy is the fundamental package for scientific computing in Python. It is a Python library that provides a multidimensional array object, various derived objects (such as masked arrays and matrices), and an assortment of routines for fast operations on arrays, including mathematical, logical, shape manipulation, sorting, selecting, I/O, discrete Fourier transforms, basic linear algebra, basic statistical operations, random simulation and much more.\" [numpy.org](https://numpy.org/doc/stable/)\n",
    "\n",
    "\n",
    "Let's take a quick look through...\n"
   ]
  },
  {
   "cell_type": "markdown",
   "id": "573c3818",
   "metadata": {},
   "source": [
    "### Basic Numpy Types\n",
    "<table class=\"table\">\n",
    "<colgroup>\n",
    "<col style=\"width: 33%\">\n",
    "<col style=\"width: 33%\">\n",
    "<col style=\"width: 33%\">\n",
    "</colgroup>\n",
    "<thead>\n",
    "<tr class=\"row-odd\"><th class=\"head\"><p>Numpy type</p></th>\n",
    "<th class=\"head\"><p>C type</p></th>\n",
    "<th class=\"head\"><p>Description</p></th>\n",
    "</tr>\n",
    "</thead>\n",
    "<tbody>\n",
    "<tr class=\"row-even\"><td><p><a class=\"reference internal\" href=\"../reference/arrays.scalars.html#numpy.bool_\" title=\"numpy.bool_\"><code class=\"xref py py-obj docutils literal notranslate\"><span class=\"pre\">numpy.bool_</span></code></a></p></td>\n",
    "<td><p><code class=\"docutils literal notranslate\"><span class=\"pre\">bool</span></code></p></td>\n",
    "<td><p>Boolean (True or False) stored as a byte</p></td>\n",
    "</tr>\n",
    "<tr class=\"row-odd\"><td><p><a class=\"reference internal\" href=\"../reference/arrays.scalars.html#numpy.byte\" title=\"numpy.byte\"><code class=\"xref py py-obj docutils literal notranslate\"><span class=\"pre\">numpy.byte</span></code></a></p></td>\n",
    "<td><p><code class=\"docutils literal notranslate\"><span class=\"pre\">signed</span> <span class=\"pre\">char</span></code></p></td>\n",
    "<td><p>Platform-defined</p></td>\n",
    "</tr>\n",
    "<tr class=\"row-even\"><td><p><a class=\"reference internal\" href=\"../reference/arrays.scalars.html#numpy.ubyte\" title=\"numpy.ubyte\"><code class=\"xref py py-obj docutils literal notranslate\"><span class=\"pre\">numpy.ubyte</span></code></a></p></td>\n",
    "<td><p><code class=\"docutils literal notranslate\"><span class=\"pre\">unsigned</span> <span class=\"pre\">char</span></code></p></td>\n",
    "<td><p>Platform-defined</p></td>\n",
    "</tr>\n",
    "<tr class=\"row-odd\"><td><p><a class=\"reference internal\" href=\"../reference/arrays.scalars.html#numpy.short\" title=\"numpy.short\"><code class=\"xref py py-obj docutils literal notranslate\"><span class=\"pre\">numpy.short</span></code></a></p></td>\n",
    "<td><p><code class=\"docutils literal notranslate\"><span class=\"pre\">short</span></code></p></td>\n",
    "<td><p>Platform-defined</p></td>\n",
    "</tr>\n",
    "<tr class=\"row-even\"><td><p><a class=\"reference internal\" href=\"../reference/arrays.scalars.html#numpy.ushort\" title=\"numpy.ushort\"><code class=\"xref py py-obj docutils literal notranslate\"><span class=\"pre\">numpy.ushort</span></code></a></p></td>\n",
    "<td><p><code class=\"docutils literal notranslate\"><span class=\"pre\">unsigned</span> <span class=\"pre\">short</span></code></p></td>\n",
    "<td><p>Platform-defined</p></td>\n",
    "</tr>\n",
    "<tr class=\"row-odd\"><td><p><a class=\"reference internal\" href=\"../reference/arrays.scalars.html#numpy.intc\" title=\"numpy.intc\"><code class=\"xref py py-obj docutils literal notranslate\"><span class=\"pre\">numpy.intc</span></code></a></p></td>\n",
    "<td><p><code class=\"docutils literal notranslate\"><span class=\"pre\">int</span></code></p></td>\n",
    "<td><p>Platform-defined</p></td>\n",
    "</tr>\n",
    "<tr class=\"row-even\"><td><p><a class=\"reference internal\" href=\"../reference/arrays.scalars.html#numpy.uintc\" title=\"numpy.uintc\"><code class=\"xref py py-obj docutils literal notranslate\"><span class=\"pre\">numpy.uintc</span></code></a></p></td>\n",
    "<td><p><code class=\"docutils literal notranslate\"><span class=\"pre\">unsigned</span> <span class=\"pre\">int</span></code></p></td>\n",
    "<td><p>Platform-defined</p></td>\n",
    "</tr>\n",
    "<tr class=\"row-odd\"><td><p><a class=\"reference internal\" href=\"../reference/arrays.scalars.html#numpy.int_\" title=\"numpy.int_\"><code class=\"xref py py-obj docutils literal notranslate\"><span class=\"pre\">numpy.int_</span></code></a></p></td>\n",
    "<td><p><code class=\"docutils literal notranslate\"><span class=\"pre\">long</span></code></p></td>\n",
    "<td><p>Platform-defined</p></td>\n",
    "</tr>\n",
    "<tr class=\"row-even\"><td><p><a class=\"reference internal\" href=\"../reference/arrays.scalars.html#numpy.uint\" title=\"numpy.uint\"><code class=\"xref py py-obj docutils literal notranslate\"><span class=\"pre\">numpy.uint</span></code></a></p></td>\n",
    "<td><p><code class=\"docutils literal notranslate\"><span class=\"pre\">unsigned</span> <span class=\"pre\">long</span></code></p></td>\n",
    "<td><p>Platform-defined</p></td>\n",
    "</tr>\n",
    "<tr class=\"row-odd\"><td><p><a class=\"reference internal\" href=\"../reference/arrays.scalars.html#numpy.longlong\" title=\"numpy.longlong\"><code class=\"xref py py-obj docutils literal notranslate\"><span class=\"pre\">numpy.longlong</span></code></a></p></td>\n",
    "<td><p><code class=\"docutils literal notranslate\"><span class=\"pre\">long</span> <span class=\"pre\">long</span></code></p></td>\n",
    "<td><p>Platform-defined</p></td>\n",
    "</tr>\n",
    "<tr class=\"row-even\"><td><p><a class=\"reference internal\" href=\"../reference/arrays.scalars.html#numpy.ulonglong\" title=\"numpy.ulonglong\"><code class=\"xref py py-obj docutils literal notranslate\"><span class=\"pre\">numpy.ulonglong</span></code></a></p></td>\n",
    "<td><p><code class=\"docutils literal notranslate\"><span class=\"pre\">unsigned</span> <span class=\"pre\">long</span> <span class=\"pre\">long</span></code></p></td>\n",
    "<td><p>Platform-defined</p></td>\n",
    "</tr>\n",
    "<tr class=\"row-odd\"><td><p><a class=\"reference internal\" href=\"../reference/arrays.scalars.html#numpy.half\" title=\"numpy.half\"><code class=\"xref py py-obj docutils literal notranslate\"><span class=\"pre\">numpy.half</span></code></a> / <a class=\"reference internal\" href=\"../reference/arrays.scalars.html#numpy.float16\" title=\"numpy.float16\"><code class=\"xref py py-obj docutils literal notranslate\"><span class=\"pre\">numpy.float16</span></code></a></p></td>\n",
    "<td></td>\n",
    "<td><p>Half precision float:\n",
    "sign bit, 5 bits exponent, 10 bits mantissa</p></td>\n",
    "</tr>\n",
    "<tr class=\"row-even\"><td><p><a class=\"reference internal\" href=\"../reference/arrays.scalars.html#numpy.single\" title=\"numpy.single\"><code class=\"xref py py-obj docutils literal notranslate\"><span class=\"pre\">numpy.single</span></code></a></p></td>\n",
    "<td><p><code class=\"docutils literal notranslate\"><span class=\"pre\">float</span></code></p></td>\n",
    "<td><p>Platform-defined single precision float:\n",
    "typically sign bit, 8 bits exponent, 23 bits mantissa</p></td>\n",
    "</tr>\n",
    "<tr class=\"row-odd\"><td><p><a class=\"reference internal\" href=\"../reference/arrays.scalars.html#numpy.double\" title=\"numpy.double\"><code class=\"xref py py-obj docutils literal notranslate\"><span class=\"pre\">numpy.double</span></code></a></p></td>\n",
    "<td><p><code class=\"docutils literal notranslate\"><span class=\"pre\">double</span></code></p></td>\n",
    "<td><p>Platform-defined double precision float:\n",
    "typically sign bit, 11 bits exponent, 52 bits mantissa.</p></td>\n",
    "</tr>\n",
    "<tr class=\"row-even\"><td><p><a class=\"reference internal\" href=\"../reference/arrays.scalars.html#numpy.longdouble\" title=\"numpy.longdouble\"><code class=\"xref py py-obj docutils literal notranslate\"><span class=\"pre\">numpy.longdouble</span></code></a></p></td>\n",
    "<td><p><code class=\"docutils literal notranslate\"><span class=\"pre\">long</span> <span class=\"pre\">double</span></code></p></td>\n",
    "<td><p>Platform-defined extended-precision float</p></td>\n",
    "</tr>\n",
    "<tr class=\"row-odd\"><td><p><a class=\"reference internal\" href=\"../reference/arrays.scalars.html#numpy.csingle\" title=\"numpy.csingle\"><code class=\"xref py py-obj docutils literal notranslate\"><span class=\"pre\">numpy.csingle</span></code></a></p></td>\n",
    "<td><p><code class=\"docutils literal notranslate\"><span class=\"pre\">float</span> <span class=\"pre\">complex</span></code></p></td>\n",
    "<td><p>Complex number, represented by two single-precision floats (real and imaginary components)</p></td>\n",
    "</tr>\n",
    "<tr class=\"row-even\"><td><p><a class=\"reference internal\" href=\"../reference/arrays.scalars.html#numpy.cdouble\" title=\"numpy.cdouble\"><code class=\"xref py py-obj docutils literal notranslate\"><span class=\"pre\">numpy.cdouble</span></code></a></p></td>\n",
    "<td><p><code class=\"docutils literal notranslate\"><span class=\"pre\">double</span> <span class=\"pre\">complex</span></code></p></td>\n",
    "<td><p>Complex number, represented by two double-precision floats (real and imaginary components).</p></td>\n",
    "</tr>\n",
    "<tr class=\"row-odd\"><td><p><a class=\"reference internal\" href=\"../reference/arrays.scalars.html#numpy.clongdouble\" title=\"numpy.clongdouble\"><code class=\"xref py py-obj docutils literal notranslate\"><span class=\"pre\">numpy.clongdouble</span></code></a></p></td>\n",
    "<td><p><code class=\"docutils literal notranslate\"><span class=\"pre\">long</span> <span class=\"pre\">double</span> <span class=\"pre\">complex</span></code></p></td>\n",
    "<td><p>Complex number, represented by two extended-precision floats (real and imaginary components).</p></td>\n",
    "</tr>\n",
    "</tbody>\n",
    "</table>\n",
    "\n",
    "From [numpy.org](https://numpy.org/doc/stable/user/basics.types.html)\n",
    "\n",
    "\n",
    "<br><br><br>\n",
    "These look familiar, but note that `numpy.half / numpy.float16`, `numpy.single`, `numpy.double`, and `numpy.longdouble` offer more and more decimals of precision."
   ]
  },
  {
   "cell_type": "markdown",
   "id": "5544ea06",
   "metadata": {},
   "source": [
    "<br><br><br>\n",
    "### Numpy Arrays\n",
    "Arrays allow us to do vector operations in python. This will be covered in the next section. Let's take a quick look at how to construct numpy arrays."
   ]
  },
  {
   "cell_type": "markdown",
   "id": "fdb30326",
   "metadata": {},
   "source": [
    "#### Importing the NumPy Package\n",
    "We're going to import the NumPy package, then rename it as `np` to make it shorter and easier to use."
   ]
  },
  {
   "cell_type": "code",
   "execution_count": null,
   "id": "1a7186ce",
   "metadata": {},
   "outputs": [],
   "source": [
    "import numpy as np"
   ]
  },
  {
   "cell_type": "markdown",
   "id": "01fb1289",
   "metadata": {},
   "source": [
    "#### Using numpy\n",
    "To use objects inside the numpy library, we use dot (.) notation. For example, to create a numpy array (like a mathematical vector), we will use `np.array()`. We'll get into more about python packages next section."
   ]
  },
  {
   "cell_type": "markdown",
   "id": "3191c525",
   "metadata": {},
   "source": [
    "#### Creating Arrays from Lists"
   ]
  },
  {
   "cell_type": "code",
   "execution_count": null,
   "id": "073b8237",
   "metadata": {},
   "outputs": [],
   "source": [
    "import numpy as np\n",
    "\n",
    "list1 = [1, 2, 3]\n",
    "print('list1 =', list1)\n",
    "\n",
    "array1 = np.array(list1)\n",
    "print('array1 =', array1)\n"
   ]
  },
  {
   "cell_type": "markdown",
   "id": "9d0f2a8c",
   "metadata": {},
   "source": [
    "<br><br><br>\n",
    "We can create mutli-demensional arrays using a list of lists:"
   ]
  },
  {
   "cell_type": "code",
   "execution_count": null,
   "id": "e15bfde4",
   "metadata": {},
   "outputs": [],
   "source": [
    "list2 = [list1, list1, list1]\n",
    "print('list2 =', list2)\n",
    "\n",
    "array2 = np.array(list2)\n",
    "print('array2 =\\n', array2)"
   ]
  },
  {
   "cell_type": "markdown",
   "id": "23bbf153",
   "metadata": {},
   "source": [
    "<br><br><br><br><br>\n",
    "#### Adding to (appending) Arrays\n",
    "We can add to arrays using the `np.append()` function."
   ]
  },
  {
   "cell_type": "code",
   "execution_count": null,
   "id": "332560fd",
   "metadata": {},
   "outputs": [],
   "source": [
    "array3 = np.array([1])\n",
    "print('array3 =', array3)\n",
    "\n",
    "array3 = np.append(array3, 25)\n",
    "print('array3 =', array3)"
   ]
  },
  {
   "cell_type": "markdown",
   "id": "641996b1",
   "metadata": {},
   "source": [
    "<br><br><br><br><br>\n",
    "#### Building Arrays\n",
    "We can also build arrays inside for loops."
   ]
  },
  {
   "cell_type": "code",
   "execution_count": null,
   "id": "2904339a",
   "metadata": {},
   "outputs": [],
   "source": [
    "array4 = np.array([])\n",
    "for i in range(10):\n",
    "    array4 = np.append(array4, i)\n",
    "print('array4 =', array4)"
   ]
  },
  {
   "cell_type": "markdown",
   "id": "f5f065e3",
   "metadata": {},
   "source": [
    "Note that numpy arrays create numpy floats by default even if the inputs are integers. There are ways to specify integers if you need an array of integers instead."
   ]
  },
  {
   "cell_type": "markdown",
   "id": "fa1d1166",
   "metadata": {},
   "source": [
    "<br><br><br><br><br><br><br><br><br><br>"
   ]
  }
 ],
 "metadata": {
  "kernelspec": {
   "display_name": "Python 3 (ipykernel)",
   "language": "python",
   "name": "python3"
  },
  "language_info": {
   "codemirror_mode": {
    "name": "ipython",
    "version": 3
   },
   "file_extension": ".py",
   "mimetype": "text/x-python",
   "name": "python",
   "nbconvert_exporter": "python",
   "pygments_lexer": "ipython3",
   "version": "3.7.12"
  }
 },
 "nbformat": 4,
 "nbformat_minor": 5
}
