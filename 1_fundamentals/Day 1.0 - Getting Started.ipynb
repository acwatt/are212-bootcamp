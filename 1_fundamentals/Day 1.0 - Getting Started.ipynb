{
 "cells": [
  {
   "cell_type": "markdown",
   "id": "ed999f16",
   "metadata": {},
   "source": [
    "# Day 1.0: Getting Started\n",
    "Date: 03/10/2022\n",
    "Author: Aaron Watt\n",
    "\n",
    "Goal: Briefly discuss installing python on your computer and installing/using python packages. We will\n",
    "- Discuss different types of python installs and point you to the right locations on the internet.\n",
    "- List a few ways of running python that do no require installing python\n",
    "- Show you where and how to install python packages in both these situations\n",
    "- Discuss how to use packages in your code and the appropriate syntax\n"
   ]
  },
  {
   "cell_type": "code",
   "execution_count": 1,
   "id": "a8d28fbd",
   "metadata": {},
   "outputs": [],
   "source": [
    "# for later (packages that we will use)\n"
   ]
  },
  {
   "cell_type": "markdown",
   "id": "11c8c071",
   "metadata": {},
   "source": [
    "## What is python?\n",
    "> \"Python is an interpreted, object-oriented, high-level programming language with dynamic semantics. Its high-level built in data structures, combined with dynamic typing and dynamic binding, make it very attractive for Rapid Application Development, as well as for use as a scripting or glue language to connect existing components together. Python's simple, easy to learn syntax emphasizes readability and therefore reduces the cost of program maintenance. Python supports modules and packages, which encourages program modularity and code reuse. The Python interpreter and the extensive standard library are available in source or binary form without charge for all major platforms, and can be freely distributed.\" [python.org](https://www.python.org/doc/essays/blurb/)\n",
    "\n",
    "- **interpreted**: not compiled -- saves time when making small changes\n",
    "- **object-oriented**: vs functional -- doesn't stop you from writing functional code\n",
    "- **high-level**: vs \"close to the metal\" -- spend time thinking about abstract algorithms, rather than transistor logic\n",
    "\n",
    "\n",
    "## What can I use it for?\n",
    "Python is a general-use programming language with fairly easy syntax to understand. So, you can use it for just about anything. If you need to do something on farily common a computer, chances are, someone has written a python package for that task. Compared to other tools (like MatLab, Julia, R), it genally has a comparative advanage in some of the following:\n",
    "- web scrapping\n",
    "- API handling\n",
    "- interfacing with equipment / scientific instruments\n",
    "- creating complex libraries of code\n",
    "\n",
    "\n",
    "And many people also use python, R, and Julia interchangably for:\n",
    "- creating and manipulating data (simulations, constructing new variables)\n",
    "- data analysis (statistics, regressions)\n",
    "- more complex algorithms that require layers of abstractions (e.g., dynamic discrete choice)\n",
    "\n",
    "Because python is interpreted (rather than compiled), it can be slow on big tasks. If you find yourself writing something that will take days to complete, there are options:\n",
    "- parallelize (run python on multiple cores of a computer)\n",
    "- use a server (run python on the UCBARE server, or other)\n",
    "- switch to a faster language (Julia?)\n",
    "\n",
    "\n",
    "\n",
    "## Python versions\n",
    "Python as a programming language has a history. As core python developers update features of the language to make it better for us, the version numbers change. Most python scripts run on either python version 2.x or version 3.x. Many older scripts still rely on python 2.6. Most current applications use python 3.7 or 3.8 (it's currently up to 3.10). This tutorial will be using \n",
    "\n",
    "\n",
    "## Local install vs online coding?\n",
    "\n",
    "\n",
    "## Ways to install locally\n",
    "There are many ways to install python on your computer, but a few rise above the rest. The most used (and therefore, the most debugged and practical for young users) are Anaconda"
   ]
  },
  {
   "cell_type": "code",
   "execution_count": null,
   "id": "c7520f76",
   "metadata": {},
   "outputs": [],
   "source": []
  },
  {
   "cell_type": "code",
   "execution_count": null,
   "id": "d7f829a5",
   "metadata": {},
   "outputs": [],
   "source": []
  },
  {
   "cell_type": "code",
   "execution_count": null,
   "id": "69ae4f17",
   "metadata": {},
   "outputs": [],
   "source": []
  },
  {
   "cell_type": "code",
   "execution_count": null,
   "id": "8043b336",
   "metadata": {},
   "outputs": [],
   "source": []
  },
  {
   "cell_type": "code",
   "execution_count": null,
   "id": "a21a0225",
   "metadata": {},
   "outputs": [],
   "source": []
  },
  {
   "cell_type": "code",
   "execution_count": null,
   "id": "fe1aa15a",
   "metadata": {},
   "outputs": [],
   "source": []
  },
  {
   "cell_type": "code",
   "execution_count": null,
   "id": "d4d503bd",
   "metadata": {},
   "outputs": [],
   "source": []
  }
 ],
 "metadata": {
  "kernelspec": {
   "display_name": "Python 3 (ipykernel)",
   "language": "python",
   "name": "python3"
  },
  "language_info": {
   "codemirror_mode": {
    "name": "ipython",
    "version": 3
   },
   "file_extension": ".py",
   "mimetype": "text/x-python",
   "name": "python",
   "nbconvert_exporter": "python",
   "pygments_lexer": "ipython3",
   "version": "3.7.12"
  }
 },
 "nbformat": 4,
 "nbformat_minor": 5
}
