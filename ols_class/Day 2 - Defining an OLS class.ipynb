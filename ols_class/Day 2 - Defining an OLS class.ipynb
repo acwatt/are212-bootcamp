{
 "cells": [
  {
   "cell_type": "markdown",
   "id": "ed999f16",
   "metadata": {},
   "source": [
    "# Day 2: A python class example\n",
    "Date: 01/05/2022\n",
    "Author: Lucy Hackett\n",
    "\n",
    "Goal: Introduce OLS as a minimum-distance estimator. We will:\n",
    "- write a very simple class example, explaining instantiation, methods, and scope\n",
    "- give a brief explanation of the scipy.optimize.minimize function\n",
    "- show how to pull from random distributions\n",
    "- create and plot x, y data\n",
    "- make a linear projection function with b0, b1, x as input, y as output\n",
    "- minimize the squared errors to estimate b0 and b1\n",
    "- create a class that implements the same minimization, \n",
    "  that takes data in instantiation, and has an 'estimate' method."
   ]
  },
  {
   "cell_type": "code",
   "execution_count": 4,
   "id": "a8d28fbd",
   "metadata": {},
   "outputs": [],
   "source": [
    "# for later\n",
    "import numpy as np"
   ]
  },
  {
   "cell_type": "markdown",
   "id": "11c8c071",
   "metadata": {},
   "source": [
    "## Introduction to python classes\n",
    "python classes are objects that have attributes and methods. These objects are abstract in the sense that a class in the abstract is used to \"instantiate\" specific \"instances\" of the class. For example, here we will create a class called Student, and will create several instantiations of specific students.\n",
    "\n",
    "To define a class, we use ``class ClassName:``, followed by indented lines (convention is to name classes with upper case).\n",
    "\n",
    "Classes have 3 components:\n",
    "* **The constructor** this is a method (think: function) that creates an _instance_ of the class. This component must be present in all classes, as it is the engine that creates the object. It looks like ``def __init__(self)``\n",
    "* **Attributes** These are atributes that all instances of a class have. They can be anything, or not exist at all. For example, in a Student class, we might want student's to have attributes like a student ID, gender, age, etc. These can vary by instance of the Student class, but all isntances of ``Student`` have one. \n",
    "* **Methods** Methods are functions that belong to a class. They may return output or not. For example, we may want to write a method that calculates the student's GPA given a series of numeric grades.\n",
    "\n",
    "The most simple class is made up of only a constructor, and the most simple constructor doesn't do anything except create an instance of the class. This looks like:"
   ]
  },
  {
   "cell_type": "code",
   "execution_count": 1,
   "id": "a1058018",
   "metadata": {},
   "outputs": [],
   "source": [
    "class Student:\n",
    "    def __init__(self):\n",
    "        # print something just to show the instance is created\n",
    "        # we don't even need this; we could also just type:\n",
    "        # pass\n",
    "        print(\"I made a student!\") "
   ]
  },
  {
   "cell_type": "code",
   "execution_count": 2,
   "id": "2219b139",
   "metadata": {},
   "outputs": [
    {
     "name": "stdout",
     "output_type": "stream",
     "text": [
      "I made a student!\n"
     ]
    }
   ],
   "source": [
    "# notice how the constructor method is executed when I call Student(),\n",
    "# as evidenced by the fact that the print() runs\n",
    "luisa = Student()"
   ]
  },
  {
   "cell_type": "code",
   "execution_count": 3,
   "id": "50fad78b",
   "metadata": {},
   "outputs": [
    {
     "data": {
      "text/plain": [
       "<__main__.Student at 0x7f977fe3e090>"
      ]
     },
     "execution_count": 3,
     "metadata": {},
     "output_type": "execute_result"
    }
   ],
   "source": [
    "# Luisa is a Student\n",
    "luisa"
   ]
  },
  {
   "cell_type": "markdown",
   "id": "19084cac",
   "metadata": {},
   "source": [
    "Now let's (re)make this class more interesting by adding attributes. Attributes can be passed into the instance of the object by defining the constructor as a function of the arguments we want to pass in. Let's pass in the following attributes:\n",
    "* name (a ``string``)\n",
    "* grades (a ``numpy array`` of numbers)\n",
    "* age\n",
    "\n",
    "We do this by defining these attributes with ``self.attribute =`` in the constructor function:"
   ]
  },
  {
   "cell_type": "code",
   "execution_count": 5,
   "id": "54339ed9",
   "metadata": {},
   "outputs": [],
   "source": [
    "class Student:\n",
    "    def __init__(self, name, grades, age):\n",
    "        self.name = name\n",
    "        self.grades = grades\n",
    "        self.age = age"
   ]
  },
  {
   "cell_type": "code",
   "execution_count": 10,
   "id": "f39db865",
   "metadata": {},
   "outputs": [
    {
     "name": "stdout",
     "output_type": "stream",
     "text": [
      "[4.  3.5 3. ]\n",
      "[3.  3.5 3. ]\n"
     ]
    }
   ],
   "source": [
    "# create an instance of the class:\n",
    "luisa = Student(\"Luisa\", np.array([4.0, 3.5, 3.0]), 28)\n",
    "armond = Student(\"Armand\", np.array([3.0, 3.5, 3.0]), 23)\n",
    "# we can access thse attributes using the .:\n",
    "print(luisa.grades)\n",
    "print(armond.grades)"
   ]
  },
  {
   "cell_type": "markdown",
   "id": "e9cd7910",
   "metadata": {},
   "source": [
    "Finally, we add in methods. Methods (usually) go _outside the constructor environment_ (unindented), as they are not created when the instance is created but rather called later. Because these \"belong\" to the class just like attributes do, we call these methods using ``instanceName.methodName()`` similar to how attributes are also accessed using ``.``. Let's write two simple methods:\n",
    "* A method that takes as an input a greeting phrase and prints ``_____, [instance name]!``.\n",
    "* A method that returns the student's GPA\n",
    "\n",
    "Note a couple things about the method below:\n",
    "* class methods are defined with ``self`` as the first argument, but this argument is omitted when the method is called.\n",
    "* Because ``self`` is passed to the methods, these have access to any methods and attributes that belong to the class."
   ]
  },
  {
   "cell_type": "code",
   "execution_count": 14,
   "id": "cb48f64c",
   "metadata": {},
   "outputs": [],
   "source": [
    "class Student:\n",
    "    def __init__(self, name, grades, age):\n",
    "        self.name = name\n",
    "        self.grades = grades\n",
    "        self.age = age\n",
    "        \n",
    "    def greeting(self, phrase):\n",
    "        print(phrase+', '+self.name+'!')\n",
    "        \n",
    "    def gpa(self):\n",
    "        return(np.mean(self.grades))"
   ]
  },
  {
   "cell_type": "code",
   "execution_count": 15,
   "id": "0afd6344",
   "metadata": {},
   "outputs": [],
   "source": [
    "luisa = Student(\"Luisa\", np.array([4.0, 3.5, 3.0]), 28)"
   ]
  },
  {
   "cell_type": "code",
   "execution_count": 16,
   "id": "7d6868e1",
   "metadata": {},
   "outputs": [
    {
     "name": "stdout",
     "output_type": "stream",
     "text": [
      "Ahoy, Luisa!\n"
     ]
    }
   ],
   "source": [
    "# call the greeting method\n",
    "luisa.greeting(\"Ahoy\")"
   ]
  },
  {
   "cell_type": "code",
   "execution_count": 17,
   "id": "b92ec45c",
   "metadata": {},
   "outputs": [
    {
     "data": {
      "text/plain": [
       "3.5"
      ]
     },
     "execution_count": 17,
     "metadata": {},
     "output_type": "execute_result"
    }
   ],
   "source": [
    "# calculate Luisa's GPA:\n",
    "gpa = luisa.gpa()\n",
    "print(gpa)"
   ]
  },
  {
   "cell_type": "markdown",
   "id": "8336e900",
   "metadata": {},
   "source": [
    "FIXME: What should we add about scope?"
   ]
  },
  {
   "cell_type": "markdown",
   "id": "1b132c93",
   "metadata": {},
   "source": [
    "## Python classes in the wild: Random numbers\n",
    "\n",
    "Now that we have seen the basic functionality of python classes, you will notice that classes are **everywhere**. While python is not explicitly an objecct-oriented language, i.e., a language designed to work with abstract objects like classes, many, many python packages are build around classes. \n",
    "\n",
    "A nearby example are random variable distributions from the ``scipy.stats`` module. These distributions are actually themselves instances of a class called ``rv_continuous``"
   ]
  },
  {
   "cell_type": "code",
   "execution_count": 19,
   "id": "97f0c33e",
   "metadata": {},
   "outputs": [],
   "source": [
    "from scipy.stats import distributions as iid"
   ]
  },
  {
   "cell_type": "code",
   "execution_count": 20,
   "id": "a552bfa5",
   "metadata": {},
   "outputs": [],
   "source": [
    "# instantiate a normal distribution\n",
    "# note that passing arguments into the instantiation here is not\n",
    "# necessary; that is because there are default values for attributes\n",
    "# such as the mean and variance (sufficient statistics for this dist.)\n",
    "x = iid.norm()"
   ]
  },
  {
   "cell_type": "code",
   "execution_count": 24,
   "id": "ab06e733",
   "metadata": {},
   "outputs": [
    {
     "data": {
      "text/plain": [
       "RandomState(MT19937) at 0x7F978018F270"
      ]
     },
     "execution_count": 24,
     "metadata": {},
     "output_type": "execute_result"
    }
   ],
   "source": [
    "# access an attribute: random state\n",
    "# (used to generate random numbers)\n",
    "x.random_state"
   ]
  },
  {
   "cell_type": "code",
   "execution_count": 25,
   "id": "65c8a109",
   "metadata": {},
   "outputs": [
    {
     "data": {
      "text/plain": [
       "0.0"
      ]
     },
     "execution_count": 25,
     "metadata": {},
     "output_type": "execute_result"
    }
   ],
   "source": [
    "# access a method: get the mean\n",
    "x.mean()"
   ]
  },
  {
   "cell_type": "code",
   "execution_count": 26,
   "id": "591b31c9",
   "metadata": {},
   "outputs": [
    {
     "data": {
      "text/plain": [
       "array([-0.84044792,  0.59675202,  1.31426983,  0.61845329, -0.82903949])"
      ]
     },
     "execution_count": 26,
     "metadata": {},
     "output_type": "execute_result"
    }
   ],
   "source": [
    "# another method: generate random numbers using the rvs() method\n",
    "x.rvs(5)"
   ]
  },
  {
   "cell_type": "code",
   "execution_count": 27,
   "id": "75b919ab",
   "metadata": {},
   "outputs": [
    {
     "data": {
      "text/plain": [
       "5.0"
      ]
     },
     "execution_count": 27,
     "metadata": {},
     "output_type": "execute_result"
    }
   ],
   "source": [
    "# note that we can create more instances with different attributes:\n",
    "x5 = iid.norm(loc=5)\n",
    "x5.mean()"
   ]
  },
  {
   "cell_type": "markdown",
   "id": "21f7a3d2",
   "metadata": {},
   "source": [
    "## Exercise\n",
    "Use ``scipy.stats`` distributions to generate 2 vectors ``x`` and ``y``. Try and read the documentation for the gamma distribution [here](https://docs.scipy.org/doc/scipy/reference/generated/scipy.stats.gamma.html) to make one of these vectors distributed $\\Gamma(a), a > 0$. The documentation for the normal distribution if you want to play with that is [here](https://docs.scipy.org/doc/scipy/reference/generated/scipy.stats.norm.html#scipy.stats.norm).\n",
    "\n",
    "Plot these against eachother."
   ]
  },
  {
   "cell_type": "code",
   "execution_count": 29,
   "id": "3c8012e0",
   "metadata": {},
   "outputs": [],
   "source": [
    "# Step 1: instantiate\n",
    "\n",
    "# y distributed normal (5,5)\n",
    "y = iid.norm(loc=5,scale=5)\n",
    "# x dist. gamma(a)\n",
    "a = 2\n",
    "x = iid.gamma(a)"
   ]
  },
  {
   "cell_type": "code",
   "execution_count": 30,
   "id": "a9457ad5",
   "metadata": {},
   "outputs": [],
   "source": [
    "# Step 2: generate random numbers\n",
    "N = 100\n",
    "y_draw = y.rvs(N)\n",
    "x_draw = x.rvs(N)"
   ]
  },
  {
   "cell_type": "code",
   "execution_count": 34,
   "id": "93a25642",
   "metadata": {},
   "outputs": [
    {
     "data": {
      "text/plain": [
       "Text(0, 0.5, 'Y')"
      ]
     },
     "execution_count": 34,
     "metadata": {},
     "output_type": "execute_result"
    },
    {
     "data": {
      "image/png": "[encoded data removed]",
      "text/plain": [
       "<Figure size 432x288 with 1 Axes>"
      ]
     },
     "metadata": {
      "needs_background": "light"
     },
     "output_type": "display_data"
    }
   ],
   "source": [
    "# extra: plot\n",
    "import matplotlib.pyplot as plt\n",
    "\n",
    "fig, ax = plt.subplots()\n",
    "ax.scatter(x_draw, y_draw)\n",
    "\n",
    "ax.set_xlabel(\"X\")\n",
    "ax.set_ylabel(\"Y\")"
   ]
  },
  {
   "cell_type": "markdown",
   "id": "24315b71",
   "metadata": {},
   "source": [
    "## Building blocks of an OLS class\n",
    "Now, before defining the OLS class methods, we are going to write its methods first outside the class so that we know they are behaving properly. Our goal is to write 2 main methods:\n",
    "1. Linear projection\n",
    "    - inputs: b0, b1, x\n",
    "    - outputs: y\n",
    "2. Minimizer function: minimizes the squared distance between the linear projection and y\n",
    "\n",
    "### 1. Linear projection\n",
    "Suppose we have a vector X that is N by 2, where the first column is a column of ones, and a vector of betas: b = [b0, b1]. The projection matrix, or the matrix that predicts y, is given by $Xb$."
   ]
  },
  {
   "cell_type": "code",
   "execution_count": 35,
   "id": "c950d348",
   "metadata": {},
   "outputs": [],
   "source": [
    "def linear_projection(X, b):\n",
    "    return X@b"
   ]
  },
  {
   "cell_type": "code",
   "execution_count": 52,
   "id": "c4f9b903",
   "metadata": {},
   "outputs": [
    {
     "data": {
      "text/plain": [
       "array([[ 1.97768266],\n",
       "       [ 5.90864822],\n",
       "       [ 5.82293348],\n",
       "       [-8.23797788],\n",
       "       [15.70418132]])"
      ]
     },
     "execution_count": 52,
     "metadata": {},
     "output_type": "execute_result"
    }
   ],
   "source": [
    "# test our function\n",
    "N = 100\n",
    "\n",
    "# note I instantiate iid.norm() and call method rvs() in the same step!\n",
    "X = np.vstack((np.ones(N), iid.norm().rvs(N))).T\n",
    "# we don't need y yet but let's make it for later\n",
    "y = iid.norm(loc=2).rvs(N).reshape((N,1))\n",
    "b = np.array([2,7]).reshape(2,1)\n",
    "\n",
    "# look at the first 5 entries\n",
    "linear_projection(X, b)[:5]"
   ]
  },
  {
   "cell_type": "markdown",
   "id": "7eb18f1c",
   "metadata": {},
   "source": [
    "### 2. Minimizer function\n",
    "In order to minimize, we are going to use a minimizer function from ``scipy.optimize``. The documentation for this function can be found [here](https://docs.scipy.org/doc/scipy/reference/generated/scipy.optimize.minimize.html), but the key arguments are the following:\n",
    "* ``fun``: the function to be minimized. This must be a function of only one input; if there are multiple inputs, we will \"mask\" these using lambda functions.\n",
    "* ``x0``: The start guess for the solution. In the case that the solution has a global minimum (as the least squares problem does) the choice will only affect computation time.\n",
    "\n",
    "The function returns an instance of the ``OptimizeResult`` class, which has several attributes. The only one we will be interested in for now is ``x``, the solution that solves the minimization.\n",
    "\n",
    "Let's set up a function that returns the object we want to minimize: the sum of squared errors:"
   ]
  },
  {
   "cell_type": "code",
   "execution_count": 55,
   "id": "862687dc",
   "metadata": {},
   "outputs": [],
   "source": [
    "def sse(y, X, b):\n",
    "    yhat = linear_projection(X, b)\n",
    "    sse = np.sum((yhat - y)**2)\n",
    "    return sse"
   ]
  },
  {
   "cell_type": "markdown",
   "id": "059494ec",
   "metadata": {},
   "source": [
    "Now we can minimize this function, making it a function of just one variable by masking the other inputs in a lambda function:"
   ]
  },
  {
   "cell_type": "code",
   "execution_count": 57,
   "id": "bc0845f5",
   "metadata": {},
   "outputs": [],
   "source": [
    "from scipy.optimize import minimize"
   ]
  },
  {
   "cell_type": "code",
   "execution_count": 60,
   "id": "552d7c73",
   "metadata": {},
   "outputs": [
    {
     "data": {
      "text/plain": [
       "      fun: 10873.725596765391\n",
       " hess_inv: array([[5.03788452e-05, 4.93170075e-06],\n",
       "       [4.93170075e-06, 6.42009481e-05]])\n",
       "      jac: array([ 0., -0.])\n",
       "  message: 'Optimization terminated successfully.'\n",
       "     nfev: 30\n",
       "      nit: 7\n",
       "     njev: 10\n",
       "   status: 0\n",
       "  success: True\n",
       "        x: array([ 1.86817651e+00, -1.33989881e-09])"
      ]
     },
     "execution_count": 60,
     "metadata": {},
     "output_type": "execute_result"
    }
   ],
   "source": [
    "minimize(lambda b: sse(y, X, b), x0 = [0,0])\n",
    "# as expected, we get an intercept of around 2 and a slope around 0"
   ]
  },
  {
   "cell_type": "markdown",
   "id": "48d77f77",
   "metadata": {},
   "source": [
    "## Creating an OLS class\n",
    "Now let's take our functions and organize them into an OLS class. This class will have attributes X and y, and methods defined by the functions above."
   ]
  },
  {
   "cell_type": "code",
   "execution_count": 67,
   "id": "2ad70bfb",
   "metadata": {},
   "outputs": [],
   "source": [
    "class OLS:\n",
    "    # constructor\n",
    "    def __init__(self, X, y):\n",
    "        # define attributes\n",
    "        self.X = X\n",
    "        self.y = y\n",
    "    \n",
    "    ##### methods\n",
    "    # linear projection\n",
    "    def linear_projection(self, b):\n",
    "        return self.X@b\n",
    "    # SSE\n",
    "    def sse(self, b):\n",
    "        yhat = linear_projection(self.X, b)\n",
    "        sse = np.sum((yhat - self.y)**2)\n",
    "        return sse\n",
    "    # minimize the SSE\n",
    "    def estimate(self, x0 = [0,0]):\n",
    "        sol = minimize(lambda b: sse(self.y, self.X, b), x0 = x0)\n",
    "        return sol.x"
   ]
  },
  {
   "cell_type": "code",
   "execution_count": 68,
   "id": "781291dd",
   "metadata": {},
   "outputs": [],
   "source": [
    "# instantiate model\n",
    "model1 = OLS(X, y)"
   ]
  },
  {
   "cell_type": "code",
   "execution_count": 69,
   "id": "9d3a25c6",
   "metadata": {},
   "outputs": [
    {
     "data": {
      "text/plain": [
       "array([ 1.86817651e+00, -1.33989881e-09])"
      ]
     },
     "execution_count": 69,
     "metadata": {},
     "output_type": "execute_result"
    }
   ],
   "source": [
    "# call the solve_OLS() method\n",
    "model1.estimate()"
   ]
  }
 ],
 "metadata": {
  "kernelspec": {
   "display_name": "Python 3",
   "language": "python",
   "name": "python3"
  },
  "language_info": {
   "codemirror_mode": {
    "name": "ipython",
    "version": 3
   },
   "file_extension": ".py",
   "mimetype": "text/x-python",
   "name": "python",
   "nbconvert_exporter": "python",
   "pygments_lexer": "ipython3",
   "version": "3.8.8"
  }
 },
 "nbformat": 4,
 "nbformat_minor": 5
}
