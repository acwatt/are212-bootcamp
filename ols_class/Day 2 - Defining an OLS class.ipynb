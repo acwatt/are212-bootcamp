{
 "cells": [
  {
   "cell_type": "markdown",
   "id": "ed999f16",
   "metadata": {},
   "source": [
    "# Day 2: A python class example\n",
    "Date: 01/05/2022\n",
    "Author: Lucy Hackett\n",
    "\n",
    "Goal: Introduce OLS as a minimum-distance estimator. We will:\n",
    "- write a very simple class example, explaining instantiation, methods, and scope\n",
    "- give a brief explanation of the scipy.optimize.minimize function\n",
    "- show how to pull from random distributions\n",
    "- create and plot x, y data\n",
    "- make a linear projection function with b0, b1, x as input, y as output\n",
    "- minimize the squared errors to estimate b0 and b1\n",
    "- create a class that implements the same minimization, \n",
    "  that takes data in instantiation, and has an 'estimate' method."
   ]
  },
  {
   "cell_type": "code",
   "execution_count": 1,
   "id": "a8d28fbd",
   "metadata": {},
   "outputs": [],
   "source": [
    "# for later\n",
    "import numpy as np\n",
    "from scipy.stats import distributions as iid\n",
    "from scipy.stats import rv_continuous"
   ]
  },
  {
   "cell_type": "markdown",
   "id": "11c8c071",
   "metadata": {},
   "source": [
    "## Introduction to python classes\n",
    "python classes are objects that have attributes and methods. These objects are abstract in the sense that a class in the abstract is used to \"instantiate\" specific \"instances\" of the class. For example, here we will create a class called Student, and will create several instantiations of specific students.\n",
    "\n",
    "To define a class, we use ``class ClassName:``, followed by indented lines (convention is to name classes with upper case).\n",
    "\n",
    "Classes have 3 components:\n",
    "* **The constructor** this is a method (think: function) that creates an _instance_ of the class. This component must be present in all classes, as it is the engine that creates the object. It looks like ``def __init__(self):``\n",
    "* **Attributes** These are attributes that all instances of a class have. They can be anything, or not exist at all. For example, in a Student class, we might want student's to have attributes like a student ID, gender, age, etc. These can vary by instance of the Student class, but all instances of ``Student`` have one. If we imagine an alternative class called `Alien()`, attributes might include home planet and and number of limbs.\n",
    "* **Methods** Methods are functions that belong to a class. They may return output or not. For example, we may want to write a method that calculates the student's GPA given a series of numeric grades.\n",
    "\n",
    "The most simple class is made up of only a constructor, and the most simple constructor doesn't do anything except create an instance of the class. This looks like:"
   ]
  },
  {
   "cell_type": "code",
   "execution_count": 2,
   "id": "a1058018",
   "metadata": {},
   "outputs": [],
   "source": [
    "class Student:\n",
    "    def __init__(self):\n",
    "        # print something just to show the instance is created\n",
    "        # we don't even need this; we could also just type:\n",
    "        # pass\n",
    "        print(\"I made a student!\") "
   ]
  },
  {
   "cell_type": "code",
   "execution_count": 3,
   "id": "2219b139",
   "metadata": {},
   "outputs": [
    {
     "name": "stdout",
     "output_type": "stream",
     "text": [
      "I made a student!\n"
     ]
    }
   ],
   "source": [
    "# notice how the constructor method is executed when I call Student(),\n",
    "# as evidenced by the fact that the print() inside the __init__ method runs\n",
    "luisa = Student()"
   ]
  },
  {
   "cell_type": "code",
   "execution_count": 4,
   "id": "50fad78b",
   "metadata": {},
   "outputs": [
    {
     "data": {
      "text/plain": [
       "<__main__.Student at 0x142a09760>"
      ]
     },
     "execution_count": 4,
     "metadata": {},
     "output_type": "execute_result"
    }
   ],
   "source": [
    "# Luisa is a Student\n",
    "luisa"
   ]
  },
  {
   "cell_type": "markdown",
   "id": "19084cac",
   "metadata": {},
   "source": [
    "Now let's (re)make this class more interesting by adding attributes. Attributes can be passed into the instance of the object by defining the constructor as a function of the arguments we want to pass in. Let's pass in the following attributes:\n",
    "* name (a ``string``)\n",
    "* grades (a ``numpy array`` of numbers)\n",
    "* age\n",
    "\n",
    "We do this by defining these attributes with ``self.attribute =`` in the constructor function:"
   ]
  },
  {
   "cell_type": "code",
   "execution_count": 5,
   "id": "54339ed9",
   "metadata": {},
   "outputs": [],
   "source": [
    "class Student:\n",
    "    def __init__(self, name, grades, age):\n",
    "        self.name = name\n",
    "        self.grades = grades\n",
    "        self.age = age"
   ]
  },
  {
   "cell_type": "code",
   "execution_count": 6,
   "id": "f39db865",
   "metadata": {},
   "outputs": [
    {
     "name": "stdout",
     "output_type": "stream",
     "text": [
      "[4.  3.5 3. ]\n",
      "[3.  3.5 3. ]\n"
     ]
    }
   ],
   "source": [
    "# create an instance of the class:\n",
    "luisa = Student(\"Luisa\", np.array([4.0, 3.5, 3.0]), 28)\n",
    "armond = Student(\"Armand\", np.array([3.0, 3.5, 3.0]), 23)\n",
    "# we can access thse attributes using the .:\n",
    "print(luisa.grades)\n",
    "print(armond.grades)"
   ]
  },
  {
   "cell_type": "markdown",
   "id": "353ec784",
   "metadata": {},
   "source": [
    "Attributes can also be added as functions of input data, or set within methods. Let's add an indicator for the student being over 25 (for some reason we're interested in this):"
   ]
  },
  {
   "cell_type": "code",
   "execution_count": 7,
   "id": "df318ec9",
   "metadata": {},
   "outputs": [],
   "source": [
    "class Student:\n",
    "    def __init__(self, name, grades, age):\n",
    "        self.name = name\n",
    "        self.grades = grades\n",
    "        self.age = age\n",
    "        self.over25 = (age > 25)"
   ]
  },
  {
   "cell_type": "code",
   "execution_count": 8,
   "id": "d84d8bd2",
   "metadata": {},
   "outputs": [
    {
     "name": "stdout",
     "output_type": "stream",
     "text": [
      "True\n",
      "False\n"
     ]
    }
   ],
   "source": [
    "# create an instance of the class:\n",
    "luisa = Student(\"Luisa\", np.array([4.0, 3.5, 3.0]), 28)\n",
    "armond = Student(\"Armand\", np.array([3.0, 3.5, 3.0]), 23)\n",
    "# we can access thse attributes using the .:\n",
    "print(luisa.over25)\n",
    "print(armond.over25)"
   ]
  },
  {
   "cell_type": "markdown",
   "id": "e9cd7910",
   "metadata": {},
   "source": [
    "Finally, we add in methods. Methods (usually) go _outside the constructor environment_ (unindented), as they are not created when the instance is created but rather called later. Because these \"belong\" to the class just like attributes do, we call these methods using ``instanceName.methodName()`` similar to how attributes are also accessed using ``.``. Let's write two simple methods:\n",
    "* A method that takes as an input a greeting phrase and prints ``_____, [instance name]!``.\n",
    "* A method that returns the student's GPA\n",
    "\n",
    "Note a couple things about the method below:\n",
    "* class methods are defined with ``self`` as the first argument, but this argument is omitted when the method is called.\n",
    "* Because ``self`` is passed to the methods, these have access to any methods and attributes that belong to the class."
   ]
  },
  {
   "cell_type": "code",
   "execution_count": 9,
   "id": "cb48f64c",
   "metadata": {},
   "outputs": [],
   "source": [
    "class Student:\n",
    "    def __init__(self, name, grades, age):\n",
    "        self.name = name\n",
    "        self.grades = grades\n",
    "        self.age = age\n",
    "        \n",
    "    def greeting(self, phrase):\n",
    "        print(phrase+', '+self.name+'!')\n",
    "        \n",
    "    def gpa(self):\n",
    "        return(np.mean(self.grades))"
   ]
  },
  {
   "cell_type": "code",
   "execution_count": 10,
   "id": "0afd6344",
   "metadata": {},
   "outputs": [],
   "source": [
    "luisa = Student(\"Luisa\", np.array([4.0, 3.5, 3.0]), 28)"
   ]
  },
  {
   "cell_type": "code",
   "execution_count": 11,
   "id": "7d6868e1",
   "metadata": {},
   "outputs": [
    {
     "name": "stdout",
     "output_type": "stream",
     "text": [
      "Ahoy, Luisa!\n"
     ]
    }
   ],
   "source": [
    "# call the greeting method\n",
    "luisa.greeting(\"Ahoy\")"
   ]
  },
  {
   "cell_type": "code",
   "execution_count": 12,
   "id": "b92ec45c",
   "metadata": {},
   "outputs": [
    {
     "name": "stdout",
     "output_type": "stream",
     "text": [
      "3.5\n"
     ]
    }
   ],
   "source": [
    "# calculate Luisa's GPA:\n",
    "gpa = luisa.gpa()\n",
    "print(gpa)"
   ]
  },
  {
   "cell_type": "markdown",
   "id": "9e214e95",
   "metadata": {},
   "source": [
    "Note that methods can also be called internally within the class, and can even be used to set attributes. Suppose we want to update a student's grades by adding a new set of grades to their list. We can write a method that does this as so:"
   ]
  },
  {
   "cell_type": "code",
   "execution_count": 13,
   "id": "1244ab05",
   "metadata": {},
   "outputs": [],
   "source": [
    "class Student:\n",
    "    def __init__(self, name, grades, age):\n",
    "        self.name = name\n",
    "        self.grades = grades\n",
    "        self.age = age\n",
    "        \n",
    "    def greeting(self, phrase):\n",
    "        print(phrase+', '+self.name+'!')\n",
    "        \n",
    "    def gpa(self):\n",
    "        return(np.mean(self.grades))\n",
    "    \n",
    "    def updateGrades(self, grade):\n",
    "        # append a new grade to self.grades\n",
    "        self.grades = np.append(self.grades, grade)"
   ]
  },
  {
   "cell_type": "code",
   "execution_count": 14,
   "id": "82f90bc7",
   "metadata": {},
   "outputs": [
    {
     "name": "stdout",
     "output_type": "stream",
     "text": [
      "[3. 3. 3.]\n",
      "[3. 3. 3. 4. 4.]\n"
     ]
    }
   ],
   "source": [
    "jair = Student(\"Jair\", np.array([3.0, 3.0, 3.0]), 35)\n",
    "print(jair.grades)\n",
    "\n",
    "jair.updateGrades(np.array([4.0, 4.0]))\n",
    "print(jair.grades)"
   ]
  },
  {
   "cell_type": "markdown",
   "id": "1b132c93",
   "metadata": {},
   "source": [
    "## Python classes in the wild: Random numbers\n",
    "\n",
    "Now that we have seen the basic functionality of python classes, you will notice that classes are **everywhere**. python is a multi-paradigm language, meaning it can be used to program functionally and/or used with OOP (objet-oriented programming, or basically based around classes). Many, many python packages are build around classes. \n",
    "\n",
    "A nearby example are random variable distributions from the ``scipy.stats`` module. These distributions are actually themselves instances of subclasses created from a class called ``rv_continuous`` (does your head hurt yet? Don't worry about what a subclass is yet- this comes from _inheritance_, which we are also not going to get into here). Let's take a look at one of these sub classes, ``scipy.stats.norm()`` whose documentation lives [here](https://docs.scipy.org/doc/scipy/reference/reference/generated/scipy.stats.norm.html)."
   ]
  },
  {
   "cell_type": "code",
   "execution_count": 15,
   "id": "a552bfa5",
   "metadata": {},
   "outputs": [],
   "source": [
    "# instantiate a normal distribution\n",
    "# note that passing arguments into the instantiation here is not\n",
    "# necessary; that is because there are default values for attributes\n",
    "# such as the mean and variance (sufficient statistics for this dist.)\n",
    "x = iid.norm()"
   ]
  },
  {
   "cell_type": "code",
   "execution_count": 16,
   "id": "ab06e733",
   "metadata": {},
   "outputs": [
    {
     "data": {
      "text/plain": [
       "RandomState(MT19937) at 0x1201D0940"
      ]
     },
     "execution_count": 16,
     "metadata": {},
     "output_type": "execute_result"
    }
   ],
   "source": [
    "# access an attribute: random state\n",
    "# (used to generate random numbers)\n",
    "x.random_state"
   ]
  },
  {
   "cell_type": "code",
   "execution_count": 17,
   "id": "65c8a109",
   "metadata": {},
   "outputs": [
    {
     "data": {
      "text/plain": [
       "0.0"
      ]
     },
     "execution_count": 17,
     "metadata": {},
     "output_type": "execute_result"
    }
   ],
   "source": [
    "# access a method: get the mean\n",
    "x.mean()"
   ]
  },
  {
   "cell_type": "code",
   "execution_count": 18,
   "id": "591b31c9",
   "metadata": {},
   "outputs": [
    {
     "data": {
      "text/plain": [
       "array([-0.37095558,  0.3979574 ,  0.55674233,  1.23842383,  1.30109562])"
      ]
     },
     "execution_count": 18,
     "metadata": {},
     "output_type": "execute_result"
    }
   ],
   "source": [
    "# another method: generate random numbers using the rvs() method, which takes as an\n",
    "# input the number of draws to make\n",
    "x.rvs(5)"
   ]
  },
  {
   "cell_type": "code",
   "execution_count": 19,
   "id": "75b919ab",
   "metadata": {},
   "outputs": [
    {
     "data": {
      "text/plain": [
       "5.0"
      ]
     },
     "execution_count": 19,
     "metadata": {},
     "output_type": "execute_result"
    }
   ],
   "source": [
    "# note that we can create more instances with different attributes:\n",
    "x5 = iid.norm(loc=5)\n",
    "x5.mean()"
   ]
  },
  {
   "cell_type": "markdown",
   "id": "21f7a3d2",
   "metadata": {},
   "source": [
    "## Exercise\n",
    "Use ``scipy.stats`` distributions to generate 2 vectors ``v1`` and ``v2``. Try and read the documentation for the gamma distribution [here](https://docs.scipy.org/doc/scipy/reference/generated/scipy.stats.gamma.html) to make one of these vectors distributed $\\Gamma(a), a > 0$. The documentation for the normal distribution if you want to play with that is [here](https://docs.scipy.org/doc/scipy/reference/generated/scipy.stats.norm.html#scipy.stats.norm).\n",
    "\n",
    "Plot these against eachother."
   ]
  },
  {
   "cell_type": "code",
   "execution_count": 20,
   "id": "3c8012e0",
   "metadata": {},
   "outputs": [],
   "source": [
    "# Step 1: instantiate\n",
    "\n",
    "# v1 distributed normal (5,5)\n",
    "v1 = iid.norm(loc=5,scale=5)\n",
    "# x dist. gamma(a)\n",
    "a = 2\n",
    "v2 = iid.gamma(a)"
   ]
  },
  {
   "cell_type": "code",
   "execution_count": 21,
   "id": "a9457ad5",
   "metadata": {},
   "outputs": [],
   "source": [
    "# Step 2: generate random numbers\n",
    "N = 100\n",
    "v1_draw = v1.rvs(N)\n",
    "v2_draw = v2.rvs(N)"
   ]
  },
  {
   "cell_type": "code",
   "execution_count": 22,
   "id": "93a25642",
   "metadata": {},
   "outputs": [
    {
     "data": {
      "text/plain": [
       "Text(0, 0.5, 'Y')"
      ]
     },
     "execution_count": 22,
     "metadata": {},
     "output_type": "execute_result"
    },
    {
     "data": {
      "image/png": "[encoded data removed]",
      "text/plain": [
       "<Figure size 432x288 with 1 Axes>"
      ]
     },
     "metadata": {
      "needs_background": "light"
     },
     "output_type": "display_data"
    }
   ],
   "source": [
    "# extra: plot\n",
    "import matplotlib.pyplot as plt\n",
    "\n",
    "fig, ax = plt.subplots()\n",
    "ax.scatter(v1_draw, v2_draw)\n",
    "\n",
    "ax.set_xlabel(\"X\")\n",
    "ax.set_ylabel(\"Y\")"
   ]
  },
  {
   "cell_type": "markdown",
   "id": "24315b71",
   "metadata": {},
   "source": [
    "## Building blocks of an OLS class\n",
    "Now, before defining the OLS class methods, we are going to write its methods first outside the class so that we know they are behaving properly. Our goal is to write 2 main methods:\n",
    "1. Linear projection\n",
    "    - inputs: b0, b1, x\n",
    "    - outputs: y\n",
    "2. Minimizer function: minimizes the squared distance between the linear projection and y\n",
    "\n",
    "### 1. Linear projection\n",
    "Suppose we have a vector X that is N by 2, where the first column is a column of ones, and a vector of betas: b = [b0, b1]. The projection matrix, or the matrix that predicts y, is given by $Xb$."
   ]
  },
  {
   "cell_type": "code",
   "execution_count": 23,
   "id": "c950d348",
   "metadata": {},
   "outputs": [],
   "source": [
    "def linear_projection(X, b):\n",
    "    return X@b"
   ]
  },
  {
   "cell_type": "code",
   "execution_count": 24,
   "id": "847b257e",
   "metadata": {},
   "outputs": [],
   "source": [
    "# Now let's create some data with a function that takes a true\n",
    "# value for beta, and a desired number of observ. and creates X and y\n",
    "def dataGenerator(beta, N):\n",
    "    # create an X vector\n",
    "    # note I instantiate iid.norm() and call method rvs() in the same step!\n",
    "    x = iid.norm().rvs(N)\n",
    "\n",
    "    # create a random error\n",
    "    e = iid.norm().rvs(N)\n",
    "    # add an intercept by vertically stacking x with an array of ones,\n",
    "    # then transposing\n",
    "    X = np.vstack((np.ones(N), x)).T\n",
    "    # create y\n",
    "    y = linear_projection(X, beta) + e\n",
    "    \n",
    "    return X, y"
   ]
  },
  {
   "cell_type": "code",
   "execution_count": 25,
   "id": "015798ec",
   "metadata": {},
   "outputs": [],
   "source": [
    "# create data\n",
    "beta_true = [2,8]\n",
    "N = 100\n",
    "\n",
    "X, y = dataGenerator(beta_true, N)"
   ]
  },
  {
   "cell_type": "markdown",
   "id": "7eb18f1c",
   "metadata": {},
   "source": [
    "### 2. Minimizer function\n",
    "In order to minimize, we are going to use a minimizer function from ``scipy.optimize``. The documentation for this function can be found [here](https://docs.scipy.org/doc/scipy/reference/generated/scipy.optimize.minimize.html), but the key arguments are the following:\n",
    "* ``fun``: the function to be minimized. This must be a function of only one input; if there are multiple inputs, we will \"mask\" these using lambda functions.\n",
    "* ``x0``: The start guess for the solution. In the case that the solution has a global minimum (as the least squares problem does) the choice will only affect computation time.\n",
    "\n",
    "Thus the final syntax is `minimize(fun = function(x), x0 = [start guess])`.\n",
    "\n",
    "The function returns an instance of the ``OptimizeResult`` class, which has several attributes. The only one we will be interested in for now is ``x``, the solution that solves the minimization.\n",
    "\n",
    "Let's set up a function that returns the object we want to minimize: the sum of squared errors:"
   ]
  },
  {
   "cell_type": "code",
   "execution_count": 26,
   "id": "862687dc",
   "metadata": {},
   "outputs": [],
   "source": [
    "def sse(y, X, b):\n",
    "    yhat = linear_projection(X, b)\n",
    "    sse = np.sum((yhat - y)**2)\n",
    "    return sse"
   ]
  },
  {
   "cell_type": "code",
   "execution_count": 27,
   "id": "08e28d23",
   "metadata": {},
   "outputs": [
    {
     "data": {
      "text/plain": [
       "108.80607054431852"
      ]
     },
     "execution_count": 27,
     "metadata": {},
     "output_type": "execute_result"
    }
   ],
   "source": [
    "sse(y,X,beta_true)"
   ]
  },
  {
   "cell_type": "markdown",
   "id": "059494ec",
   "metadata": {},
   "source": [
    "Now we can minimize this function, making it a function of just one variable by masking the other inputs in a lambda function:"
   ]
  },
  {
   "cell_type": "code",
   "execution_count": 28,
   "id": "bc0845f5",
   "metadata": {},
   "outputs": [],
   "source": [
    "from scipy.optimize import minimize"
   ]
  },
  {
   "cell_type": "code",
   "execution_count": 29,
   "id": "552d7c73",
   "metadata": {},
   "outputs": [
    {
     "data": {
      "text/plain": [
       "      fun: 107.45898420092033\n",
       " hess_inv: array([[0.00504554, 0.00048831],\n",
       "       [0.00048831, 0.00523639]])\n",
       "      jac: array([1.90734863e-06, 3.81469727e-06])\n",
       "  message: 'Optimization terminated successfully.'\n",
       "     nfev: 30\n",
       "      nit: 7\n",
       "     njev: 10\n",
       "   status: 0\n",
       "  success: True\n",
       "        x: array([1.92832132, 7.89980861])"
      ]
     },
     "execution_count": 29,
     "metadata": {},
     "output_type": "execute_result"
    }
   ],
   "source": [
    "# remember the syntax: \n",
    "# minimize(fun = function(x), x0 = [start guess])\n",
    "# the lambda function allows sse to be a function of only x, the other inputs\n",
    "# come from the variables X and y we already defined.\n",
    "minimize(lambda x: sse(y, X, x), x0 = [0,0])\n",
    "# as expected, we get an intercept of around 2 and a slope around 8"
   ]
  },
  {
   "cell_type": "code",
   "execution_count": 30,
   "id": "4aaf04d9",
   "metadata": {},
   "outputs": [
    {
     "data": {
      "text/plain": [
       "      fun: 99420.31521912437\n",
       " hess_inv: array([[ 5.55946807e-06, -2.95258327e-06],\n",
       "       [-2.95258327e-06,  2.22913861e-06]])\n",
       "      jac: array([-0.00097656,  0.        ])\n",
       "  message: 'Desired error not necessarily achieved due to precision loss.'\n",
       "     nfev: 51\n",
       "      nit: 8\n",
       "     njev: 17\n",
       "   status: 2\n",
       "  success: False\n",
       "        x: array([2.00741798, 8.00130185])"
      ]
     },
     "execution_count": 30,
     "metadata": {},
     "output_type": "execute_result"
    }
   ],
   "source": [
    "# let's do it again with a higher N, letting the LLN work for us!\n",
    "X, y = dataGenerator(beta_true, 100000)\n",
    "minimize(lambda x: sse(y, X, x), x0 = [0,0])\n",
    "# now it's even more accurate!"
   ]
  },
  {
   "cell_type": "markdown",
   "id": "48d77f77",
   "metadata": {},
   "source": [
    "## Creating an OLS class\n",
    "Now let's take our functions and organize them into an OLS class. This class will have attributes X and y, and methods defined by the functions above."
   ]
  },
  {
   "cell_type": "code",
   "execution_count": 31,
   "id": "2ad70bfb",
   "metadata": {},
   "outputs": [],
   "source": [
    "class OLS:\n",
    "    # constructor\n",
    "    def __init__(self, X, y):\n",
    "        # define attributes\n",
    "        self.X = X\n",
    "        self.y = y\n",
    "    \n",
    "    ##### methods\n",
    "    # linear projection\n",
    "    def linear_projection(self, b):\n",
    "        return self.X@b\n",
    "    # SSE\n",
    "    def sse(self, b):\n",
    "        yhat = linear_projection(self.X, b)\n",
    "        sse = np.sum((yhat - self.y)**2)\n",
    "        return sse\n",
    "    # minimize the SSE\n",
    "    def estimate(self, x0 = [0,0]):\n",
    "        # default initial guess of [0,0]\n",
    "        sol = minimize(self.sse, x0 = x0)\n",
    "        return sol.x"
   ]
  },
  {
   "cell_type": "markdown",
   "id": "d02832ac",
   "metadata": {},
   "source": [
    "What happened to the arguments in minimize?? Here something cool happens, and it actually starts with the `sse` function. Now that `X` and `y` are attributes of the class, the `self.see()` method knows what they are thanks to the `self` argument that is implicitly passed into it! Therefore we can call `sse()` as only a function of one argument: `b`. Here's proof:"
   ]
  },
  {
   "cell_type": "code",
   "execution_count": 32,
   "id": "ee60c0ce",
   "metadata": {},
   "outputs": [
    {
     "data": {
      "text/plain": [
       "5026120.230597598"
      ]
     },
     "execution_count": 32,
     "metadata": {},
     "output_type": "execute_result"
    }
   ],
   "source": [
    "# instantiate model\n",
    "model1 = OLS(X, y)\n",
    "\n",
    "# call sse method\n",
    "model1.sse([2,1])"
   ]
  },
  {
   "cell_type": "markdown",
   "id": "2f501ddb",
   "metadata": {},
   "source": [
    "Now that `OLS.sse()` is only a function of one argument, we can omit the arguments altogether in the minimze function, and call it just by its name, `self.sse`. It already knows that the single argument is what it is minimizing over! Let's test it:"
   ]
  },
  {
   "cell_type": "code",
   "execution_count": 33,
   "id": "9d3a25c6",
   "metadata": {},
   "outputs": [
    {
     "data": {
      "text/plain": [
       "array([2.00741798, 8.00130185])"
      ]
     },
     "execution_count": 33,
     "metadata": {},
     "output_type": "execute_result"
    }
   ],
   "source": [
    "# call the solve_OLS() method\n",
    "model1.estimate()"
   ]
  }
 ],
 "metadata": {
  "kernelspec": {
   "display_name": "Python 3 (ipykernel)",
   "language": "python",
   "name": "python3"
  },
  "language_info": {
   "codemirror_mode": {
    "name": "ipython",
    "version": 3
   },
   "file_extension": ".py",
   "mimetype": "text/x-python",
   "name": "python",
   "nbconvert_exporter": "python",
   "pygments_lexer": "ipython3",
   "version": "3.9.4"
  }
 },
 "nbformat": 4,
 "nbformat_minor": 5
}
