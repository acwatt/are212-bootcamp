{
 "cells": [
  {
   "cell_type": "markdown",
   "id": "ed999f16",
   "metadata": {},
   "source": [
    "# Day 2: A python class example\n",
    "Date: 01/05/2022\n",
    "Author: Lucy Hackett\n",
    "\n",
    "Goal: Introduce OLS as a minimum-distance estimator. We will:\n",
    "- write a very simple class example, explaining instantiation, methods, and scope\n",
    "- show how to pull from random distributions\n",
    "- create and plot x, y data\n"
   ]
  },
  {
   "cell_type": "code",
   "execution_count": 1,
   "id": "a8d28fbd",
   "metadata": {},
   "outputs": [],
   "source": [
    "# for later\n",
    "import numpy as np\n",
    "from scipy.stats import distributions as iid\n",
    "from scipy.stats import rv_continuous"
   ]
  },
  {
   "cell_type": "markdown",
   "id": "11c8c071",
   "metadata": {},
   "source": [
    "## Introduction to python classes\n",
    "python classes are objects that have attributes and methods. These objects are abstract in the sense that a class in the abstract is used to \"instantiate\" specific \"instances\" of the class. For example, here we will create a class called Student, and will create several instantiations of specific students.\n",
    "\n",
    "To define a class, we use ``class ClassName:``, followed by indented lines (convention is to name classes with upper case).\n",
    "\n",
    "Classes have 3 components:\n",
    "* **The constructor** this is a method (think: function) that creates an _instance_ of the class. This component must be present in all classes, as it is the engine that creates the object. It looks like ``def __init__(self):``\n",
    "* **Attributes** These are attributes that all instances of a class have. They can be anything, or not exist at all. For example, in a Student class, we might want student's to have attributes like a student ID, gender, age, etc. These can vary by instance of the Student class, but all instances of ``Student`` have one. If we imagine an alternative class called `Alien()`, attributes might include home planet and and number of limbs.\n",
    "* **Methods** Methods are functions that belong to a class. They may return output or not. For example, we may want to write a method that calculates the student's GPA given a series of numeric grades.\n",
    "\n",
    "The most simple class is made up of only a constructor, and the most simple constructor doesn't do anything except create an instance of the class. This looks like:"
   ]
  },
  {
   "cell_type": "code",
   "execution_count": 2,
   "id": "a1058018",
   "metadata": {},
   "outputs": [],
   "source": [
    "class Student:\n",
    "    def __init__(self):\n",
    "        # print something just to show the instance is created\n",
    "        # we don't even need this; we could also just type:\n",
    "        # pass\n",
    "        print(\"I made a student!\") "
   ]
  },
  {
   "cell_type": "code",
   "execution_count": 3,
   "id": "2219b139",
   "metadata": {},
   "outputs": [
    {
     "name": "stdout",
     "output_type": "stream",
     "text": [
      "I made a student!\n"
     ]
    }
   ],
   "source": [
    "# notice how the constructor method is executed when I call Student(),\n",
    "# as evidenced by the fact that the print() inside the __init__ method runs\n",
    "luisa = Student()"
   ]
  },
  {
   "cell_type": "code",
   "execution_count": 4,
   "id": "50fad78b",
   "metadata": {},
   "outputs": [
    {
     "data": {
      "text/plain": [
       "<__main__.Student at 0x13f86e940>"
      ]
     },
     "execution_count": 4,
     "metadata": {},
     "output_type": "execute_result"
    }
   ],
   "source": [
    "# Luisa is a Student\n",
    "luisa"
   ]
  },
  {
   "cell_type": "markdown",
   "id": "19084cac",
   "metadata": {},
   "source": [
    "Now let's (re)make this class more interesting by adding attributes. Attributes can be passed into the instance of the object by defining the constructor as a function of the arguments we want to pass in. Let's pass in the following attributes:\n",
    "* name (a ``string``)\n",
    "* grades (a ``numpy array`` of numbers)\n",
    "* age\n",
    "\n",
    "We do this by defining these attributes with ``self.attribute =`` in the constructor function:"
   ]
  },
  {
   "cell_type": "code",
   "execution_count": 5,
   "id": "54339ed9",
   "metadata": {},
   "outputs": [],
   "source": [
    "class Student:\n",
    "    def __init__(self, name, grades, age):\n",
    "        self.name = name\n",
    "        self.grades = grades\n",
    "        self.age = age"
   ]
  },
  {
   "cell_type": "code",
   "execution_count": 6,
   "id": "f39db865",
   "metadata": {},
   "outputs": [
    {
     "name": "stdout",
     "output_type": "stream",
     "text": [
      "[4.  3.5 3. ]\n",
      "[3.  3.5 3. ]\n"
     ]
    }
   ],
   "source": [
    "# create an instance of the class:\n",
    "luisa = Student(\"Luisa\", np.array([4.0, 3.5, 3.0]), 28)\n",
    "armond = Student(\"Armand\", np.array([3.0, 3.5, 3.0]), 23)\n",
    "# we can access thse attributes using the .:\n",
    "print(luisa.grades)\n",
    "print(armond.grades)"
   ]
  },
  {
   "cell_type": "markdown",
   "id": "353ec784",
   "metadata": {},
   "source": [
    "Attributes can also be added as functions of input data, or set within methods. Let's add an indicator for the student being over 25 (for some reason we're interested in this):"
   ]
  },
  {
   "cell_type": "code",
   "execution_count": 7,
   "id": "df318ec9",
   "metadata": {},
   "outputs": [],
   "source": [
    "class Student:\n",
    "    def __init__(self, name, grades, age):\n",
    "        self.name = name\n",
    "        self.grades = grades\n",
    "        self.age = age\n",
    "        self.over25 = (age > 25)"
   ]
  },
  {
   "cell_type": "code",
   "execution_count": 8,
   "id": "d84d8bd2",
   "metadata": {},
   "outputs": [
    {
     "name": "stdout",
     "output_type": "stream",
     "text": [
      "True\n",
      "False\n"
     ]
    }
   ],
   "source": [
    "# create an instance of the class:\n",
    "luisa = Student(\"Luisa\", np.array([4.0, 3.5, 3.0]), 28)\n",
    "armond = Student(\"Armand\", np.array([3.0, 3.5, 3.0]), 23)\n",
    "# we can access thse attributes using the .:\n",
    "print(luisa.over25)\n",
    "print(armond.over25)"
   ]
  },
  {
   "cell_type": "markdown",
   "id": "e9cd7910",
   "metadata": {},
   "source": [
    "Finally, we add in methods. Methods (usually) go _outside the constructor environment_ (unindented), as they are not created when the instance is created but rather called later. Because these \"belong\" to the class just like attributes do, we call these methods using ``instanceName.methodName()`` similar to how attributes are also accessed using ``.``. Let's write two simple methods:\n",
    "* A method that takes as an input a greeting phrase and prints ``_____, [instance name]!``.\n",
    "* A method that returns the student's GPA\n",
    "\n",
    "Note a couple things about the method below:\n",
    "* class methods are defined with ``self`` as the first argument, but this argument is omitted when the method is called.\n",
    "* Because ``self`` is passed to the methods, these have access to any methods and attributes that belong to the class."
   ]
  },
  {
   "cell_type": "code",
   "execution_count": 9,
   "id": "cb48f64c",
   "metadata": {},
   "outputs": [],
   "source": [
    "class Student:\n",
    "    def __init__(self, name, grades, age):\n",
    "        self.name = name\n",
    "        self.grades = grades\n",
    "        self.age = age\n",
    "        \n",
    "    def greeting(self, phrase):\n",
    "        print(phrase+', '+self.name+'!')\n",
    "        \n",
    "    def gpa(self):\n",
    "        return(np.mean(self.grades))"
   ]
  },
  {
   "cell_type": "code",
   "execution_count": 10,
   "id": "0afd6344",
   "metadata": {},
   "outputs": [],
   "source": [
    "luisa = Student(\"Luisa\", np.array([4.0, 3.5, 3.0]), 28)"
   ]
  },
  {
   "cell_type": "code",
   "execution_count": 11,
   "id": "7d6868e1",
   "metadata": {},
   "outputs": [
    {
     "name": "stdout",
     "output_type": "stream",
     "text": [
      "Ahoy, Luisa!\n"
     ]
    }
   ],
   "source": [
    "# call the greeting method\n",
    "luisa.greeting(\"Ahoy\")"
   ]
  },
  {
   "cell_type": "code",
   "execution_count": 12,
   "id": "b92ec45c",
   "metadata": {},
   "outputs": [
    {
     "name": "stdout",
     "output_type": "stream",
     "text": [
      "3.5\n"
     ]
    }
   ],
   "source": [
    "# calculate Luisa's GPA:\n",
    "gpa = luisa.gpa()\n",
    "print(gpa)"
   ]
  },
  {
   "cell_type": "markdown",
   "id": "9e214e95",
   "metadata": {},
   "source": [
    "Note that methods can also be called internally within the class, and can even be used to set attributes. Suppose we want to update a student's grades by adding a new set of grades to their list. We can write a method that does this as so:"
   ]
  },
  {
   "cell_type": "code",
   "execution_count": 13,
   "id": "1244ab05",
   "metadata": {},
   "outputs": [],
   "source": [
    "class Student:\n",
    "    def __init__(self, name, grades, age):\n",
    "        self.name = name\n",
    "        self.grades = grades\n",
    "        self.age = age\n",
    "        \n",
    "    def greeting(self, phrase):\n",
    "        print(phrase+', '+self.name+'!')\n",
    "        \n",
    "    def gpa(self):\n",
    "        return(np.mean(self.grades))\n",
    "    \n",
    "    def updateGrades(self, grade):\n",
    "        # append a new grade to self.grades\n",
    "        self.grades = np.append(self.grades, grade)"
   ]
  },
  {
   "cell_type": "code",
   "execution_count": 14,
   "id": "82f90bc7",
   "metadata": {},
   "outputs": [
    {
     "name": "stdout",
     "output_type": "stream",
     "text": [
      "[3. 3. 3.]\n",
      "[3. 3. 3. 4. 4.]\n"
     ]
    }
   ],
   "source": [
    "jair = Student(\"Jair\", np.array([3.0, 3.0, 3.0]), 35)\n",
    "print(jair.grades)\n",
    "\n",
    "jair.updateGrades(np.array([4.0, 4.0]))\n",
    "print(jair.grades)"
   ]
  },
  {
   "cell_type": "markdown",
   "id": "137d131a",
   "metadata": {},
   "source": [
    "## Scope\n",
    "\n",
    "Scope refers to where variable names \"live\" or how and when they are accessible. I like to think of scope as defining \"Do I know what x is from here?\". We saw some scope issues with regards to functions: variables defined in a function are \"visible\" or within the scope of the function, but are not visible to the global environment. Now classes give us another opportunity to talk about this important issue.\n",
    "\n",
    "I took the following directly from a tutorial on [OOP in python](https://python-textbok.readthedocs.io/en/1.0/Variables_and_Scope.html), because I think it's perfectly stated:\n",
    "\n",
    "\n",
    "_Class attributes [...] can be referenced by their bare names within the same scope, but they can also be accessed from outside this scope if we use the attribute access operator (.) on a class or an instance (an object which uses that class as its type). An attribute can also be set explicitly on an instance or class from inside a method. Attributes set on instances are called instance attributes. Class attributes are shared between all instances of a class, but each instance has its own separate instance attributes._\n",
    "\n",
    "The above can be repeated word for word for class methods. Let's try it out:"
   ]
  },
  {
   "cell_type": "code",
   "execution_count": 15,
   "id": "2d04ba55",
   "metadata": {},
   "outputs": [
    {
     "name": "stdout",
     "output_type": "stream",
     "text": [
      "name 'grades' is not defined\n"
     ]
    }
   ],
   "source": [
    "jair.grades\n",
    "\n",
    "try:\n",
    "    print(grades)\n",
    "except Exception as e: print(e)"
   ]
  },
  {
   "cell_type": "code",
   "execution_count": 16,
   "id": "b282f180",
   "metadata": {},
   "outputs": [
    {
     "name": "stdout",
     "output_type": "stream",
     "text": [
      "name 'grades' is not defined\n"
     ]
    }
   ],
   "source": [
    "class Student:\n",
    "    def __init__(self, name, grades, age):\n",
    "        self.name = name\n",
    "        self.grades = grades\n",
    "        self.age = age\n",
    "        \n",
    "    def greeting(self, phrase):\n",
    "        print(phrase+', '+self.name+'!')\n",
    "        \n",
    "    def gpa(self):\n",
    "        return(np.mean(self.grades))\n",
    "    \n",
    "    def updateGrades(self, grade):\n",
    "        self.grades = np.append(self.grades, grade)\n",
    "        \n",
    "    ## here I am going to cause problems!! \n",
    "    ## Can you tell why?    \n",
    "    def printGrades(self):\n",
    "        print(grades)\n",
    "        \n",
    "jimmy = Student(\"Jimmy\", [2,2,3], 40)\n",
    "try: \n",
    "    jimmy.printGrades()\n",
    "except Exception as e: print(e)"
   ]
  },
  {
   "cell_type": "markdown",
   "id": "af6fb825",
   "metadata": {},
   "source": [
    "### Aside on Properties: A special kind of attribute\n",
    "You will likely see the word \"property\" around when you look at classes in python packages. Properties are special kinds of attributes that are more controlled because they need to be set/modified via special functions, which allows you to protect the attribute. To get a sense of why you might want to protect attributes, consider the following set of manipulations of our student class:"
   ]
  },
  {
   "cell_type": "code",
   "execution_count": 17,
   "id": "6241c2fb",
   "metadata": {},
   "outputs": [
    {
     "name": "stdout",
     "output_type": "stream",
     "text": [
      "Luisa\n",
      "Hola, Fred!\n"
     ]
    }
   ],
   "source": [
    "print(luisa.name)\n",
    "luisa.name = \"Fred\"\n",
    "luisa.greeting(\"Hola\")"
   ]
  },
  {
   "cell_type": "markdown",
   "id": "e8d9e89b",
   "metadata": {},
   "source": [
    "This is probably not desireable; the name seems like a fundamental attribute of the instance that we might want to make a little more difficult to change to avoid accidents that cause unexpected behavior. This is where properties come in; as [this page](https://realpython.com/python-property/) explains, properties are \"attributes that behave like methods\", so they are not as manipulable as normal attributes. Specifically, properties have at least one of 3 methods: ``__get__, __set__, __delete__``. That's as far as I will go on them here; the main goal of this information is that you will not be confused when you read documentation that references properties."
   ]
  },
  {
   "cell_type": "markdown",
   "id": "1b132c93",
   "metadata": {},
   "source": [
    "## Python classes in the wild: Random numbers\n",
    "\n",
    "Now that we have seen the basic functionality of python classes, you will notice that classes are **everywhere**. python is a multi-paradigm language, meaning it can be used to program functionally and/or used with OOP (objet-oriented programming, or basically based around classes). Many, many python packages are build around classes. \n",
    "\n",
    "A nearby example are random variable distributions from the ``scipy.stats`` module. These distributions are actually themselves instances of subclasses created from a class called ``rv_continuous`` (does your head hurt yet? Don't worry about what a subclass is yet- this comes from _inheritance_, which we are also not going to get into here). Let's take a look at one of these sub classes, ``scipy.stats.norm()`` whose documentation lives [here](https://docs.scipy.org/doc/scipy/reference/reference/generated/scipy.stats.norm.html)."
   ]
  },
  {
   "cell_type": "code",
   "execution_count": 18,
   "id": "a552bfa5",
   "metadata": {},
   "outputs": [],
   "source": [
    "# instantiate a normal distribution\n",
    "# note that passing arguments into the instantiation here is not\n",
    "# necessary; that is because there are default values for attributes\n",
    "# such as the mean and variance (sufficient statistics for this dist.)\n",
    "x = iid.norm()"
   ]
  },
  {
   "cell_type": "code",
   "execution_count": 19,
   "id": "ab06e733",
   "metadata": {},
   "outputs": [
    {
     "data": {
      "text/plain": [
       "RandomState(MT19937) at 0x125140940"
      ]
     },
     "execution_count": 19,
     "metadata": {},
     "output_type": "execute_result"
    }
   ],
   "source": [
    "# access an attribute: random state\n",
    "# (used to generate random numbers)\n",
    "x.random_state"
   ]
  },
  {
   "cell_type": "code",
   "execution_count": 20,
   "id": "65c8a109",
   "metadata": {},
   "outputs": [
    {
     "data": {
      "text/plain": [
       "0.0"
      ]
     },
     "execution_count": 20,
     "metadata": {},
     "output_type": "execute_result"
    }
   ],
   "source": [
    "# access a method: get the mean\n",
    "x.mean()"
   ]
  },
  {
   "cell_type": "code",
   "execution_count": 21,
   "id": "591b31c9",
   "metadata": {},
   "outputs": [
    {
     "data": {
      "text/plain": [
       "array([-0.70060549, -1.29397098, -0.01676995,  0.86765541,  0.23135823])"
      ]
     },
     "execution_count": 21,
     "metadata": {},
     "output_type": "execute_result"
    }
   ],
   "source": [
    "# another method: generate random numbers using the rvs() method, which takes as an\n",
    "# input the number of draws to make\n",
    "x.rvs(5)"
   ]
  },
  {
   "cell_type": "code",
   "execution_count": 22,
   "id": "75b919ab",
   "metadata": {},
   "outputs": [
    {
     "data": {
      "text/plain": [
       "5.0"
      ]
     },
     "execution_count": 22,
     "metadata": {},
     "output_type": "execute_result"
    }
   ],
   "source": [
    "# note that we can create more instances with different attributes:\n",
    "x5 = iid.norm(loc=5)\n",
    "x5.mean()"
   ]
  },
  {
   "cell_type": "markdown",
   "id": "21f7a3d2",
   "metadata": {},
   "source": [
    "## Exercise\n",
    "Use ``scipy.stats`` distributions to generate 2 vectors ``v1`` and ``v2``. Try and read the documentation for the gamma distribution [here](https://docs.scipy.org/doc/scipy/reference/generated/scipy.stats.gamma.html) to make one of these vectors distributed $\\Gamma(a)$ for some $a > 0$. The documentation for the normal distribution if you want to play with that is [here](https://docs.scipy.org/doc/scipy/reference/generated/scipy.stats.norm.html#scipy.stats.norm).\n",
    "\n",
    "Plot these against eachother."
   ]
  },
  {
   "cell_type": "code",
   "execution_count": 23,
   "id": "3c8012e0",
   "metadata": {},
   "outputs": [],
   "source": [
    "# Step 1: instantiate\n"
   ]
  },
  {
   "cell_type": "code",
   "execution_count": 24,
   "id": "a9457ad5",
   "metadata": {},
   "outputs": [],
   "source": [
    "# Step 2: generate random numbers\n"
   ]
  },
  {
   "cell_type": "code",
   "execution_count": 25,
   "id": "93a25642",
   "metadata": {},
   "outputs": [
    {
     "data": {
      "text/plain": [
       "Text(0, 0.5, 'Y')"
      ]
     },
     "execution_count": 25,
     "metadata": {},
     "output_type": "execute_result"
    },
    {
     "data": {
      "image/png": "[encoded data removed]",
      "text/plain": [
       "<Figure size 432x288 with 1 Axes>"
      ]
     },
     "metadata": {
      "needs_background": "light"
     },
     "output_type": "display_data"
    }
   ],
   "source": [
    "# extra: plot\n",
    "import matplotlib.pyplot as plt\n",
    "\n",
    "fig, ax = plt.subplots()\n",
    "ax.scatter()\n",
    "\n",
    "ax.set_xlabel(\"X\")\n",
    "ax.set_ylabel(\"Y\")"
   ]
  },
  {
   "cell_type": "markdown",
   "id": "f638c660",
   "metadata": {},
   "source": [
    "## Python classes in the wild: OLS\n",
    "\n",
    "There are several canned python packages that calculate OLS with most any kind of standard errors, etc. you could want! Which package you use is up to you; here is a brief and not at all exhaustive list of some of the packages I am familiar with to varying degrees:\n",
    "* ``statsmodels``: A flexible syntax for regressions that allows you to define inputs in an equation syntax like in R, or as a function of matrices. [Here](https://www.vincentgregoire.com/standard-errors-in-python/) is a great guide to doing different types of standard errors in OLS.\n",
    "* [```fastreg```](https://github.com/iamlemec/fastreg): Good for high-dimentional fixed effects, basic clustering capability\n",
    "* ``numpy.linalg.lstsq``: An extremeley fast method directly in numpy for doing the matrix algebra that solves OLS.\n",
    "\n",
    "To focus on using and manipulating python classes, we will be using the statsmodels package. Before starting, we can look at the documentation [here](https://www.statsmodels.org/dev/generated/statsmodels.formula.api.ols.html#statsmodels.formula.api.ols). I want us to notice what the formula _returns_: \"``model`` a model instance\". This means that the function instantiates a ``Model`` class! Let's try it."
   ]
  },
  {
   "cell_type": "code",
   "execution_count": 26,
   "id": "2626549d",
   "metadata": {},
   "outputs": [],
   "source": [
    "# for loading some data from the internet\n",
    "from sklearn.datasets import fetch_california_housing\n",
    "# for OLS\n",
    "import statsmodels.formula.api as sm"
   ]
  },
  {
   "cell_type": "code",
   "execution_count": 27,
   "id": "01e705fc",
   "metadata": {},
   "outputs": [],
   "source": [
    "# Load data (will download the data if it's the first time loading)\n",
    "housing = fetch_california_housing(as_frame=True)\n",
    "# Create a dataframe\n",
    "df = housing['data'].join(housing['target'])"
   ]
  },
  {
   "cell_type": "code",
   "execution_count": 28,
   "id": "bbb1c75e",
   "metadata": {},
   "outputs": [
    {
     "data": {
      "text/html": [
       "<div>\n",
       "<style scoped>\n",
       "    .dataframe tbody tr th:only-of-type {\n",
       "        vertical-align: middle;\n",
       "    }\n",
       "\n",
       "    .dataframe tbody tr th {\n",
       "        vertical-align: top;\n",
       "    }\n",
       "\n",
       "    .dataframe thead th {\n",
       "        text-align: right;\n",
       "    }\n",
       "</style>\n",
       "<table border=\"1\" class=\"dataframe\">\n",
       "  <thead>\n",
       "    <tr style=\"text-align: right;\">\n",
       "      <th></th>\n",
       "      <th>MedInc</th>\n",
       "      <th>HouseAge</th>\n",
       "      <th>AveRooms</th>\n",
       "      <th>AveBedrms</th>\n",
       "      <th>Population</th>\n",
       "      <th>AveOccup</th>\n",
       "      <th>Latitude</th>\n",
       "      <th>Longitude</th>\n",
       "      <th>MedHouseVal</th>\n",
       "    </tr>\n",
       "  </thead>\n",
       "  <tbody>\n",
       "    <tr>\n",
       "      <th>0</th>\n",
       "      <td>8.3252</td>\n",
       "      <td>41.0</td>\n",
       "      <td>6.984127</td>\n",
       "      <td>1.023810</td>\n",
       "      <td>322.0</td>\n",
       "      <td>2.555556</td>\n",
       "      <td>37.88</td>\n",
       "      <td>-122.23</td>\n",
       "      <td>4.526</td>\n",
       "    </tr>\n",
       "    <tr>\n",
       "      <th>1</th>\n",
       "      <td>8.3014</td>\n",
       "      <td>21.0</td>\n",
       "      <td>6.238137</td>\n",
       "      <td>0.971880</td>\n",
       "      <td>2401.0</td>\n",
       "      <td>2.109842</td>\n",
       "      <td>37.86</td>\n",
       "      <td>-122.22</td>\n",
       "      <td>3.585</td>\n",
       "    </tr>\n",
       "    <tr>\n",
       "      <th>2</th>\n",
       "      <td>7.2574</td>\n",
       "      <td>52.0</td>\n",
       "      <td>8.288136</td>\n",
       "      <td>1.073446</td>\n",
       "      <td>496.0</td>\n",
       "      <td>2.802260</td>\n",
       "      <td>37.85</td>\n",
       "      <td>-122.24</td>\n",
       "      <td>3.521</td>\n",
       "    </tr>\n",
       "    <tr>\n",
       "      <th>3</th>\n",
       "      <td>5.6431</td>\n",
       "      <td>52.0</td>\n",
       "      <td>5.817352</td>\n",
       "      <td>1.073059</td>\n",
       "      <td>558.0</td>\n",
       "      <td>2.547945</td>\n",
       "      <td>37.85</td>\n",
       "      <td>-122.25</td>\n",
       "      <td>3.413</td>\n",
       "    </tr>\n",
       "    <tr>\n",
       "      <th>4</th>\n",
       "      <td>3.8462</td>\n",
       "      <td>52.0</td>\n",
       "      <td>6.281853</td>\n",
       "      <td>1.081081</td>\n",
       "      <td>565.0</td>\n",
       "      <td>2.181467</td>\n",
       "      <td>37.85</td>\n",
       "      <td>-122.25</td>\n",
       "      <td>3.422</td>\n",
       "    </tr>\n",
       "  </tbody>\n",
       "</table>\n",
       "</div>"
      ],
      "text/plain": [
       "   MedInc  HouseAge  AveRooms  AveBedrms  Population  AveOccup  Latitude  \\\n",
       "0  8.3252      41.0  6.984127   1.023810       322.0  2.555556     37.88   \n",
       "1  8.3014      21.0  6.238137   0.971880      2401.0  2.109842     37.86   \n",
       "2  7.2574      52.0  8.288136   1.073446       496.0  2.802260     37.85   \n",
       "3  5.6431      52.0  5.817352   1.073059       558.0  2.547945     37.85   \n",
       "4  3.8462      52.0  6.281853   1.081081       565.0  2.181467     37.85   \n",
       "\n",
       "   Longitude  MedHouseVal  \n",
       "0    -122.23        4.526  \n",
       "1    -122.22        3.585  \n",
       "2    -122.24        3.521  \n",
       "3    -122.25        3.413  \n",
       "4    -122.25        3.422  "
      ]
     },
     "execution_count": 28,
     "metadata": {},
     "output_type": "execute_result"
    }
   ],
   "source": [
    "df.head()"
   ]
  },
  {
   "cell_type": "markdown",
   "id": "7502ca44",
   "metadata": {},
   "source": [
    "Let's instantiate. Again, practicing reading documentation: The two input fields of ``sm.ols`` that do not have a default (i.e., that we have to pass) are a ``formula`` and ``data``."
   ]
  },
  {
   "cell_type": "code",
   "execution_count": 29,
   "id": "e4e9cf18",
   "metadata": {},
   "outputs": [],
   "source": [
    "reg = sm.ols(\"MedHouseVal ~ MedInc + Population + HouseAge + AveRooms\",\n",
    "             df)"
   ]
  },
  {
   "cell_type": "code",
   "execution_count": 30,
   "id": "4f94d28f",
   "metadata": {},
   "outputs": [
    {
     "data": {
      "text/plain": [
       "<statsmodels.regression.linear_model.OLS at 0x140ca8e80>"
      ]
     },
     "execution_count": 30,
     "metadata": {},
     "output_type": "execute_result"
    }
   ],
   "source": [
    "# reg is an OLS class! \n",
    "reg"
   ]
  },
  {
   "cell_type": "markdown",
   "id": "db7ea589",
   "metadata": {},
   "source": [
    "You can check out the [documentation](https://www.statsmodels.org/devel/dev/generated/statsmodels.base.model.Model.html#statsmodels.base.model.Model) of the ``Model`` class to see the methods and attributes of this class. The main method we want is ``fit()``, which actually fits OLS to the data we have given the class. This will return a new class, check this one out [here](https://www.statsmodels.org/devel/generated/statsmodels.regression.linear_model.RegressionResults.html). I've summarized some of the key attributes and methods here:\n",
    "\n",
    "Attributes/properties\n",
    "- ``params``: estimated parameters\n",
    "- ``df_resid``: degrees of freedome\n",
    "- ``cov_type``: type of SE's used\n",
    "- ``HC0_se``: White robust SEs\n",
    "- ``fittedvalues``: predicted values ``X@b``\n",
    "- ``rsquared_adj``: Adjusted $R^2$\n",
    "\n",
    "... and many more!\n",
    "\n",
    "Methods\n",
    "- ``cov_params()``: calculate variance matrix; returns ``pd.DataFrame()``\n",
    "- ``summary()``: Return summary of results\n",
    "- ``t_test(r_matrix[, cov_p, use_t])``: conduct a t-test using the R matrix from Sofia's half"
   ]
  },
  {
   "cell_type": "code",
   "execution_count": 31,
   "id": "cb776cc7",
   "metadata": {},
   "outputs": [
    {
     "data": {
      "text/plain": [
       "<statsmodels.regression.linear_model.RegressionResultsWrapper at 0x13f886c10>"
      ]
     },
     "execution_count": 31,
     "metadata": {},
     "output_type": "execute_result"
    }
   ],
   "source": [
    "# instantiate the RegressionResultsWrapper class\n",
    "reg_fitted = reg.fit()\n",
    "reg_fitted"
   ]
  },
  {
   "cell_type": "code",
   "execution_count": 32,
   "id": "122f4bdb",
   "metadata": {},
   "outputs": [
    {
     "name": "stdout",
     "output_type": "stream",
     "text": [
      "0.5125450931389952\n"
     ]
    },
    {
     "data": {
      "text/html": [
       "<div>\n",
       "<style scoped>\n",
       "    .dataframe tbody tr th:only-of-type {\n",
       "        vertical-align: middle;\n",
       "    }\n",
       "\n",
       "    .dataframe tbody tr th {\n",
       "        vertical-align: top;\n",
       "    }\n",
       "\n",
       "    .dataframe thead th {\n",
       "        text-align: right;\n",
       "    }\n",
       "</style>\n",
       "<table border=\"1\" class=\"dataframe\">\n",
       "  <thead>\n",
       "    <tr style=\"text-align: right;\">\n",
       "      <th></th>\n",
       "      <th>Intercept</th>\n",
       "      <th>MedInc</th>\n",
       "      <th>Population</th>\n",
       "      <th>HouseAge</th>\n",
       "      <th>AveRooms</th>\n",
       "    </tr>\n",
       "  </thead>\n",
       "  <tbody>\n",
       "    <tr>\n",
       "      <th>Intercept</th>\n",
       "      <td>6.565416e-04</td>\n",
       "      <td>-2.772584e-05</td>\n",
       "      <td>-6.889401e-08</td>\n",
       "      <td>-8.930335e-06</td>\n",
       "      <td>-3.017282e-05</td>\n",
       "    </tr>\n",
       "    <tr>\n",
       "      <th>MedInc</th>\n",
       "      <td>-2.772584e-05</td>\n",
       "      <td>9.810171e-06</td>\n",
       "      <td>-1.236640e-10</td>\n",
       "      <td>1.010278e-07</td>\n",
       "      <td>-2.387772e-06</td>\n",
       "    </tr>\n",
       "    <tr>\n",
       "      <th>Population</th>\n",
       "      <td>-6.889401e-08</td>\n",
       "      <td>-1.236640e-10</td>\n",
       "      <td>2.730805e-11</td>\n",
       "      <td>7.719818e-10</td>\n",
       "      <td>1.535553e-09</td>\n",
       "    </tr>\n",
       "    <tr>\n",
       "      <th>HouseAge</th>\n",
       "      <td>-8.930335e-06</td>\n",
       "      <td>1.010278e-07</td>\n",
       "      <td>7.719818e-10</td>\n",
       "      <td>2.262686e-07</td>\n",
       "      <td>1.765759e-07</td>\n",
       "    </tr>\n",
       "    <tr>\n",
       "      <th>AveRooms</th>\n",
       "      <td>-3.017282e-05</td>\n",
       "      <td>-2.387772e-06</td>\n",
       "      <td>1.535553e-09</td>\n",
       "      <td>1.765759e-07</td>\n",
       "      <td>5.925430e-06</td>\n",
       "    </tr>\n",
       "  </tbody>\n",
       "</table>\n",
       "</div>"
      ],
      "text/plain": [
       "               Intercept        MedInc    Population      HouseAge  \\\n",
       "Intercept   6.565416e-04 -2.772584e-05 -6.889401e-08 -8.930335e-06   \n",
       "MedInc     -2.772584e-05  9.810171e-06 -1.236640e-10  1.010278e-07   \n",
       "Population -6.889401e-08 -1.236640e-10  2.730805e-11  7.719818e-10   \n",
       "HouseAge   -8.930335e-06  1.010278e-07  7.719818e-10  2.262686e-07   \n",
       "AveRooms   -3.017282e-05 -2.387772e-06  1.535553e-09  1.765759e-07   \n",
       "\n",
       "                AveRooms  \n",
       "Intercept  -3.017282e-05  \n",
       "MedInc     -2.387772e-06  \n",
       "Population  1.535553e-09  \n",
       "HouseAge    1.765759e-07  \n",
       "AveRooms    5.925430e-06  "
      ]
     },
     "execution_count": 32,
     "metadata": {},
     "output_type": "execute_result"
    }
   ],
   "source": [
    "# Check out some attributes, methods\n",
    "print(reg_fitted.rsquared_adj)\n",
    "reg_fitted.cov_params()"
   ]
  },
  {
   "cell_type": "code",
   "execution_count": 33,
   "id": "c75c7717",
   "metadata": {},
   "outputs": [
    {
     "data": {
      "text/html": [
       "<table class=\"simpletable\">\n",
       "<caption>OLS Regression Results</caption>\n",
       "<tr>\n",
       "  <th>Dep. Variable:</th>       <td>MedHouseVal</td>   <th>  R-squared:         </th> <td>   0.513</td> \n",
       "</tr>\n",
       "<tr>\n",
       "  <th>Model:</th>                   <td>OLS</td>       <th>  Adj. R-squared:    </th> <td>   0.513</td> \n",
       "</tr>\n",
       "<tr>\n",
       "  <th>Method:</th>             <td>Least Squares</td>  <th>  F-statistic:       </th> <td>   5426.</td> \n",
       "</tr>\n",
       "<tr>\n",
       "  <th>Date:</th>             <td>Thu, 03 Mar 2022</td> <th>  Prob (F-statistic):</th>  <td>  0.00</td>  \n",
       "</tr>\n",
       "<tr>\n",
       "  <th>Time:</th>                 <td>08:59:12</td>     <th>  Log-Likelihood:    </th> <td> -24824.</td> \n",
       "</tr>\n",
       "<tr>\n",
       "  <th>No. Observations:</th>      <td> 20640</td>      <th>  AIC:               </th> <td>4.966e+04</td>\n",
       "</tr>\n",
       "<tr>\n",
       "  <th>Df Residuals:</th>          <td> 20635</td>      <th>  BIC:               </th> <td>4.970e+04</td>\n",
       "</tr>\n",
       "<tr>\n",
       "  <th>Df Model:</th>              <td>     4</td>      <th>                     </th>     <td> </td>    \n",
       "</tr>\n",
       "<tr>\n",
       "  <th>Covariance Type:</th>      <td>nonrobust</td>    <th>                     </th>     <td> </td>    \n",
       "</tr>\n",
       "</table>\n",
       "<table class=\"simpletable\">\n",
       "<tr>\n",
       "       <td></td>         <th>coef</th>     <th>std err</th>      <th>t</th>      <th>P>|t|</th>  <th>[0.025</th>    <th>0.975]</th>  \n",
       "</tr>\n",
       "<tr>\n",
       "  <th>Intercept</th>  <td>   -0.0425</td> <td>    0.026</td> <td>   -1.659</td> <td> 0.097</td> <td>   -0.093</td> <td>    0.008</td>\n",
       "</tr>\n",
       "<tr>\n",
       "  <th>MedInc</th>     <td>    0.4427</td> <td>    0.003</td> <td>  141.326</td> <td> 0.000</td> <td>    0.437</td> <td>    0.449</td>\n",
       "</tr>\n",
       "<tr>\n",
       "  <th>Population</th> <td> 2.493e-05</td> <td> 5.23e-06</td> <td>    4.771</td> <td> 0.000</td> <td> 1.47e-05</td> <td> 3.52e-05</td>\n",
       "</tr>\n",
       "<tr>\n",
       "  <th>HouseAge</th>   <td>    0.0175</td> <td>    0.000</td> <td>   36.846</td> <td> 0.000</td> <td>    0.017</td> <td>    0.018</td>\n",
       "</tr>\n",
       "<tr>\n",
       "  <th>AveRooms</th>   <td>   -0.0258</td> <td>    0.002</td> <td>  -10.579</td> <td> 0.000</td> <td>   -0.031</td> <td>   -0.021</td>\n",
       "</tr>\n",
       "</table>\n",
       "<table class=\"simpletable\">\n",
       "<tr>\n",
       "  <th>Omnibus:</th>       <td>4429.223</td> <th>  Durbin-Watson:     </th> <td>   0.807</td> \n",
       "</tr>\n",
       "<tr>\n",
       "  <th>Prob(Omnibus):</th>  <td> 0.000</td>  <th>  Jarque-Bera (JB):  </th> <td>11666.143</td>\n",
       "</tr>\n",
       "<tr>\n",
       "  <th>Skew:</th>           <td> 1.160</td>  <th>  Prob(JB):          </th> <td>    0.00</td> \n",
       "</tr>\n",
       "<tr>\n",
       "  <th>Kurtosis:</th>       <td> 5.860</td>  <th>  Cond. No.          </th> <td>8.34e+03</td> \n",
       "</tr>\n",
       "</table><br/><br/>Notes:<br/>[1] Standard Errors assume that the covariance matrix of the errors is correctly specified.<br/>[2] The condition number is large, 8.34e+03. This might indicate that there are<br/>strong multicollinearity or other numerical problems."
      ],
      "text/plain": [
       "<class 'statsmodels.iolib.summary.Summary'>\n",
       "\"\"\"\n",
       "                            OLS Regression Results                            \n",
       "==============================================================================\n",
       "Dep. Variable:            MedHouseVal   R-squared:                       0.513\n",
       "Model:                            OLS   Adj. R-squared:                  0.513\n",
       "Method:                 Least Squares   F-statistic:                     5426.\n",
       "Date:                Thu, 03 Mar 2022   Prob (F-statistic):               0.00\n",
       "Time:                        08:59:12   Log-Likelihood:                -24824.\n",
       "No. Observations:               20640   AIC:                         4.966e+04\n",
       "Df Residuals:                   20635   BIC:                         4.970e+04\n",
       "Df Model:                           4                                         \n",
       "Covariance Type:            nonrobust                                         \n",
       "==============================================================================\n",
       "                 coef    std err          t      P>|t|      [0.025      0.975]\n",
       "------------------------------------------------------------------------------\n",
       "Intercept     -0.0425      0.026     -1.659      0.097      -0.093       0.008\n",
       "MedInc         0.4427      0.003    141.326      0.000       0.437       0.449\n",
       "Population  2.493e-05   5.23e-06      4.771      0.000    1.47e-05    3.52e-05\n",
       "HouseAge       0.0175      0.000     36.846      0.000       0.017       0.018\n",
       "AveRooms      -0.0258      0.002    -10.579      0.000      -0.031      -0.021\n",
       "==============================================================================\n",
       "Omnibus:                     4429.223   Durbin-Watson:                   0.807\n",
       "Prob(Omnibus):                  0.000   Jarque-Bera (JB):            11666.143\n",
       "Skew:                           1.160   Prob(JB):                         0.00\n",
       "Kurtosis:                       5.860   Cond. No.                     8.34e+03\n",
       "==============================================================================\n",
       "\n",
       "Notes:\n",
       "[1] Standard Errors assume that the covariance matrix of the errors is correctly specified.\n",
       "[2] The condition number is large, 8.34e+03. This might indicate that there are\n",
       "strong multicollinearity or other numerical problems.\n",
       "\"\"\""
      ]
     },
     "execution_count": 33,
     "metadata": {},
     "output_type": "execute_result"
    }
   ],
   "source": [
    "reg_fitted.summary()"
   ]
  }
 ],
 "metadata": {
  "kernelspec": {
   "display_name": "Python 3 (ipykernel)",
   "language": "python",
   "name": "python3"
  },
  "language_info": {
   "codemirror_mode": {
    "name": "ipython",
    "version": 3
   },
   "file_extension": ".py",
   "mimetype": "text/x-python",
   "name": "python",
   "nbconvert_exporter": "python",
   "pygments_lexer": "ipython3",
   "version": "3.9.4"
  }
 },
 "nbformat": 4,
 "nbformat_minor": 5
}
